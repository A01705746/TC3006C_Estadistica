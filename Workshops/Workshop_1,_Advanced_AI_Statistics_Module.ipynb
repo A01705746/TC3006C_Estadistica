{
  "nbformat": 4,
  "nbformat_minor": 0,
  "metadata": {
    "colab": {
      "name": "Workshop 1, Advanced AI - Statistics Module.ipynb",
      "provenance": [],
      "collapsed_sections": []
    },
    "kernelspec": {
      "name": "python3",
      "display_name": "Python 3"
    },
    "language_info": {
      "name": "python"
    }
  },
  "cells": [
    {
      "cell_type": "markdown",
      "source": [
        "**Workshop 1, Enrique Santos Fraire, 09/08/2022**"
      ],
      "metadata": {
        "id": "LHpKnNnCN8m9"
      }
    },
    {
      "cell_type": "markdown",
      "source": [
        "Instructions:\n",
        "\n",
        "*   You have to REPLICATE and RUN all the Python code, and\n",
        "\n",
        "*   DO ALL CHALLENGES stated in sections. These challenges can be Python code or just responding QUESTIONS with your own words and in CAPITAL LETTERS. You have to WRITE CLEARLY so that I can see your LINE OF THINKING!\n",
        "\n",
        "The submissions of your workshops is a REQUISITE for grading your 2 final deliverable documents of the Statistics Module.\n",
        "\n",
        "I strongly recommended you to write your OWN NOTES about the topics as if it were your study NOTEBOOK."
      ],
      "metadata": {
        "id": "iDMYJsi6OdZD"
      }
    },
    {
      "cell_type": "markdown",
      "source": [
        "**2 Descriptive statistics**\n",
        "\n",
        "Medidas de tendencia central, el propósito es resumir datos crudos con algo que represente a todas las observaciones.\n",
        "\n",
        "Mediana: 50 percentil\n",
        "\n",
        "La mejor medida de tendencia central es la mediana, dada la distribución normal. Lo esperado es que la mayor parte de los valores de la variable se encuentren alrededro de la media, sin embargo, hay veces donde la variable no sigue una distribución de probabilidad, muchas veces existe un \"skewed\" to the right/left.\n",
        "\n",
        "Esto hace que la media pierda valor dada esta inclinación, pues puede haber muy pocas variables que tengan valores extremadamente altos, la media es muy sensible a los valores extremos, por lo que la mediana nos da una mejor representación de la \"media\" de una variable.\n",
        "\n",
        "Medidas de dispersión:\n",
        "*   Varianza: Avg of squared dev from mean\n",
        "    *   Promedio de la diferencia de cada valor de x menos su promedio al cuadrado (x - promedio de x)^2\n",
        "*   Desviación estándar: Avg of dev from mean\n",
        "*   Percentiles\n",
        "*   Value at risk\n",
        "\n",
        "**Good measures for firm size**\n",
        "\n",
        "Total assets = book value\n",
        "\n",
        "Market value"
      ],
      "metadata": {
        "id": "vF6XSZv7RFJA"
      }
    },
    {
      "cell_type": "markdown",
      "source": [
        "**2.3 CHALLENGE: Data management and Descriptive Statistics**\n",
        "\n",
        "*2.3.1 Data collection and visualization*\n",
        "\n",
        "Import the following Python libraries:"
      ],
      "metadata": {
        "id": "MAOp9WohTWKW"
      }
    },
    {
      "cell_type": "code",
      "source": [
        "import numpy as np\n",
        "import pandas as pd\n",
        "import pandas_datareader as pdr\n",
        "\n",
        "# Upgrade libraries\n",
        "!pip install --upgrade pandas\n",
        "!pip install --upgrade pandas-datareader"
      ],
      "metadata": {
        "id": "Pr7bUbnDTxpd",
        "colab": {
          "base_uri": "https://localhost:8080/"
        },
        "outputId": "2874d014-4c26-45fe-88bc-27c074e98877"
      },
      "execution_count": 2,
      "outputs": [
        {
          "output_type": "stream",
          "name": "stdout",
          "text": [
            "Looking in indexes: https://pypi.org/simple, https://us-python.pkg.dev/colab-wheels/public/simple/\n",
            "Requirement already satisfied: pandas in /usr/local/lib/python3.7/dist-packages (1.3.5)\n",
            "Requirement already satisfied: pytz>=2017.3 in /usr/local/lib/python3.7/dist-packages (from pandas) (2022.2.1)\n",
            "Requirement already satisfied: python-dateutil>=2.7.3 in /usr/local/lib/python3.7/dist-packages (from pandas) (2.8.2)\n",
            "Requirement already satisfied: numpy>=1.17.3 in /usr/local/lib/python3.7/dist-packages (from pandas) (1.21.6)\n",
            "Requirement already satisfied: six>=1.5 in /usr/local/lib/python3.7/dist-packages (from python-dateutil>=2.7.3->pandas) (1.15.0)\n",
            "Looking in indexes: https://pypi.org/simple, https://us-python.pkg.dev/colab-wheels/public/simple/\n",
            "Requirement already satisfied: pandas-datareader in /usr/local/lib/python3.7/dist-packages (0.10.0)\n",
            "Requirement already satisfied: pandas>=0.23 in /usr/local/lib/python3.7/dist-packages (from pandas-datareader) (1.3.5)\n",
            "Requirement already satisfied: requests>=2.19.0 in /usr/local/lib/python3.7/dist-packages (from pandas-datareader) (2.23.0)\n",
            "Requirement already satisfied: lxml in /usr/local/lib/python3.7/dist-packages (from pandas-datareader) (4.9.1)\n",
            "Requirement already satisfied: pytz>=2017.3 in /usr/local/lib/python3.7/dist-packages (from pandas>=0.23->pandas-datareader) (2022.2.1)\n",
            "Requirement already satisfied: numpy>=1.17.3 in /usr/local/lib/python3.7/dist-packages (from pandas>=0.23->pandas-datareader) (1.21.6)\n",
            "Requirement already satisfied: python-dateutil>=2.7.3 in /usr/local/lib/python3.7/dist-packages (from pandas>=0.23->pandas-datareader) (2.8.2)\n",
            "Requirement already satisfied: six>=1.5 in /usr/local/lib/python3.7/dist-packages (from python-dateutil>=2.7.3->pandas>=0.23->pandas-datareader) (1.15.0)\n",
            "Requirement already satisfied: chardet<4,>=3.0.2 in /usr/local/lib/python3.7/dist-packages (from requests>=2.19.0->pandas-datareader) (3.0.4)\n",
            "Requirement already satisfied: urllib3!=1.25.0,!=1.25.1,<1.26,>=1.21.1 in /usr/local/lib/python3.7/dist-packages (from requests>=2.19.0->pandas-datareader) (1.24.3)\n",
            "Requirement already satisfied: idna<3,>=2.5 in /usr/local/lib/python3.7/dist-packages (from requests>=2.19.0->pandas-datareader) (2.10)\n",
            "Requirement already satisfied: certifi>=2017.4.17 in /usr/local/lib/python3.7/dist-packages (from requests>=2.19.0->pandas-datareader) (2022.6.15)\n"
          ]
        }
      ]
    },
    {
      "cell_type": "markdown",
      "source": [
        "The pandas_datareader library has functions to download online data from Yahoo Finance where you can find financial real historical data for stocks, ETFs, cryptocurrencies, etc from most of the financial markets around the world."
      ],
      "metadata": {
        "id": "ITG_hfAQT7hO"
      }
    },
    {
      "cell_type": "markdown",
      "source": [
        "Now we download daily prices for Bitcoin from 2017."
      ],
      "metadata": {
        "id": "wn3xPoGKT_sW"
      }
    },
    {
      "cell_type": "code",
      "source": [
        "BTC = pdr.get_data_yahoo('BTC-USD', start=\"01/01/2017\", interval=\"d\")"
      ],
      "metadata": {
        "id": "NcQt68bKT98-"
      },
      "execution_count": 3,
      "outputs": []
    },
    {
      "cell_type": "markdown",
      "source": [
        "Show the content of the data:"
      ],
      "metadata": {
        "id": "j3hC1N2HUHEV"
      }
    },
    {
      "cell_type": "code",
      "source": [
        "BTC"
      ],
      "metadata": {
        "id": "3p9Ay-OQUIWF",
        "colab": {
          "base_uri": "https://localhost:8080/",
          "height": 455
        },
        "outputId": "5ca07a31-0686-4b52-87b2-14d4ddb5ce90"
      },
      "execution_count": 4,
      "outputs": [
        {
          "output_type": "execute_result",
          "data": {
            "text/plain": [
              "                    High           Low          Open         Close  \\\n",
              "Date                                                                 \n",
              "2017-01-01   1003.080017    958.698975    963.658020    998.325012   \n",
              "2017-01-02   1031.390015    996.702026    998.617004   1021.750000   \n",
              "2017-01-03   1044.079956   1021.599976   1021.599976   1043.839966   \n",
              "2017-01-04   1159.420044   1044.400024   1044.400024   1154.729980   \n",
              "2017-01-05   1191.099976    910.416992   1156.729980   1013.380005   \n",
              "...                  ...           ...           ...           ...   \n",
              "2022-08-26  21804.908203  20199.482422  21596.085938  20260.019531   \n",
              "2022-08-27  20340.775391  19890.523438  20262.480469  20041.738281   \n",
              "2022-08-28  20139.054688  19616.814453  20041.035156  19616.814453   \n",
              "2022-08-29  20357.462891  19600.785156  19615.154297  20297.994141   \n",
              "2022-08-30  20496.541016  20151.773438  20273.076172  20425.750000   \n",
              "\n",
              "                 Volume     Adj Close  \n",
              "Date                                   \n",
              "2017-01-01    147775008    998.325012  \n",
              "2017-01-02    222184992   1021.750000  \n",
              "2017-01-03    185168000   1043.839966  \n",
              "2017-01-04    344945984   1154.729980  \n",
              "2017-01-05    510199008   1013.380005  \n",
              "...                 ...           ...  \n",
              "2022-08-26  42326789564  20260.019531  \n",
              "2022-08-27  30116729776  20041.738281  \n",
              "2022-08-28  24366810591  19616.814453  \n",
              "2022-08-29  32637854078  20297.994141  \n",
              "2022-08-30  32476420096  20425.750000  \n",
              "\n",
              "[2068 rows x 6 columns]"
            ],
            "text/html": [
              "\n",
              "  <div id=\"df-d59e45d2-76c2-45a5-8200-0c4d06313ef2\">\n",
              "    <div class=\"colab-df-container\">\n",
              "      <div>\n",
              "<style scoped>\n",
              "    .dataframe tbody tr th:only-of-type {\n",
              "        vertical-align: middle;\n",
              "    }\n",
              "\n",
              "    .dataframe tbody tr th {\n",
              "        vertical-align: top;\n",
              "    }\n",
              "\n",
              "    .dataframe thead th {\n",
              "        text-align: right;\n",
              "    }\n",
              "</style>\n",
              "<table border=\"1\" class=\"dataframe\">\n",
              "  <thead>\n",
              "    <tr style=\"text-align: right;\">\n",
              "      <th></th>\n",
              "      <th>High</th>\n",
              "      <th>Low</th>\n",
              "      <th>Open</th>\n",
              "      <th>Close</th>\n",
              "      <th>Volume</th>\n",
              "      <th>Adj Close</th>\n",
              "    </tr>\n",
              "    <tr>\n",
              "      <th>Date</th>\n",
              "      <th></th>\n",
              "      <th></th>\n",
              "      <th></th>\n",
              "      <th></th>\n",
              "      <th></th>\n",
              "      <th></th>\n",
              "    </tr>\n",
              "  </thead>\n",
              "  <tbody>\n",
              "    <tr>\n",
              "      <th>2017-01-01</th>\n",
              "      <td>1003.080017</td>\n",
              "      <td>958.698975</td>\n",
              "      <td>963.658020</td>\n",
              "      <td>998.325012</td>\n",
              "      <td>147775008</td>\n",
              "      <td>998.325012</td>\n",
              "    </tr>\n",
              "    <tr>\n",
              "      <th>2017-01-02</th>\n",
              "      <td>1031.390015</td>\n",
              "      <td>996.702026</td>\n",
              "      <td>998.617004</td>\n",
              "      <td>1021.750000</td>\n",
              "      <td>222184992</td>\n",
              "      <td>1021.750000</td>\n",
              "    </tr>\n",
              "    <tr>\n",
              "      <th>2017-01-03</th>\n",
              "      <td>1044.079956</td>\n",
              "      <td>1021.599976</td>\n",
              "      <td>1021.599976</td>\n",
              "      <td>1043.839966</td>\n",
              "      <td>185168000</td>\n",
              "      <td>1043.839966</td>\n",
              "    </tr>\n",
              "    <tr>\n",
              "      <th>2017-01-04</th>\n",
              "      <td>1159.420044</td>\n",
              "      <td>1044.400024</td>\n",
              "      <td>1044.400024</td>\n",
              "      <td>1154.729980</td>\n",
              "      <td>344945984</td>\n",
              "      <td>1154.729980</td>\n",
              "    </tr>\n",
              "    <tr>\n",
              "      <th>2017-01-05</th>\n",
              "      <td>1191.099976</td>\n",
              "      <td>910.416992</td>\n",
              "      <td>1156.729980</td>\n",
              "      <td>1013.380005</td>\n",
              "      <td>510199008</td>\n",
              "      <td>1013.380005</td>\n",
              "    </tr>\n",
              "    <tr>\n",
              "      <th>...</th>\n",
              "      <td>...</td>\n",
              "      <td>...</td>\n",
              "      <td>...</td>\n",
              "      <td>...</td>\n",
              "      <td>...</td>\n",
              "      <td>...</td>\n",
              "    </tr>\n",
              "    <tr>\n",
              "      <th>2022-08-26</th>\n",
              "      <td>21804.908203</td>\n",
              "      <td>20199.482422</td>\n",
              "      <td>21596.085938</td>\n",
              "      <td>20260.019531</td>\n",
              "      <td>42326789564</td>\n",
              "      <td>20260.019531</td>\n",
              "    </tr>\n",
              "    <tr>\n",
              "      <th>2022-08-27</th>\n",
              "      <td>20340.775391</td>\n",
              "      <td>19890.523438</td>\n",
              "      <td>20262.480469</td>\n",
              "      <td>20041.738281</td>\n",
              "      <td>30116729776</td>\n",
              "      <td>20041.738281</td>\n",
              "    </tr>\n",
              "    <tr>\n",
              "      <th>2022-08-28</th>\n",
              "      <td>20139.054688</td>\n",
              "      <td>19616.814453</td>\n",
              "      <td>20041.035156</td>\n",
              "      <td>19616.814453</td>\n",
              "      <td>24366810591</td>\n",
              "      <td>19616.814453</td>\n",
              "    </tr>\n",
              "    <tr>\n",
              "      <th>2022-08-29</th>\n",
              "      <td>20357.462891</td>\n",
              "      <td>19600.785156</td>\n",
              "      <td>19615.154297</td>\n",
              "      <td>20297.994141</td>\n",
              "      <td>32637854078</td>\n",
              "      <td>20297.994141</td>\n",
              "    </tr>\n",
              "    <tr>\n",
              "      <th>2022-08-30</th>\n",
              "      <td>20496.541016</td>\n",
              "      <td>20151.773438</td>\n",
              "      <td>20273.076172</td>\n",
              "      <td>20425.750000</td>\n",
              "      <td>32476420096</td>\n",
              "      <td>20425.750000</td>\n",
              "    </tr>\n",
              "  </tbody>\n",
              "</table>\n",
              "<p>2068 rows × 6 columns</p>\n",
              "</div>\n",
              "      <button class=\"colab-df-convert\" onclick=\"convertToInteractive('df-d59e45d2-76c2-45a5-8200-0c4d06313ef2')\"\n",
              "              title=\"Convert this dataframe to an interactive table.\"\n",
              "              style=\"display:none;\">\n",
              "        \n",
              "  <svg xmlns=\"http://www.w3.org/2000/svg\" height=\"24px\"viewBox=\"0 0 24 24\"\n",
              "       width=\"24px\">\n",
              "    <path d=\"M0 0h24v24H0V0z\" fill=\"none\"/>\n",
              "    <path d=\"M18.56 5.44l.94 2.06.94-2.06 2.06-.94-2.06-.94-.94-2.06-.94 2.06-2.06.94zm-11 1L8.5 8.5l.94-2.06 2.06-.94-2.06-.94L8.5 2.5l-.94 2.06-2.06.94zm10 10l.94 2.06.94-2.06 2.06-.94-2.06-.94-.94-2.06-.94 2.06-2.06.94z\"/><path d=\"M17.41 7.96l-1.37-1.37c-.4-.4-.92-.59-1.43-.59-.52 0-1.04.2-1.43.59L10.3 9.45l-7.72 7.72c-.78.78-.78 2.05 0 2.83L4 21.41c.39.39.9.59 1.41.59.51 0 1.02-.2 1.41-.59l7.78-7.78 2.81-2.81c.8-.78.8-2.07 0-2.86zM5.41 20L4 18.59l7.72-7.72 1.47 1.35L5.41 20z\"/>\n",
              "  </svg>\n",
              "      </button>\n",
              "      \n",
              "  <style>\n",
              "    .colab-df-container {\n",
              "      display:flex;\n",
              "      flex-wrap:wrap;\n",
              "      gap: 12px;\n",
              "    }\n",
              "\n",
              "    .colab-df-convert {\n",
              "      background-color: #E8F0FE;\n",
              "      border: none;\n",
              "      border-radius: 50%;\n",
              "      cursor: pointer;\n",
              "      display: none;\n",
              "      fill: #1967D2;\n",
              "      height: 32px;\n",
              "      padding: 0 0 0 0;\n",
              "      width: 32px;\n",
              "    }\n",
              "\n",
              "    .colab-df-convert:hover {\n",
              "      background-color: #E2EBFA;\n",
              "      box-shadow: 0px 1px 2px rgba(60, 64, 67, 0.3), 0px 1px 3px 1px rgba(60, 64, 67, 0.15);\n",
              "      fill: #174EA6;\n",
              "    }\n",
              "\n",
              "    [theme=dark] .colab-df-convert {\n",
              "      background-color: #3B4455;\n",
              "      fill: #D2E3FC;\n",
              "    }\n",
              "\n",
              "    [theme=dark] .colab-df-convert:hover {\n",
              "      background-color: #434B5C;\n",
              "      box-shadow: 0px 1px 3px 1px rgba(0, 0, 0, 0.15);\n",
              "      filter: drop-shadow(0px 1px 2px rgba(0, 0, 0, 0.3));\n",
              "      fill: #FFFFFF;\n",
              "    }\n",
              "  </style>\n",
              "\n",
              "      <script>\n",
              "        const buttonEl =\n",
              "          document.querySelector('#df-d59e45d2-76c2-45a5-8200-0c4d06313ef2 button.colab-df-convert');\n",
              "        buttonEl.style.display =\n",
              "          google.colab.kernel.accessAllowed ? 'block' : 'none';\n",
              "\n",
              "        async function convertToInteractive(key) {\n",
              "          const element = document.querySelector('#df-d59e45d2-76c2-45a5-8200-0c4d06313ef2');\n",
              "          const dataTable =\n",
              "            await google.colab.kernel.invokeFunction('convertToInteractive',\n",
              "                                                     [key], {});\n",
              "          if (!dataTable) return;\n",
              "\n",
              "          const docLinkHtml = 'Like what you see? Visit the ' +\n",
              "            '<a target=\"_blank\" href=https://colab.research.google.com/notebooks/data_table.ipynb>data table notebook</a>'\n",
              "            + ' to learn more about interactive tables.';\n",
              "          element.innerHTML = '';\n",
              "          dataTable['output_type'] = 'display_data';\n",
              "          await google.colab.output.renderOutput(dataTable, element);\n",
              "          const docLink = document.createElement('div');\n",
              "          docLink.innerHTML = docLinkHtml;\n",
              "          element.appendChild(docLink);\n",
              "        }\n",
              "      </script>\n",
              "    </div>\n",
              "  </div>\n",
              "  "
            ]
          },
          "metadata": {},
          "execution_count": 4
        }
      ]
    },
    {
      "cell_type": "markdown",
      "source": [
        "Now show the last quotations:"
      ],
      "metadata": {
        "id": "oDgSyLLJMdVz"
      }
    },
    {
      "cell_type": "code",
      "source": [
        "BTC.tail()"
      ],
      "metadata": {
        "colab": {
          "base_uri": "https://localhost:8080/",
          "height": 238
        },
        "id": "NP7-Uat8Mjmr",
        "outputId": "190dec0d-08c0-4ce5-d26e-875978eefdf2"
      },
      "execution_count": 5,
      "outputs": [
        {
          "output_type": "execute_result",
          "data": {
            "text/plain": [
              "                    High           Low          Open         Close  \\\n",
              "Date                                                                 \n",
              "2022-08-26  21804.908203  20199.482422  21596.085938  20260.019531   \n",
              "2022-08-27  20340.775391  19890.523438  20262.480469  20041.738281   \n",
              "2022-08-28  20139.054688  19616.814453  20041.035156  19616.814453   \n",
              "2022-08-29  20357.462891  19600.785156  19615.154297  20297.994141   \n",
              "2022-08-30  20496.541016  20151.773438  20273.076172  20425.750000   \n",
              "\n",
              "                 Volume     Adj Close  \n",
              "Date                                   \n",
              "2022-08-26  42326789564  20260.019531  \n",
              "2022-08-27  30116729776  20041.738281  \n",
              "2022-08-28  24366810591  19616.814453  \n",
              "2022-08-29  32637854078  20297.994141  \n",
              "2022-08-30  32476420096  20425.750000  "
            ],
            "text/html": [
              "\n",
              "  <div id=\"df-ede93445-6629-44e2-b0ad-1d617fcddf6b\">\n",
              "    <div class=\"colab-df-container\">\n",
              "      <div>\n",
              "<style scoped>\n",
              "    .dataframe tbody tr th:only-of-type {\n",
              "        vertical-align: middle;\n",
              "    }\n",
              "\n",
              "    .dataframe tbody tr th {\n",
              "        vertical-align: top;\n",
              "    }\n",
              "\n",
              "    .dataframe thead th {\n",
              "        text-align: right;\n",
              "    }\n",
              "</style>\n",
              "<table border=\"1\" class=\"dataframe\">\n",
              "  <thead>\n",
              "    <tr style=\"text-align: right;\">\n",
              "      <th></th>\n",
              "      <th>High</th>\n",
              "      <th>Low</th>\n",
              "      <th>Open</th>\n",
              "      <th>Close</th>\n",
              "      <th>Volume</th>\n",
              "      <th>Adj Close</th>\n",
              "    </tr>\n",
              "    <tr>\n",
              "      <th>Date</th>\n",
              "      <th></th>\n",
              "      <th></th>\n",
              "      <th></th>\n",
              "      <th></th>\n",
              "      <th></th>\n",
              "      <th></th>\n",
              "    </tr>\n",
              "  </thead>\n",
              "  <tbody>\n",
              "    <tr>\n",
              "      <th>2022-08-26</th>\n",
              "      <td>21804.908203</td>\n",
              "      <td>20199.482422</td>\n",
              "      <td>21596.085938</td>\n",
              "      <td>20260.019531</td>\n",
              "      <td>42326789564</td>\n",
              "      <td>20260.019531</td>\n",
              "    </tr>\n",
              "    <tr>\n",
              "      <th>2022-08-27</th>\n",
              "      <td>20340.775391</td>\n",
              "      <td>19890.523438</td>\n",
              "      <td>20262.480469</td>\n",
              "      <td>20041.738281</td>\n",
              "      <td>30116729776</td>\n",
              "      <td>20041.738281</td>\n",
              "    </tr>\n",
              "    <tr>\n",
              "      <th>2022-08-28</th>\n",
              "      <td>20139.054688</td>\n",
              "      <td>19616.814453</td>\n",
              "      <td>20041.035156</td>\n",
              "      <td>19616.814453</td>\n",
              "      <td>24366810591</td>\n",
              "      <td>19616.814453</td>\n",
              "    </tr>\n",
              "    <tr>\n",
              "      <th>2022-08-29</th>\n",
              "      <td>20357.462891</td>\n",
              "      <td>19600.785156</td>\n",
              "      <td>19615.154297</td>\n",
              "      <td>20297.994141</td>\n",
              "      <td>32637854078</td>\n",
              "      <td>20297.994141</td>\n",
              "    </tr>\n",
              "    <tr>\n",
              "      <th>2022-08-30</th>\n",
              "      <td>20496.541016</td>\n",
              "      <td>20151.773438</td>\n",
              "      <td>20273.076172</td>\n",
              "      <td>20425.750000</td>\n",
              "      <td>32476420096</td>\n",
              "      <td>20425.750000</td>\n",
              "    </tr>\n",
              "  </tbody>\n",
              "</table>\n",
              "</div>\n",
              "      <button class=\"colab-df-convert\" onclick=\"convertToInteractive('df-ede93445-6629-44e2-b0ad-1d617fcddf6b')\"\n",
              "              title=\"Convert this dataframe to an interactive table.\"\n",
              "              style=\"display:none;\">\n",
              "        \n",
              "  <svg xmlns=\"http://www.w3.org/2000/svg\" height=\"24px\"viewBox=\"0 0 24 24\"\n",
              "       width=\"24px\">\n",
              "    <path d=\"M0 0h24v24H0V0z\" fill=\"none\"/>\n",
              "    <path d=\"M18.56 5.44l.94 2.06.94-2.06 2.06-.94-2.06-.94-.94-2.06-.94 2.06-2.06.94zm-11 1L8.5 8.5l.94-2.06 2.06-.94-2.06-.94L8.5 2.5l-.94 2.06-2.06.94zm10 10l.94 2.06.94-2.06 2.06-.94-2.06-.94-.94-2.06-.94 2.06-2.06.94z\"/><path d=\"M17.41 7.96l-1.37-1.37c-.4-.4-.92-.59-1.43-.59-.52 0-1.04.2-1.43.59L10.3 9.45l-7.72 7.72c-.78.78-.78 2.05 0 2.83L4 21.41c.39.39.9.59 1.41.59.51 0 1.02-.2 1.41-.59l7.78-7.78 2.81-2.81c.8-.78.8-2.07 0-2.86zM5.41 20L4 18.59l7.72-7.72 1.47 1.35L5.41 20z\"/>\n",
              "  </svg>\n",
              "      </button>\n",
              "      \n",
              "  <style>\n",
              "    .colab-df-container {\n",
              "      display:flex;\n",
              "      flex-wrap:wrap;\n",
              "      gap: 12px;\n",
              "    }\n",
              "\n",
              "    .colab-df-convert {\n",
              "      background-color: #E8F0FE;\n",
              "      border: none;\n",
              "      border-radius: 50%;\n",
              "      cursor: pointer;\n",
              "      display: none;\n",
              "      fill: #1967D2;\n",
              "      height: 32px;\n",
              "      padding: 0 0 0 0;\n",
              "      width: 32px;\n",
              "    }\n",
              "\n",
              "    .colab-df-convert:hover {\n",
              "      background-color: #E2EBFA;\n",
              "      box-shadow: 0px 1px 2px rgba(60, 64, 67, 0.3), 0px 1px 3px 1px rgba(60, 64, 67, 0.15);\n",
              "      fill: #174EA6;\n",
              "    }\n",
              "\n",
              "    [theme=dark] .colab-df-convert {\n",
              "      background-color: #3B4455;\n",
              "      fill: #D2E3FC;\n",
              "    }\n",
              "\n",
              "    [theme=dark] .colab-df-convert:hover {\n",
              "      background-color: #434B5C;\n",
              "      box-shadow: 0px 1px 3px 1px rgba(0, 0, 0, 0.15);\n",
              "      filter: drop-shadow(0px 1px 2px rgba(0, 0, 0, 0.3));\n",
              "      fill: #FFFFFF;\n",
              "    }\n",
              "  </style>\n",
              "\n",
              "      <script>\n",
              "        const buttonEl =\n",
              "          document.querySelector('#df-ede93445-6629-44e2-b0ad-1d617fcddf6b button.colab-df-convert');\n",
              "        buttonEl.style.display =\n",
              "          google.colab.kernel.accessAllowed ? 'block' : 'none';\n",
              "\n",
              "        async function convertToInteractive(key) {\n",
              "          const element = document.querySelector('#df-ede93445-6629-44e2-b0ad-1d617fcddf6b');\n",
              "          const dataTable =\n",
              "            await google.colab.kernel.invokeFunction('convertToInteractive',\n",
              "                                                     [key], {});\n",
              "          if (!dataTable) return;\n",
              "\n",
              "          const docLinkHtml = 'Like what you see? Visit the ' +\n",
              "            '<a target=\"_blank\" href=https://colab.research.google.com/notebooks/data_table.ipynb>data table notebook</a>'\n",
              "            + ' to learn more about interactive tables.';\n",
              "          element.innerHTML = '';\n",
              "          dataTable['output_type'] = 'display_data';\n",
              "          await google.colab.output.renderOutput(dataTable, element);\n",
              "          const docLink = document.createElement('div');\n",
              "          docLink.innerHTML = docLinkHtml;\n",
              "          element.appendChild(docLink);\n",
              "        }\n",
              "      </script>\n",
              "    </div>\n",
              "  </div>\n",
              "  "
            ]
          },
          "metadata": {},
          "execution_count": 5
        }
      ]
    },
    {
      "cell_type": "markdown",
      "source": [
        "For each period, Yahoo Finance keeps track of the open, high, low, close and adjusted prices. Also, it keeps track of volume that was traded in every period. The adjusted prices are used for stocks, not for currencies. Adjusted prices considered dividend payments and also stock splits.\n",
        "\n",
        "Then, for the Bitcoin series we can use close price to calculate daily returns.\n",
        "\n",
        "Import the matplotlib and do a plot for the Bitcoin closing prices:"
      ],
      "metadata": {
        "id": "SDAcnjMuM3Ec"
      }
    },
    {
      "cell_type": "code",
      "source": [
        "import matplotlib\n",
        "from matplotlib.pyplot import*\n",
        "plot(BTC[\"Close\"])\n",
        "show()"
      ],
      "metadata": {
        "colab": {
          "base_uri": "https://localhost:8080/",
          "height": 267
        },
        "id": "CcliItj3NJ_T",
        "outputId": "c454b047-667b-4c81-e703-6307348ec926"
      },
      "execution_count": 6,
      "outputs": [
        {
          "output_type": "display_data",
          "data": {
            "text/plain": [
              "<Figure size 432x288 with 1 Axes>"
            ],
            "image/png": "[encoded data removed]"
          },
          "metadata": {
            "needs_background": "light"
          }
        }
      ]
    },
    {
      "cell_type": "markdown",
      "source": [
        "We can check the data types of each variable (column) in the dataset:"
      ],
      "metadata": {
        "id": "KERLlOkvNQCL"
      }
    },
    {
      "cell_type": "code",
      "source": [
        "BTC.info()"
      ],
      "metadata": {
        "colab": {
          "base_uri": "https://localhost:8080/"
        },
        "id": "bPARvbqfNRqM",
        "outputId": "6a05b099-89ba-4a35-ef1e-d499ca25ee02"
      },
      "execution_count": 7,
      "outputs": [
        {
          "output_type": "stream",
          "name": "stdout",
          "text": [
            "<class 'pandas.core.frame.DataFrame'>\n",
            "DatetimeIndex: 2068 entries, 2017-01-01 to 2022-08-30\n",
            "Data columns (total 6 columns):\n",
            " #   Column     Non-Null Count  Dtype  \n",
            "---  ------     --------------  -----  \n",
            " 0   High       2068 non-null   float64\n",
            " 1   Low        2068 non-null   float64\n",
            " 2   Open       2068 non-null   float64\n",
            " 3   Close      2068 non-null   float64\n",
            " 4   Volume     2068 non-null   int64  \n",
            " 5   Adj Close  2068 non-null   float64\n",
            "dtypes: float64(5), int64(1)\n",
            "memory usage: 113.1 KB\n"
          ]
        }
      ]
    },
    {
      "cell_type": "markdown",
      "source": [
        "The logarithm of prices are very useful for statistical analyis. \n",
        "\n",
        "The return of a price or an investment is the % change of the price from one period to the next.\n",
        "\n",
        "(Porcentaje de cambio de precio de un periode de tiempo a otro.)"
      ],
      "metadata": {
        "id": "nGyTwjkWWuXi"
      }
    },
    {
      "cell_type": "markdown",
      "source": [
        "A financial simple return for a stock (Rt) is calculated as a percentage change of price from the previous period (t-1) to the present period (t)."
      ],
      "metadata": {
        "id": "R4flWfg1XpF4"
      }
    },
    {
      "cell_type": "markdown",
      "source": [
        "![imagen.png](data:image/png;base64,iVBORw0KGgoAAAANSUhEUgAAAZIAAABeCAYAAAAJ35KBAAAYnUlEQVR4Xu2dfVBUV5rGHzGsEB11tbQcjUajcRh3ha3oBrOMlEOUGRMW0oigndENGscdGadNg90pDIpR2IUFrE7UEgQxMLKICovBccS2Y7VBCH6kMGskjnETFVZNpcsCEnu9q7unb383faHhdjfd7dv/UZx7Pn7nfc9zz3s+7rD/Yz/QjwgQASJABIjAIAkMIyEZJDl6jAgQASJABHgCJCRkCESACBABIiCKAAmJKHz0MBEgAkSACJCQkA0QASJABIiAKAIkJKLw0cNEgAgQASJAQkI2QASIABEgAqIIkJCIwkcPEwEiQASIAAkJ2QARIAJEgAiIIkBCIgofPUwEiAARIAIkJGQDRIAIEAEiIIoACYkofPQwESACRIAIkJCQDRABIkAEiIAoAiQkovDRw0SACBABIkBCQjZABIgAESACogiQkIjCRw8TASJABIgACQnZABEgAkSACIgiQEIiCh89TASIABEgAiQkZANEgAgQASIgigAJiSh89DARIAJEgAiQkJANEAEiQASIgCgCJCSi8NHDRIAIEAEiQEJCNkAEiAARIAKiCJCQiMJHDxMBIkAEiAAJSV82wH2L+oJyPE7JRuILHjKWrkbI4zPRPEOOunIpJnmomEDLtqtRjvjMZsyQ16Fc6r/U7p4sQsWjePwhYRZCAq2T3N0e8hV3E3VbfiQkQih1GmRuaEDU3iK8Ps5tvHtnxJxDIXkP56ZtIiEZAOauRgUk753DtE3+LSSGJutacpBeMRPZqhV4PngAEJ62pOQrPtvjJCTOuob7EqqU9/B452HI55Bn+6z1BlDFbh+Q4q22N3FE9To8+d4SQMioKT5EgISkV2dw0GYuwZbHW6HJiwHJiA9Za0BXpQ15v1qH66l/RtkKkpKA7uoAbBwJiWOnXlchXnoUP8/XIC+GZCQAbd5nm3RdFQ/p0Z8jX5MHMj2f7SaqmBMCJCQOULSZCyFvnI0MTRlWjLb/J9fdDvWBMhw68SnGy7TYErwD69//M27rh2PkdDaL2ZuF2IkG8dGjo/Uoij+owOnxMmjl3Uhfp8L57qlILTuENEu4zD5dMwtrOP70N2qRm70fmuvfQf8kmJXD6leYgwSbYLr+SiUU75fiwjc/gAsKwYSI5diWJ8MCH3mx1Xe04mhlCY416LDoQBV+eXYjMso/h+6xoa6rkffhbxFuWGnWd6D1aDE+qDjN85V3p2Od6jy6p6ai7FAarNhs0zWjNzY9btTmInu/Bte/0+NJ8EhMXyhHYU6CzRqEHlcqFXi/9AK++YFDUMgERCzfhjzZgqELLV3KweL19XjhXTVKkhyMz8+GL9d9hUN3uxoH9pbgyJ1FOFAaibrfZ+DYjRH4xbYjKLIsUD4dvuJn3WypLgmJXc9pkckGnMYxUlQ0yDHH7n93cKW1E5eL07G77SEiomPwg34K/nFJKL6qqsKf/qsHGBWLotO5+Lsbapy5rEb5LjU6IyVYOfwRngm5jGrNPcy1GSS6rrF0TR9j374mfB+1HRcdRkTuSxVS1p5CWNZ+bH1tCtBxEGmS3Wh7Nhq5x4sQy8Yaw6JzUukYZO5KxyJDkrOF2Kiow53nVuHgYZl18B0qC+26hs/b76F+ZwYaOicjKno87o16BSk/e4jThw6h9f4TBM3egGNVSehRn8FldTl2qTsRKVmJ4Y+eQcjlamjuzcW76hIYx9YuXGPpmj7eh31N3yNq+0UHIeHwpSoFa0+FIWv/VhixpUGyuw3PRufieFEsRrM8GhVJKB2TiV3pizAFHThbuBGKujt4btVBHJbNGZqQZlc11sYUoC0iA5qyFaye/vpz3Vei77Wi7sKnaCiqQttfx2F5mA4Y343GY1/gmWVlOKWM4CE8Fb7ir93N6k1CYtt5N/cgMbkct9jA1lC1xulWXD78UNmJydIKHJObBxwdqtf+GgVtTzCb7fSqWmPYjnoCsvnb0BQahe0nVHidjQocxyE42DFcZkrnKCTcJeTErYc2uhgNW+aZBra7qEqVoKg9DPK6ckgnGeLqCiD/FEz+xrfmhGw+tjUFsUG2iQ2yvhGeM9YpFJFZ9diTYJoqmdpY930oYovOITearzzmb2tCKONxggnraHCMWzDj5uBlpnSOQsKxt/q49VpEFzdgyzzTQ3erkCopQnuYaYt1Wx6M2JQwDlM8NWN/BbH+amL9NSTY2FbwlzOhHcFeSM7lwoDDn3+u+8p1qOKlqGQvGquqjkM2m7Wa+QrHOt2+G54OX/HHPichse01bSYWyhvx0MnswJzM7By9BjCNEjGKMzbPChh9LysRSMfX5RwWmgdYZ9bFh0Lq8EDA8iavqsJx3itd/xkHfNfSDyR/Y742A4WpiNslyZCU3IQlLwGB6I3NKDiO/cCHJs8t7HMgvpSzGOvrBKlZBzPXMLiUymg3M7D9IhMpwSfMA+psbGioAv8+4sc/133F1G6sQtVxGYQt1rd8xY+7xu1VJyGxRWoaxNjo1CvM1J+Q4O4BSOP24vpkszOIE5K7bDto3N6evgc1vr49TtdzelkK20QgO7kUqgEKi7ssTkhI2BY5e/EWJSR3cUAah709fQ9IfF16XAwfsfrIoHKyDuM6Gas4s9mOS0LSW3BdL813UgoJSW9fESckbvcVsPrITmKpqi9R8x3OvlATEhI3zUgsoRFLfFuckNzck4jk8lssFNTMQkECcRZ+0L0KSbGahXH6Miejo555deAzFHcZqaCQ8LvkKvGjpBhqQyNECclN7ElMRvmtSGQ174EwNiYkVyUoVm9Bn9hM4S42+osSEp4h3y64KCSBPSPp7SvihMS9vgLwAnjm1X5mR+7yjMDIh4TEth/NayTTUlFTmwZnt6IIvmWZnu0yD4jmmHsfsxtj0QKCw64AeTlTixGWtQKbiuqqUa6NR+q4nfzb/PDYIpxmCwx2csNpUHFkFlZLvzDG/i2P9/dW7BnDFhQSUzvnZmjY+Qm2kCRKSIBG+cvI1I5gk8oTbPC3X67WVZdDG5+KcTsNO/OGs3WZ02xdxl6kOU0FjsxaDaneKHCdZhyWmeYg+bgkJKbNHv/DNlO0ss0UgyzKVx5z3VfECQnrdDf5yjTT+qKVYO/NHL5C17fqQUJi1x9sgXvxetRB+G3V7ByOMwVjrF9vE4oyCUS/O3CEFhA1UMYocObhKDYo1rJB0bxAfR/1ygJw2flICmUDzxK2y6yHpcmqQUHCRJOYsK2t+Up88gYLZ/EBZ1+ZkUyCtKKB3RZghs5Bo4yB4vxLlg0JZiGJMAuLkL8ILbab16pGMcGsZesRFmz1UBZwyM5PQigLpy1hAtzD0mTVFCCB37LNfvoryFd+gjcsIQ1j39jNSMzhT4F6Ca4buSIkXD3SXtmBz/q1Gd8aRIRq47qvmITkx/5mid7wFZqRDMa6SEgcqBkXYp8XXHcwOwdGvYRNpR/gN7OGo/vyh/inf64G3rRuHdVfyUfymhp0hkZic3UhUqY4v5KP+7IIy1ZXoXMsW79o2IEom2Q6NvgksgXlHiYP48LmIXySHl+3XMWwlR+hNs24JGlNE4SQqeFYMHMsHnzVAt3iEpttrL4iJEDQNAl27VMgauJjdNQq8WZuGyIsQmkQwGSsqelEaORmVBemwDk2tsW3aBlWV3Vi7FIVGnZE2Vx4qGNalMgW9tl27OBxCJsXjkn6r9FydRhWflQLIzabNOzczdTwBZg59gG+atFhcclhyCwHVpwIyWC8jJ94uhDaMm2eeL4/ER1sHbz8nKu+wt2vxaZlufjs4WQklxzCOy/9xOn2a+/4CgnJYMyEhMSR2u0SJEtK8VOBrbNm55gZFYNHl86yw4hPEDxyOv7+7a3IXxXOD2gWB7LJ2+kUudfbreMiK4f7jYWQF9SjXce2DrNyFsoLkZPwvJ2j6VpUUG4/gjZ2+A5OD9b5ipCMZedvZuB2MzuMyDHhmzAbce8UIT3WMJMy71iy7RDnYbheO8scw07cfTQWylFQ387KcX6I0yAmLSolth9pgxFbBJZvy4PM7hSnd4WEXzQunxowJ9td8RXzDNS2153O6rzmKyQkXhGSvraHBoWMxsTpv8AKxSb8JtxHjlUPmAqHSzlx+N2366AuSep1KEww7jvgcrz5gK8Iib/tRvKmkNxGSfIyfJYYOHdt+aevBICQ8DdEqPAv+/4Xb3/Kbi/3wlAzqBkJ192EnCQZGr6HdR8/1432j7dB/q9a3H/iENf3QkPcWgR/++9m9Gz5D+uhNlMB/ukcNkIy6yRUL7ItrQM7XiIar+Biu+icPZmBVUjSbqjwF5ls8E7ZT2iri/1/RWMs/hhAt//6p6/YCsksnFS9CJm3nUWESbfX/xuOXriK843/ycZh722sGZSQGEO+xoNrjiEbXfVa/LqgDU9CX/XvKbquBTnpNfjbvDzrYiy7Q6spK46dx3iAv/n9n1D6lnlxW0TPe+lRS7it311kHqgQCzUdfPs17L46lu3Nb8AO24UgDxTnzizNdj6Qw5eO5duHOnvPyrhvq7Gl8Ee8Vbhm6K+0cRs8//UVFps27djz3kDsNux8Rl3spo0YdtOG9+rvdiGxdoK/hTGcdCUbAJv+/TC6frERS18w7RixD+bSXvP+PMDilHYLRoIHPvvLLtD+39X6R5R+G44Ny43ra4HxI18Z6n40vgAFhJBMQ2oN2yXjqU/UDnVPUflEgAgQAR8l4OdCYlyoXl/HFk/GL0eZ3aV4gyTu7I1WMCvvKfAgW0OPEQHPEOjnfItdoWIPV3qmBZSrGwn4qZCwbwrc+hz1u3dgj+a/2a2dLzh8d8ONhCgrIkAEiAAR6JOA3wmJXWv+ajL+IeV3+MP6pZgVOAFfMlkiQASIgNsIeOqGbdsK+p2Q8Lu2Yg3bZd9C5S1gmksfBhrA7ZpeCG3Nnz/fbUZCGREBTxC4ePFi39l6IbRFfuJ6z/bbX65nNaiU/ikkhhMvOrZTI5FdDmi498n2bignGOh2zUHZBj1EBIgAEXCJgP8KCWteF7uFM57dWNsTNA2rDtreWWRtu+O0jm7XdMkuKBERIAJEwGUCfi0k7PuY/Pey32Ixriej5mDD3jKssVyAZ2VAMxKX7YESEgEiQAQGTMAvhMT2ipTxcbtRn71A4PbVnyJmcy4yloRh4k+s330gIRmwXdADRIAIEAHXCBg+h5C8BjWd4xG3ux7ZCzy/82nAJ9uFdhzYhag49l2POPZdD3acxPizP+VOQuKaPVAqIkAEiMBACDi7eRxeODc0YCEZSKOE0pKQuIMi5UEEiAAR8A0CQywk/ne7pm90G9WCCBABIuA7BIZESPz/dk3f6UCqCREgAkRgqAkMjZAMdaupfCJABIgAEXAbARISt6GkjIgAESACTycBEpKns99darXxgGkzZsjrUC6d5NIzlIgIDIYA2dpgqPnOMyQkvtMXPleTrkYFJO+dw7RNJCQ+1zkBViGyNf/uUBIS/+4/qj0RIAJEYMgJkJAMeRdQBYgAESAC/k2AhMS/+49qTwSIABEYcgIkJEPeBe6pgL6jFUcrS3CsQYdFB6rwy7MbkVH+OXSPQzAhYjXyPvwtwvkrd/ToaD2K4g8qcHq8DFp5N9LXqXC+e6r9Vy31HWg9WowPKk5jvKwZKsOnAhx++hu1yM3eD83176B/EoyR0xdCXpiDhOet96rpr1RC8X4pLnzzA7ggQ12WY1ueDAvGuafdlIv3Cbhsa3Y2pIW8Ox3rVOfRPTUVZYfSYLnPtV9b0+NGbS6y92tw/Ts9ngSPxPSFchTmJMBqanpcqVTg/dIL+OYHDkEhExCxfBvyZAtApuZ5GyEh8Txjz5fQdQ2ft99D/c4MNHRORlT0eNwb9QpSfvYQpw8dQuv9JwiavQHHqtZgzDU1zlxWo3yXGp2REqwc/gjPhFxGteYe5r6rRknSaFbfLlxTn0HTx/uwr+l79n0Z9vEyByHhvlQhZe0phGXtx9bXpgAdB5Em2Y22Z6ORe7wIsSwbwwJqUukYZO5KxyJDkrOF2Kiow53nVuHgYZl1IPE8ISrBXQRctrUk9DAbuqwuxy51JyIlKzH80TMIuVwNzb25eFddAt7U+rU1443ia0+FIWv/VhhNLQ2S3W14NjoXx4tiMZrl0ahIQumYTOxKX4Qp6MDZwo1Q1N3Bcy59aM9dcJ7efEhIAqjvjRdqhiIyqx57EkzvYZYLNEMRW3QOudGGBrOPkM1nHyELjcL2Eyq8zhya4zgEB1tnEjwW01f3egmJKU9tdDEatsyD8am7qEqVoKg9DPK6ckgntSHvVwog/xSUEVbIxjoGMXFqYuLkUF4A9UWgN8VlWzPZUGjUdpxgbyOj2acmOC6Y2ZoDIQFb4y7lIG69FtHFDdgyz/TQ3SqkSorQHiZHXbkUk9ryYDQ1JaymZrLxIGbjTczGydQ8apIkJB7F693Mjc5tf9OyoQa3S5IhKbnJLgGtwnHZbKuQMOe+6CxmZa62kJBoM7FQfg4LLcLkpJ1sAFi8vg4PBBBY6+JGRqbPMs9wMoNyYymUFf+O4aKtCdmQI0WBdNpMFi49txBF53LBvwM5NbXFWF8naGlYVXUcvNm78We8ZXcGtl9kIuXGfP01KxISf+05J/UWcm7wA38jHlqEw/S2NkghuXtAiri9PX07KD8w9CBDU4YVfAijjx8TANnJpVCJ8Xabb5bTVzc9b9Qu25ooIbmLA9I47O1ZharjMghpAV+XngxoylawGU8/P1YfGVRO1/z6e9T6fmUQUcNfbLZDQsJjISFx1Xr8IJ2gc5ve1H+UFEPNQlGW0NYgheTmnkQkl99iIbRmFkITiBnwA8hVSIrVLCTRp4pAFS/FmVfNsyUxoI0Cybxb1EAhpgZPy7Mu25ooIbmJPYnJKL8ViazmPRA2NTawX5WgWL0FfZqaKaTrFvvg22UwNZqRkJAEmNcLOje76uTlTC3mZmhQxk8PxM1IYMpvhCXubQNSV41ybTxSx+3kZ0HDY4twmi3M2MkNp0HFkVlYLf3CuFZjeVzsGx4JibdM2mVbEyUkYKb2MjK1I9ia2gn2cmA/39BVl0Mbn4pxO1n4q3E4WwM8zdYA7V9sOE0FjsxaDalehXhpJTrNgMR+7ImExM7UaEbiLc/zQjlG554EaUUD5HPMBXLQKGOgOP+SZWHdIiQR/YQDBBfbNVDGKHDm4Sjm4LXMwc0L+/dRrywAl52PpFAtMpfI0djD0mTVoCBhoklM2DbNfCU+eYOFs/hYxfXeMxKbMJUzbMLrKyQkXjAzvgiXbc3UlxGWlxiBGgottmuUiFGcwcNR7CWjlr39W0ytHsoCDtn5SQhlodsl7KWlh6XJqilAwkSTmBg+Oav8BG+ozGGx3vYh9MVXYy17rzdaak9CQkLiLWfzdjlmpwiaJsGufQpETXyMjlol3sxtQ4TNgK+/ko/kNTXoDI3E5upCpExx9k1ntu2yaBlWV3Vi7FIVGnZEwTaVjjlSIgsU9zB5GBc2D+GT9Pi65SqGrfwItWnGaLY1TRBCpoZjwcyxePBVC3SLS3BYNsckLE6EZNDgSEgGjW6AD7pma4aXhmSsqelEaORmVBemwKmpsZ1cwramY6KVyF6QeoDgcQibF45J+q/RcnUYVn5UC6Op2aRhZ5Wmhi/AzLEP8FWLDotLDkNmObDiRvsgISEhGaDP+E1yo3OPRUT0DNxuZocROTaAT5iNuHeKkB5rnBE4+6azs8XpXm9qvUIBHO43FkJeUI92Hds6PHI6C2UVIifhebswlq5FBeX2I2hjB8lYZZwcEiMh8RsDs6lo/7Zm7NdKSyzJ8LDz0GW/tsbdR2OhHAX17cymnR98NYhJi0qJ7UfaYDS1CCzflgeZ3clXEhJP2RqFtjxFdgjyFYxbD0FdXC+ShMR1Vr6T0j9tjYTEUxZEQuIpskOQr386t42QzDoJ1Ytse+ag9/y7caAYgv7zpyL909as9pF2Q4W/yGSDPwNCoS0KbfmTw7pcVzb9P/j2a9h9dSyWqhqwI8rZuofLuXk1oSXc1t925L5qZdribI6keOTAo1ep+HBhfmxr5jCaGPuwDw/3sSDvw13o7qrRjMTdRIciP4dBlK+CmEF5KNpAZfoHAbI1/+gnL9eShMTLwKk4IkAEiECgESAhCbQepfYQASJABLxMgITEy8CpOCJABIhAoBEgIQm0HqX2EAEiQAS8TICExMvAqTgiQASIQKARICEJtB6l9hABIkAEvEyAhMTLwKk4IkAEiECgESAhCbQepfYQASJABLxMgITEy8CpOCJABIhAoBEgIQm0HqX2EAEiQAS8TICExMvAqTgiQASIQKARICEJtB6l9hABIkAEvEyAhMTLwKk4IkAEiECgESAhCbQepfYQASJABLxMgITEy8CpOCJABIhAoBEgIQm0HqX2EAEiQAS8TICExMvAqTgiQASIQKAR+H9WoVG5N+opGwAAAABJRU5ErkJggg==)"
      ],
      "metadata": {
        "id": "TpbMbX0WtP-T"
      }
    },
    {
      "cell_type": "markdown",
      "source": [
        "It can be used in decimal or in percentage. It is very recommended to calculate continuously compounded returns (cc returns) and using cc returns instead of simple returns for data analysis, statistics and econometric models.\n",
        "\n",
        "cc returns are calculated from the natural logarithm of prices."
      ],
      "metadata": {
        "id": "mPi9tVtgtzvL"
      }
    },
    {
      "cell_type": "markdown",
      "source": [
        "*2.3.2.3 Continuously compounded returns*\n",
        "\n",
        "One way to calculate cc returns is by subtracting the log of the current price (at t) minus the log of the previous price (at t-1).\n",
        "\n",
        "We can also calculate cc returns as the log of the current adjusted price (at t) divided by the previous adjusted price (at t-1)."
      ],
      "metadata": {
        "id": "AlSvnaRxfuAu"
      }
    },
    {
      "cell_type": "markdown",
      "source": [
        "![imagen.png](data:image/png;base64,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)"
      ],
      "metadata": {
        "id": "eTFnTJI7-1qB"
      }
    },
    {
      "cell_type": "markdown",
      "source": [
        "![imagen.png](data:image/png;base64,iVBORw0KGgoAAAANSUhEUgAAAOsAAABQCAYAAAD4B4JjAAAPnElEQVR4Xu1dfVSUVRr/ZXrEcq3No7m2oqW5His5qyYa6RooWSIeULFIENTI1HVsMOiIBKiwYTI6GCSjgAsyBz/Ao+IXAqejoqaCRzqpzbKkgqxSjTWuMqc5untn5p1hGN+Bgfl84Zk/4X3vfe7vub/3fjxfT/yP/UA/QoAQcHsEniCyur2OSEBCQIcAkZUmAiEgEASIrAJRFIlJCBBZaQ4QAgJBgMgqEEWRmIQAkZXmACEgEASIrAJRFIlJCBBZaQ4QAgJBgMgqEEWRmIQAkZXmACEgEASIrAJRlDuIqcgIxoJ//oZZW8oR/4Y7SNS9ZCCydi992zRaRVYIFmb/gneJrDbh2NmXiaydRY7eIwScjACR1cmAU3eEQGcRILJ2Fjl6jxBwMgJEVicD7pzu1Lh1fh/yZUUoUU5FjvwtfPP31ci9pMRDjwHwCk/F1qgx8NAKo76F8/uykJ53Av1FJyG+F40PpWdwb0gksguWY3QvvcSae9dQlpMJ2d4GTM0phmik2Ug0TajM3YDNBRdw/b4GPbT9zEtAqmginjM8yp4pTRNjc4kCP6kfodfTwzBZnIbk2UPBdeMceATaC5FVoIprS2zV1Uu4ducANqwuQeNgH0zpfwd9J83HX5pPoKDgPJoe9cDIZUWQL3oGV8vKUV2Wi81ljfAOeh9P/t4THtWFqLjzGj4rk2FuP21PDTi//wLK9v0DxT8MQpj8oBlZlTgsCsaXd0MhyYjEWA81KpPnQlRyF56Ru1C8XMtsBbJCVqAqMB1p80fBQ30Nu6OXYks14JNUDOlMI6W7oEbsMyQiq31wdMNWDkM0PgGVfbwRfyADszkuaKqSEfDRfvzSxx+SUymYopX8sAjjEyrRxycJh6Uz0Q8aaDS90MtsuVNIAxGaj8fIqixcjBkSQHwsG+8ZOHdmPfxWHQKz86Cc2XlU+6Lwdqk/jsvmsva5n0KKQNZg4+AwyA+KYL5YuyGoLhWJyOpS+B3ZOUfWx4hQD1lIEGR1g1tIx5HVJ+kiW+Esy8RP1tvICQ1AJpahRL4Ig3hfV6FwsS82XbbUtg+SLkrRRteOBEowbRNZBaOqjgpqiazAyTWTIS5tZttPjpw2kfUk1kwWo3RsEi5aZLoC0sBQHPLOQlncuPYHwuQRQdrmh6P9RrreE0TWrqdTbkSWyapfIR8gKKsMOu7YRNZSiCeswcmBocgrEWM0L556suYPWI2K7PdatsG8z+rlZkstkdUMHyJrNyRrqXgC1px8Dasr2BlTe4C0iax1yAgOQe5Nk221EVMNqnIL0TNyOqq0W+XakVhWJMeiIa1Br8/LgyI8HH6GM6zh33SWbQUUkbWrk3WQ2YqnqUCsbwzOsG2r/jKphaxeqyuQrWMv/8/SBVO9LARBsjr08AzDzt0io7lHXSOB+IQfMqO9UJ8TijmZCsAzFDvkYozR2Y2YSaipGGu39EZcCicLaGW1hD+RtauTFT3gGbQZ22J8MPDhLRTHfoCUy15IKmYXOrqbWzVqNoZg0Z5G9PH+FIVp8/ECR6TW0ChxYPlsrP+2Ga+sOIIdEQNbbKOaK5DOj0D+zUfMvjoEYyYOh8ftGlQ1vIqkgxL4a/lv8gx6PYdR48awy6gGXLr6PMR7DbLovhy0DbYwJ7sZWfXOAlnpeTjRX4SzbV19OpDEynMZSL/0OsQfT2jn/GaLENyZ9VkvTHmxHmeZQ4SmhwcGjAzAJ5Jo+A/U2mW4s2SjaT98N7M8zzEzT6sLJXUN8mMSkHWuntGf9eM1DwmpIkw0NZ9qbuBAXDQzGV3HfWYaenoYu+hKS8bsoaY2IvuS9btdiTjz4jIs8jH5uNgCqwvf7VZkVV0tQ3nlIWzbVolfzCebU5SgwZWcKHx571PIRKMd7LVj+YLJKUPtdCf2JStb0nGjUITEf4cjLc7Em6rT8rnuxW5FVj3M3CR2AVmV7CJnwRFf7MqY3eKC5zDdC5+sy2ul+JdIZAf7q4aZq2Zgy/NbsdvhH0mHKbQ7ZuR3EVnrcxA65ximFu1BlNltqCPUq2naiSXvfoXvn30H0pL18OE9hzqiZ9vbPCwaD+ZQhcFhchx8zAm5k+2r9iFq2nYM/bqEmauE6YlMK2sndd+x11TMOjITCf8Jw/49UXA0V/W3tq0Ooi0OEB0TvAs9rWE68GE6WOIUHTgCONvIamXEhiME73ybbaysynOQJW5CwQXtBQj0USGiL7AueIQ+QoX7aZoqkRm3AXsv/wQWPGL2ewkfFu/BR54mf77NVtWATDQFWenB0/nB0ZttIKBiPsy+mxowL/s4Yr2EB5UNZFVZGbHRcVAM2yBr3uz4VskCWZXs78FJqJ++EVujp+IF3MKRdR8isfRn/DlsZ8tZR/dcAqqHr0BuRgSGaqqxdeFSyJnZ4qWo/djDs8e9zWyMAczG6B1/FhmzhbkFs0YXbv8MC2KYxoIYmOuWdW6PbjYgG8jKjcTKiA33GTcfWTWoiPVFTJUfvjqaiIlGPhlMFv2NX+M6ljQsJFfV4qqnHRg3CX4dye/MrvcY6g1/ySmk6MJc6OcSBOoyEBySi5sW9OQSmTrQqd3I2l7ERgdkcvCjPGRVFWKx7yZc5rkh1m+dLqOPvwSnGNP0xDOP6eTa9IzEnuLleKnVCLioFAWfO56Dh0rNmyFgCBs0CQ8UEEbOIyvz+xQdZTeTVtzuOX0bfHINy1hQimY+c84VCQLC5bjNfY2fYnGZ076oxmumrnkc2RUcoVvr37A620bW8ePHC2hauVbUixcvWhCAIyuEGZLnJLLqJ2y5nx2v4js9H3hW1lIxJqw5iUfe8TjLbKCtTpUG53LD/5jbXMYHi5HbxFbYglQED1ShcuNSfHLAA0t5nNQBWlk7rSq7v0grqy7LgOVtsOFrZkDe1V81HrJyt7UK0+wJBnE5srJIbaPNT8NW28WxZ3D75+tQcm5zoi/WIXgEvzFTv3UGpqSch8Tf7jOQGrQWAYOeeY8r1jbiuufstrK2HbHh5isrVNgXNQ1sdwuv1cdY5EmLQ6vuzCppbgnt0jo3hH6PiIo0+Ft5sWs497YX1eK6adBNeuaONOrueRtsbcSG+5BVuyrOYWfQRnPPHs4kU/nAE0GbtyGGOX4/rN2FlUvS8XNQi+nmJstKH7z9Ojz6DcSw0aMwyLiYPoUhbwTh/Vl/hc5H3vTHnWlvCHSSdBUq6z+aN1rf5AtocDasrNZGbGjRcBOycmamFv20vvRp7ezQAx4DvDBvbTKWmUZssOiS9PCVKLrbAw9/Uz3mFNF3SgoOsr1u66hQzjR0dS4lBnMhOXTpbGqd40XmiGHaQNaOiOMmZO2IyBaeVR6OQez1CGQuN4+aUeNu3QkkR5XhrTKe5F9KZh6akYuR24XpPWMH6FzbhC7oPhX9tpBvcDuKMCHriKOQvswSYgkx76SCGdUXHMWbO0sg5ks2pC5F7MoGrJAt4vX/1UbdzCuehL0sDxFlyXUudxXSYHyGDRR1Yw3sRudyF4SmWSOfVc+c+RxTVx7Bg2dG4G+BszBt0iSMGdIHaK5HTVkJ8kvVeF+2kcvAwNciF1vZuBRfi7mM+FZ1TA/ZgoDyXCoSj7yOxHW+gv5IOmkbbAvU7vWuurYYKYk5OH29CSqdFz/LeDBoOCYEfoxPI1nqFCtuiNW1B7D99J+wMMKRmSLcCzdXSVN3VIKK3guw0JcyRbhKB9QvIdDtEKCVtdupnGfAKpb7N3ANzr4oxv7cUAtZ9QkoVyNAZHW1Btyhf0bWmKC1OOW5isjqDvqwIAOR1Y2VQ6IRAqYIEFlpPhACAkGAyCoQRZGYhACRVWBzQF+BPBsFh0/rKpXH9VqPj9YdQ736SZY0ezriMuO5BN4a3LtWhpxMGfY2sOrnO7yxf8VqFNX2xpsJeyExFi9uP/G51g0zd8NmLjcV54aZkAqRSQZvTVMp0sSbUaLQ5qWylMBbYGC7mbhEVjdTSNviNKDmfCOqs6Lx1eVmeE3xxX31C5g1vQ9+kMtx5Mf/An1ZFoQTrEjynfPYf+E0SiRyXP5jAOaNUgL976G06Dv0nJON41zGsHYTn+sCHL7E3VAJMiLHsorllUieK0LJXU9E7iqGvqh5FkJWVCEwPQ3zR3lAfW03opduQbU2yNtYpkNQQLulsERWt1RL20IZvMEGh+ahiPk96v0wlKxg8QxWsPgRRi4rgXyRtqwxT5YKDatqzkqat/bdsJTxUd8mKy+FYyYukmfW+0Ff1Lwc8W9owwvfRqn/ccjmtoQvGGW0Z+5fAerKniITWe2JppPaMhDBPOBfUxEL35hyk/Q0HFkR1k60jwWycsHaMJKfZ4CG/FWWxu4Q91K9vD92sw8BkdVJBLNnN5bICkMmBGNdUxvJyuWmGttWYWNdJo1D8DYUZm5zoEwe0VG8IxWh03EcJjVcO56G1p5acH5bRFbnY25zjxbJaqjj42WoMG4jWbncVAPZdruEN8xIu9PWkjUfA9qp7aodtE7ucj87xPR2nZDLjkwGImtH0HKTZy2SlcuLqzJmpLCRrIY8u3wVyDVVyC3sicjpVbpqA7Us+2OR3Dw0sB55eQqEh/ux0hX6+jWGn22pa4msbjIVSYz2EDCQ1TzDv74CuZrldjvIxQtzZH0QhKyyOIyz2LClC6Z6yEKCIKtjBZlNqxJoCzBLxDjhl4lor3rkhM6Bvqj5DsiNoX8aNBWvxZbecUiZqb94emxlNdnS8opm8bxLZG1vjtD/3QQBY2xw37FYtSMdC0Y8iXvVW7FwaSHwQUu+KE1TMVbNScG3zYMRIivAJ2P/wFsT1mJeKjZezRUp5kfk4+YjZl8dMgYTh3vgdk0VGl5NMqavaXmGBQw+NwrjxrCb6IZLuPq8GHtZwWpDoD1tg22bQLQNtg0/l7xtIOtwH1/8XvUNc4h4pCui9fqSz7ExjAtqfyzflIUSiu3kpdIOUF2Tj5iELJyrV4MlpoLXvASkiloXJtbcOIC4aFa14Pp9Zhp6GsMmi5GWPBumRc2JrLZNFyKrbfi55G3LF0wuEcfqTomsVkPF+yCR1Tb8XPK28Mk6AkelL0PU6URcdGZ1ycSjTjuKgBqV8QGsbtCveGXFEeyIEFC6EuOFki1VGcwqPDjE6aKjOnHO87SyOgdnO/ViXoqENctnVrFTb9SMeyFAZHUvfZA0hIBFBIisNDkIAYEgQGQViKJITEKAyEpzgBAQCAJEVoEoisQkBIisNAcIAYEgQGQViKJITEKAyEpzgBAQCAJEVoEoisQkBIisNAcIAYEgQGQViKJITEKAyEpzgBAQCAJEVoEoisQkBIisNAcIAYEgQGQViKJITEKAyEpzgBAQCAL/BzU9R4nWHtUGAAAAAElFTkSuQmCC)"
      ],
      "metadata": {
        "id": "31ZOO40X-5xb"
      }
    },
    {
      "cell_type": "markdown",
      "source": [
        "cc returns are usually represented by small r, while simple returns are represented by capital R."
      ],
      "metadata": {
        "id": "7vkckzN__B-D"
      }
    },
    {
      "cell_type": "markdown",
      "source": [
        "In Python we can get the previous value of a variable using the shift(n) function. This function works for Panda dataframes. Then we can calculate a new column for the simple returns of Bitcoin as follows:"
      ],
      "metadata": {
        "id": "ygMW8So9-_qL"
      }
    },
    {
      "cell_type": "code",
      "source": [
        "BTC[\"R\"] = (BTC[\"Close\"] / BTC[\"Close\"].shift(1)) - 1\n",
        "print(BTC[\"R\"])"
      ],
      "metadata": {
        "colab": {
          "base_uri": "https://localhost:8080/"
        },
        "id": "Doz0G4ZDgB8-",
        "outputId": "1722a8ab-0313-4a4b-d76a-b2355f52c146"
      },
      "execution_count": 8,
      "outputs": [
        {
          "output_type": "stream",
          "name": "stdout",
          "text": [
            "Date\n",
            "2017-01-01         NaN\n",
            "2017-01-02    0.023464\n",
            "2017-01-03    0.021620\n",
            "2017-01-04    0.106233\n",
            "2017-01-05   -0.122410\n",
            "                ...   \n",
            "2022-08-26   -0.062075\n",
            "2022-08-27   -0.010774\n",
            "2022-08-28   -0.021202\n",
            "2022-08-29    0.034724\n",
            "2022-08-30    0.006294\n",
            "Name: R, Length: 2068, dtype: float64\n"
          ]
        }
      ]
    },
    {
      "cell_type": "markdown",
      "source": [
        "Now we calculate cc returns in a new column using the shift function:"
      ],
      "metadata": {
        "id": "wVcThsO3gir9"
      }
    },
    {
      "cell_type": "code",
      "source": [
        "BTC[\"r\"] = np.log(BTC['Adj Close']) - np.log(BTC['Adj Close'].shift(1))\n",
        "BTCR = BTC[['R','r']].copy()"
      ],
      "metadata": {
        "id": "lH6ZhjgXgmIl"
      },
      "execution_count": 9,
      "outputs": []
    },
    {
      "cell_type": "markdown",
      "source": [
        "We have a null value for the first day since we cannot calculate returns for day 1. We can drop the rows with NA values to ease data calculations:"
      ],
      "metadata": {
        "id": "pUxv0bXugtK-"
      }
    },
    {
      "cell_type": "code",
      "source": [
        "BTC= BTC.dropna()"
      ],
      "metadata": {
        "id": "iq-EHg0ugxzl"
      },
      "execution_count": 10,
      "outputs": []
    },
    {
      "cell_type": "markdown",
      "source": [
        "*2.3.2.4 Descriptive statistics of returns*\n",
        "\n",
        "We can use the describe function applied to the r column as follows:"
      ],
      "metadata": {
        "id": "0Bjx5vNVg6dm"
      }
    },
    {
      "cell_type": "code",
      "source": [
        "sumret = BTC[\"R\"].describe()\n",
        "sumret"
      ],
      "metadata": {
        "colab": {
          "base_uri": "https://localhost:8080/"
        },
        "id": "wH0WcRb_g-VP",
        "outputId": "9b211658-ee45-4679-c10c-1b25981dd1e4"
      },
      "execution_count": 11,
      "outputs": [
        {
          "output_type": "execute_result",
          "data": {
            "text/plain": [
              "count    2067.000000\n",
              "mean        0.002321\n",
              "std         0.041286\n",
              "min        -0.371695\n",
              "25%        -0.015867\n",
              "50%         0.002089\n",
              "75%         0.020664\n",
              "max         0.252472\n",
              "Name: R, dtype: float64"
            ]
          },
          "metadata": {},
          "execution_count": 11
        }
      ]
    },
    {
      "cell_type": "markdown",
      "source": [
        "We see that the mean of daily Bitcoin returns is very close to 0 (0.2%), while standard deviation is above 4.1%! The worse day of Bitcoin was about -37.1%! and the best day was 25.2% of return.\n",
        "\n",
        "To know which days were the worse, we can do a selection based on a condition. Let’s see which days had a daily return less than 15%:"
      ],
      "metadata": {
        "id": "rU3w_JIRhPLo"
      }
    },
    {
      "cell_type": "code",
      "source": [
        "BTC[BTC[\"R\"]<-0.15]"
      ],
      "metadata": {
        "colab": {
          "base_uri": "https://localhost:8080/",
          "height": 238
        },
        "id": "NeovMEGlhQZv",
        "outputId": "a128ae28-837d-4feb-e21d-0f2ef917448b"
      },
      "execution_count": 12,
      "outputs": [
        {
          "output_type": "execute_result",
          "data": {
            "text/plain": [
              "                    High           Low          Open         Close  \\\n",
              "Date                                                                 \n",
              "2017-09-14   3920.600098   3153.860107   3875.370117   3154.949951   \n",
              "2018-01-16  13843.099609  10194.900391  13836.099609  11490.500000   \n",
              "2018-02-05   8364.839844   6756.680176   8270.540039   6955.270020   \n",
              "2020-03-12   7929.116211   4860.354004   7913.616211   4970.788086   \n",
              "2022-06-13  26795.589844  22141.257812  26737.578125  22487.388672   \n",
              "\n",
              "                 Volume     Adj Close         R         r  \n",
              "Date                                                       \n",
              "2017-09-14   2716310016   3154.949951 -0.187411 -0.207530  \n",
              "2018-01-16  18853799936  11490.500000 -0.168548 -0.184582  \n",
              "2018-02-05   9285289984   6955.270020 -0.159688 -0.173982  \n",
              "2020-03-12  53980357243   4970.788086 -0.371695 -0.464730  \n",
              "2022-06-13  68204556440  22487.388672 -0.159747 -0.174053  "
            ],
            "text/html": [
              "\n",
              "  <div id=\"df-4bd3c80d-f059-4a31-bb01-f95f70d13b0b\">\n",
              "    <div class=\"colab-df-container\">\n",
              "      <div>\n",
              "<style scoped>\n",
              "    .dataframe tbody tr th:only-of-type {\n",
              "        vertical-align: middle;\n",
              "    }\n",
              "\n",
              "    .dataframe tbody tr th {\n",
              "        vertical-align: top;\n",
              "    }\n",
              "\n",
              "    .dataframe thead th {\n",
              "        text-align: right;\n",
              "    }\n",
              "</style>\n",
              "<table border=\"1\" class=\"dataframe\">\n",
              "  <thead>\n",
              "    <tr style=\"text-align: right;\">\n",
              "      <th></th>\n",
              "      <th>High</th>\n",
              "      <th>Low</th>\n",
              "      <th>Open</th>\n",
              "      <th>Close</th>\n",
              "      <th>Volume</th>\n",
              "      <th>Adj Close</th>\n",
              "      <th>R</th>\n",
              "      <th>r</th>\n",
              "    </tr>\n",
              "    <tr>\n",
              "      <th>Date</th>\n",
              "      <th></th>\n",
              "      <th></th>\n",
              "      <th></th>\n",
              "      <th></th>\n",
              "      <th></th>\n",
              "      <th></th>\n",
              "      <th></th>\n",
              "      <th></th>\n",
              "    </tr>\n",
              "  </thead>\n",
              "  <tbody>\n",
              "    <tr>\n",
              "      <th>2017-09-14</th>\n",
              "      <td>3920.600098</td>\n",
              "      <td>3153.860107</td>\n",
              "      <td>3875.370117</td>\n",
              "      <td>3154.949951</td>\n",
              "      <td>2716310016</td>\n",
              "      <td>3154.949951</td>\n",
              "      <td>-0.187411</td>\n",
              "      <td>-0.207530</td>\n",
              "    </tr>\n",
              "    <tr>\n",
              "      <th>2018-01-16</th>\n",
              "      <td>13843.099609</td>\n",
              "      <td>10194.900391</td>\n",
              "      <td>13836.099609</td>\n",
              "      <td>11490.500000</td>\n",
              "      <td>18853799936</td>\n",
              "      <td>11490.500000</td>\n",
              "      <td>-0.168548</td>\n",
              "      <td>-0.184582</td>\n",
              "    </tr>\n",
              "    <tr>\n",
              "      <th>2018-02-05</th>\n",
              "      <td>8364.839844</td>\n",
              "      <td>6756.680176</td>\n",
              "      <td>8270.540039</td>\n",
              "      <td>6955.270020</td>\n",
              "      <td>9285289984</td>\n",
              "      <td>6955.270020</td>\n",
              "      <td>-0.159688</td>\n",
              "      <td>-0.173982</td>\n",
              "    </tr>\n",
              "    <tr>\n",
              "      <th>2020-03-12</th>\n",
              "      <td>7929.116211</td>\n",
              "      <td>4860.354004</td>\n",
              "      <td>7913.616211</td>\n",
              "      <td>4970.788086</td>\n",
              "      <td>53980357243</td>\n",
              "      <td>4970.788086</td>\n",
              "      <td>-0.371695</td>\n",
              "      <td>-0.464730</td>\n",
              "    </tr>\n",
              "    <tr>\n",
              "      <th>2022-06-13</th>\n",
              "      <td>26795.589844</td>\n",
              "      <td>22141.257812</td>\n",
              "      <td>26737.578125</td>\n",
              "      <td>22487.388672</td>\n",
              "      <td>68204556440</td>\n",
              "      <td>22487.388672</td>\n",
              "      <td>-0.159747</td>\n",
              "      <td>-0.174053</td>\n",
              "    </tr>\n",
              "  </tbody>\n",
              "</table>\n",
              "</div>\n",
              "      <button class=\"colab-df-convert\" onclick=\"convertToInteractive('df-4bd3c80d-f059-4a31-bb01-f95f70d13b0b')\"\n",
              "              title=\"Convert this dataframe to an interactive table.\"\n",
              "              style=\"display:none;\">\n",
              "        \n",
              "  <svg xmlns=\"http://www.w3.org/2000/svg\" height=\"24px\"viewBox=\"0 0 24 24\"\n",
              "       width=\"24px\">\n",
              "    <path d=\"M0 0h24v24H0V0z\" fill=\"none\"/>\n",
              "    <path d=\"M18.56 5.44l.94 2.06.94-2.06 2.06-.94-2.06-.94-.94-2.06-.94 2.06-2.06.94zm-11 1L8.5 8.5l.94-2.06 2.06-.94-2.06-.94L8.5 2.5l-.94 2.06-2.06.94zm10 10l.94 2.06.94-2.06 2.06-.94-2.06-.94-.94-2.06-.94 2.06-2.06.94z\"/><path d=\"M17.41 7.96l-1.37-1.37c-.4-.4-.92-.59-1.43-.59-.52 0-1.04.2-1.43.59L10.3 9.45l-7.72 7.72c-.78.78-.78 2.05 0 2.83L4 21.41c.39.39.9.59 1.41.59.51 0 1.02-.2 1.41-.59l7.78-7.78 2.81-2.81c.8-.78.8-2.07 0-2.86zM5.41 20L4 18.59l7.72-7.72 1.47 1.35L5.41 20z\"/>\n",
              "  </svg>\n",
              "      </button>\n",
              "      \n",
              "  <style>\n",
              "    .colab-df-container {\n",
              "      display:flex;\n",
              "      flex-wrap:wrap;\n",
              "      gap: 12px;\n",
              "    }\n",
              "\n",
              "    .colab-df-convert {\n",
              "      background-color: #E8F0FE;\n",
              "      border: none;\n",
              "      border-radius: 50%;\n",
              "      cursor: pointer;\n",
              "      display: none;\n",
              "      fill: #1967D2;\n",
              "      height: 32px;\n",
              "      padding: 0 0 0 0;\n",
              "      width: 32px;\n",
              "    }\n",
              "\n",
              "    .colab-df-convert:hover {\n",
              "      background-color: #E2EBFA;\n",
              "      box-shadow: 0px 1px 2px rgba(60, 64, 67, 0.3), 0px 1px 3px 1px rgba(60, 64, 67, 0.15);\n",
              "      fill: #174EA6;\n",
              "    }\n",
              "\n",
              "    [theme=dark] .colab-df-convert {\n",
              "      background-color: #3B4455;\n",
              "      fill: #D2E3FC;\n",
              "    }\n",
              "\n",
              "    [theme=dark] .colab-df-convert:hover {\n",
              "      background-color: #434B5C;\n",
              "      box-shadow: 0px 1px 3px 1px rgba(0, 0, 0, 0.15);\n",
              "      filter: drop-shadow(0px 1px 2px rgba(0, 0, 0, 0.3));\n",
              "      fill: #FFFFFF;\n",
              "    }\n",
              "  </style>\n",
              "\n",
              "      <script>\n",
              "        const buttonEl =\n",
              "          document.querySelector('#df-4bd3c80d-f059-4a31-bb01-f95f70d13b0b button.colab-df-convert');\n",
              "        buttonEl.style.display =\n",
              "          google.colab.kernel.accessAllowed ? 'block' : 'none';\n",
              "\n",
              "        async function convertToInteractive(key) {\n",
              "          const element = document.querySelector('#df-4bd3c80d-f059-4a31-bb01-f95f70d13b0b');\n",
              "          const dataTable =\n",
              "            await google.colab.kernel.invokeFunction('convertToInteractive',\n",
              "                                                     [key], {});\n",
              "          if (!dataTable) return;\n",
              "\n",
              "          const docLinkHtml = 'Like what you see? Visit the ' +\n",
              "            '<a target=\"_blank\" href=https://colab.research.google.com/notebooks/data_table.ipynb>data table notebook</a>'\n",
              "            + ' to learn more about interactive tables.';\n",
              "          element.innerHTML = '';\n",
              "          dataTable['output_type'] = 'display_data';\n",
              "          await google.colab.output.renderOutput(dataTable, element);\n",
              "          const docLink = document.createElement('div');\n",
              "          docLink.innerHTML = docLinkHtml;\n",
              "          element.appendChild(docLink);\n",
              "        }\n",
              "      </script>\n",
              "    </div>\n",
              "  </div>\n",
              "  "
            ]
          },
          "metadata": {},
          "execution_count": 12
        }
      ]
    },
    {
      "cell_type": "markdown",
      "source": [
        "The worst day for the Bitcoin was March 12, 2020, which is the beginning of the COVID crisis.\n",
        "\n",
        "To know the best days for Bitcoin:"
      ],
      "metadata": {
        "id": "fDwyPVd4hUYl"
      }
    },
    {
      "cell_type": "code",
      "source": [
        "BTC[BTC[\"R\"]>0.15].sort_values(by=['R'], ascending=False)"
      ],
      "metadata": {
        "colab": {
          "base_uri": "https://localhost:8080/",
          "height": 363
        },
        "id": "UxkFWhX2hWnK",
        "outputId": "eb81f1db-20a6-4def-9d7f-389e4bdd9dba"
      },
      "execution_count": 13,
      "outputs": [
        {
          "output_type": "execute_result",
          "data": {
            "text/plain": [
              "                    High           Low          Open         Close  \\\n",
              "Date                                                                 \n",
              "2017-12-07  17899.699219  14057.299805  14266.099609  17899.699219   \n",
              "2017-07-20   2900.699951   2269.889893   2269.889893   2817.600098   \n",
              "2017-12-06  14369.099609  11923.400391  11923.400391  14291.500000   \n",
              "2021-02-08  46203.929688  38076.324219  38886.828125  46196.464844   \n",
              "2020-03-19   6329.735840   5236.968750   5245.416504   6191.192871   \n",
              "2019-04-02   4905.954590   4155.316895   4156.919434   4879.877930   \n",
              "2019-10-25   8691.540039   7479.984375   7490.703125   8660.700195   \n",
              "2017-07-17   2230.489990   1932.619995   1932.619995   2228.409912   \n",
              "2017-09-15   3733.449951   2946.620117   3166.300049   3637.520020   \n",
              "\n",
              "                  Volume     Adj Close         R         r  \n",
              "Date                                                        \n",
              "2017-12-07   17950699520  17899.699219  0.252472  0.225119  \n",
              "2017-07-20    2249260032   2817.600098  0.239361  0.214596  \n",
              "2017-12-06   12656300032  14291.500000  0.199283  0.181724  \n",
              "2021-02-08  101467222687  46196.464844  0.187465  0.171821  \n",
              "2020-03-19   51000731797   6191.192871  0.181878  0.167104  \n",
              "2019-04-02   21315047816   4879.877930  0.173560  0.160042  \n",
              "2019-10-25   28705065488   8660.700195  0.155763  0.144761  \n",
              "2017-07-17    1201760000   2228.409912  0.154724  0.143862  \n",
              "2017-09-15    4148069888   3637.520020  0.152956  0.142330  "
            ],
            "text/html": [
              "\n",
              "  <div id=\"df-935f46dc-c27e-437b-be01-5d78292d93c2\">\n",
              "    <div class=\"colab-df-container\">\n",
              "      <div>\n",
              "<style scoped>\n",
              "    .dataframe tbody tr th:only-of-type {\n",
              "        vertical-align: middle;\n",
              "    }\n",
              "\n",
              "    .dataframe tbody tr th {\n",
              "        vertical-align: top;\n",
              "    }\n",
              "\n",
              "    .dataframe thead th {\n",
              "        text-align: right;\n",
              "    }\n",
              "</style>\n",
              "<table border=\"1\" class=\"dataframe\">\n",
              "  <thead>\n",
              "    <tr style=\"text-align: right;\">\n",
              "      <th></th>\n",
              "      <th>High</th>\n",
              "      <th>Low</th>\n",
              "      <th>Open</th>\n",
              "      <th>Close</th>\n",
              "      <th>Volume</th>\n",
              "      <th>Adj Close</th>\n",
              "      <th>R</th>\n",
              "      <th>r</th>\n",
              "    </tr>\n",
              "    <tr>\n",
              "      <th>Date</th>\n",
              "      <th></th>\n",
              "      <th></th>\n",
              "      <th></th>\n",
              "      <th></th>\n",
              "      <th></th>\n",
              "      <th></th>\n",
              "      <th></th>\n",
              "      <th></th>\n",
              "    </tr>\n",
              "  </thead>\n",
              "  <tbody>\n",
              "    <tr>\n",
              "      <th>2017-12-07</th>\n",
              "      <td>17899.699219</td>\n",
              "      <td>14057.299805</td>\n",
              "      <td>14266.099609</td>\n",
              "      <td>17899.699219</td>\n",
              "      <td>17950699520</td>\n",
              "      <td>17899.699219</td>\n",
              "      <td>0.252472</td>\n",
              "      <td>0.225119</td>\n",
              "    </tr>\n",
              "    <tr>\n",
              "      <th>2017-07-20</th>\n",
              "      <td>2900.699951</td>\n",
              "      <td>2269.889893</td>\n",
              "      <td>2269.889893</td>\n",
              "      <td>2817.600098</td>\n",
              "      <td>2249260032</td>\n",
              "      <td>2817.600098</td>\n",
              "      <td>0.239361</td>\n",
              "      <td>0.214596</td>\n",
              "    </tr>\n",
              "    <tr>\n",
              "      <th>2017-12-06</th>\n",
              "      <td>14369.099609</td>\n",
              "      <td>11923.400391</td>\n",
              "      <td>11923.400391</td>\n",
              "      <td>14291.500000</td>\n",
              "      <td>12656300032</td>\n",
              "      <td>14291.500000</td>\n",
              "      <td>0.199283</td>\n",
              "      <td>0.181724</td>\n",
              "    </tr>\n",
              "    <tr>\n",
              "      <th>2021-02-08</th>\n",
              "      <td>46203.929688</td>\n",
              "      <td>38076.324219</td>\n",
              "      <td>38886.828125</td>\n",
              "      <td>46196.464844</td>\n",
              "      <td>101467222687</td>\n",
              "      <td>46196.464844</td>\n",
              "      <td>0.187465</td>\n",
              "      <td>0.171821</td>\n",
              "    </tr>\n",
              "    <tr>\n",
              "      <th>2020-03-19</th>\n",
              "      <td>6329.735840</td>\n",
              "      <td>5236.968750</td>\n",
              "      <td>5245.416504</td>\n",
              "      <td>6191.192871</td>\n",
              "      <td>51000731797</td>\n",
              "      <td>6191.192871</td>\n",
              "      <td>0.181878</td>\n",
              "      <td>0.167104</td>\n",
              "    </tr>\n",
              "    <tr>\n",
              "      <th>2019-04-02</th>\n",
              "      <td>4905.954590</td>\n",
              "      <td>4155.316895</td>\n",
              "      <td>4156.919434</td>\n",
              "      <td>4879.877930</td>\n",
              "      <td>21315047816</td>\n",
              "      <td>4879.877930</td>\n",
              "      <td>0.173560</td>\n",
              "      <td>0.160042</td>\n",
              "    </tr>\n",
              "    <tr>\n",
              "      <th>2019-10-25</th>\n",
              "      <td>8691.540039</td>\n",
              "      <td>7479.984375</td>\n",
              "      <td>7490.703125</td>\n",
              "      <td>8660.700195</td>\n",
              "      <td>28705065488</td>\n",
              "      <td>8660.700195</td>\n",
              "      <td>0.155763</td>\n",
              "      <td>0.144761</td>\n",
              "    </tr>\n",
              "    <tr>\n",
              "      <th>2017-07-17</th>\n",
              "      <td>2230.489990</td>\n",
              "      <td>1932.619995</td>\n",
              "      <td>1932.619995</td>\n",
              "      <td>2228.409912</td>\n",
              "      <td>1201760000</td>\n",
              "      <td>2228.409912</td>\n",
              "      <td>0.154724</td>\n",
              "      <td>0.143862</td>\n",
              "    </tr>\n",
              "    <tr>\n",
              "      <th>2017-09-15</th>\n",
              "      <td>3733.449951</td>\n",
              "      <td>2946.620117</td>\n",
              "      <td>3166.300049</td>\n",
              "      <td>3637.520020</td>\n",
              "      <td>4148069888</td>\n",
              "      <td>3637.520020</td>\n",
              "      <td>0.152956</td>\n",
              "      <td>0.142330</td>\n",
              "    </tr>\n",
              "  </tbody>\n",
              "</table>\n",
              "</div>\n",
              "      <button class=\"colab-df-convert\" onclick=\"convertToInteractive('df-935f46dc-c27e-437b-be01-5d78292d93c2')\"\n",
              "              title=\"Convert this dataframe to an interactive table.\"\n",
              "              style=\"display:none;\">\n",
              "        \n",
              "  <svg xmlns=\"http://www.w3.org/2000/svg\" height=\"24px\"viewBox=\"0 0 24 24\"\n",
              "       width=\"24px\">\n",
              "    <path d=\"M0 0h24v24H0V0z\" fill=\"none\"/>\n",
              "    <path d=\"M18.56 5.44l.94 2.06.94-2.06 2.06-.94-2.06-.94-.94-2.06-.94 2.06-2.06.94zm-11 1L8.5 8.5l.94-2.06 2.06-.94-2.06-.94L8.5 2.5l-.94 2.06-2.06.94zm10 10l.94 2.06.94-2.06 2.06-.94-2.06-.94-.94-2.06-.94 2.06-2.06.94z\"/><path d=\"M17.41 7.96l-1.37-1.37c-.4-.4-.92-.59-1.43-.59-.52 0-1.04.2-1.43.59L10.3 9.45l-7.72 7.72c-.78.78-.78 2.05 0 2.83L4 21.41c.39.39.9.59 1.41.59.51 0 1.02-.2 1.41-.59l7.78-7.78 2.81-2.81c.8-.78.8-2.07 0-2.86zM5.41 20L4 18.59l7.72-7.72 1.47 1.35L5.41 20z\"/>\n",
              "  </svg>\n",
              "      </button>\n",
              "      \n",
              "  <style>\n",
              "    .colab-df-container {\n",
              "      display:flex;\n",
              "      flex-wrap:wrap;\n",
              "      gap: 12px;\n",
              "    }\n",
              "\n",
              "    .colab-df-convert {\n",
              "      background-color: #E8F0FE;\n",
              "      border: none;\n",
              "      border-radius: 50%;\n",
              "      cursor: pointer;\n",
              "      display: none;\n",
              "      fill: #1967D2;\n",
              "      height: 32px;\n",
              "      padding: 0 0 0 0;\n",
              "      width: 32px;\n",
              "    }\n",
              "\n",
              "    .colab-df-convert:hover {\n",
              "      background-color: #E2EBFA;\n",
              "      box-shadow: 0px 1px 2px rgba(60, 64, 67, 0.3), 0px 1px 3px 1px rgba(60, 64, 67, 0.15);\n",
              "      fill: #174EA6;\n",
              "    }\n",
              "\n",
              "    [theme=dark] .colab-df-convert {\n",
              "      background-color: #3B4455;\n",
              "      fill: #D2E3FC;\n",
              "    }\n",
              "\n",
              "    [theme=dark] .colab-df-convert:hover {\n",
              "      background-color: #434B5C;\n",
              "      box-shadow: 0px 1px 3px 1px rgba(0, 0, 0, 0.15);\n",
              "      filter: drop-shadow(0px 1px 2px rgba(0, 0, 0, 0.3));\n",
              "      fill: #FFFFFF;\n",
              "    }\n",
              "  </style>\n",
              "\n",
              "      <script>\n",
              "        const buttonEl =\n",
              "          document.querySelector('#df-935f46dc-c27e-437b-be01-5d78292d93c2 button.colab-df-convert');\n",
              "        buttonEl.style.display =\n",
              "          google.colab.kernel.accessAllowed ? 'block' : 'none';\n",
              "\n",
              "        async function convertToInteractive(key) {\n",
              "          const element = document.querySelector('#df-935f46dc-c27e-437b-be01-5d78292d93c2');\n",
              "          const dataTable =\n",
              "            await google.colab.kernel.invokeFunction('convertToInteractive',\n",
              "                                                     [key], {});\n",
              "          if (!dataTable) return;\n",
              "\n",
              "          const docLinkHtml = 'Like what you see? Visit the ' +\n",
              "            '<a target=\"_blank\" href=https://colab.research.google.com/notebooks/data_table.ipynb>data table notebook</a>'\n",
              "            + ' to learn more about interactive tables.';\n",
              "          element.innerHTML = '';\n",
              "          dataTable['output_type'] = 'display_data';\n",
              "          await google.colab.output.renderOutput(dataTable, element);\n",
              "          const docLink = document.createElement('div');\n",
              "          docLink.innerHTML = docLinkHtml;\n",
              "          element.appendChild(docLink);\n",
              "        }\n",
              "      </script>\n",
              "    </div>\n",
              "  </div>\n",
              "  "
            ]
          },
          "metadata": {},
          "execution_count": 13
        }
      ]
    },
    {
      "cell_type": "markdown",
      "source": [
        "We can also get the main descriptive statistics using specific functions like:"
      ],
      "metadata": {
        "id": "-DddkE9LhanW"
      }
    },
    {
      "cell_type": "code",
      "source": [
        "print(\"The daily average return of Bitcoin is \", BTC[\"r\"].mean())\n",
        "print(\"The daily variance of Bitcoin is \", BTC[\"r\"].var())\n",
        "print(\"The daily standard deviation (volatility) of Bitcoin return is \", BTC[\"r\"].std())\n",
        "print(\"The daily median return of Bitcoin is \",BTC[\"r\"].median())"
      ],
      "metadata": {
        "colab": {
          "base_uri": "https://localhost:8080/"
        },
        "id": "AOwqwGichbb0",
        "outputId": "3f725723-c454-476a-e9da-5b2da5c2e21a"
      },
      "execution_count": 14,
      "outputs": [
        {
          "output_type": "stream",
          "name": "stdout",
          "text": [
            "The daily average return of Bitcoin is  0.00146031579677387\n",
            "The daily variance of Bitcoin is  0.001730680861420213\n",
            "The daily standard deviation (volatility) of Bitcoin return is  0.041601452635938244\n",
            "The daily median return of Bitcoin is  0.002087127436135816\n"
          ]
        }
      ]
    },
    {
      "cell_type": "markdown",
      "source": [
        "**3.2 CHALLENGES: Histogram**\n",
        "\n",
        "*   Do a histogram for daily Bitcoin cc returns. Hints: use the plot.hist function for pandas dataframes, and the BTC dataframe.\n",
        "*   Interpret the histogram with your own words and in CAPITAL LETTERS"
      ],
      "metadata": {
        "id": "r_zMrzpxhhIN"
      }
    },
    {
      "cell_type": "code",
      "source": [
        "r_bitcoin = pd.DataFrame(BTC[[\"R\"]])\n",
        "hist=r_bitcoin.plot.hist(bins=12,alpha=0.5,title=\"Histogram of daily Bitcoin Returns\")"
      ],
      "metadata": {
        "colab": {
          "base_uri": "https://localhost:8080/",
          "height": 281
        },
        "id": "PHPAJGctiB-f",
        "outputId": "79d0ff08-9ff9-4440-ec80-44c43da9b6b1"
      },
      "execution_count": 15,
      "outputs": [
        {
          "output_type": "display_data",
          "data": {
            "text/plain": [
              "<Figure size 432x288 with 1 Axes>"
            ],
            "image/png": "[encoded data removed]"
          },
          "metadata": {
            "needs_background": "light"
          }
        }
      ]
    },
    {
      "cell_type": "markdown",
      "source": [
        "**Interpretación**"
      ],
      "metadata": {
        "id": "zy01sxRXa6n9"
      }
    },
    {
      "cell_type": "markdown",
      "source": [
        "PODEMOS OBSERVAR EN EL HISTOGRAMA QUE EL BITCOIN TIENDE A MANTENER UNA TASA DE CAMBIO CERCANA AL CERO DIARIAMENTE, LEVEMENTE POR ARRIBA DE ESTE. AUNQUE IGUALMENTE HAY REGISTROS DONDE SE VE DISMINUIDO SU VALOR DE MANERA MÁS NOTORIA EN COMPARACIÓN A SU CONTRAPARTE POSITIVA, POR LO QUE LAS CAÍDAS TENDRÁN UN IMPACTO MAYOR QUE LAS SUBIDAS CUANDO SUCEDAN."
      ],
      "metadata": {
        "id": "3aro890SbAOD"
      }
    },
    {
      "cell_type": "markdown",
      "source": [
        "We use the histogram to visualize random variables with historical values. For expected values of random variables we can use the concept of probability density function, which is analogous to the concept of the histogram, but applied to the expectation of possible values of a random variable."
      ],
      "metadata": {
        "id": "xoLrJo3aiI5M"
      }
    },
    {
      "cell_type": "markdown",
      "source": [
        "**5 The Normal Distribution Function**\n",
        "\n",
        "The most popular continuous PDF (Probability density function) is the well-known “bell-shaped” normal distribution, which PDF is defined as:"
      ],
      "metadata": {
        "id": "IBHqxIquNl3X"
      }
    },
    {
      "cell_type": "markdown",
      "source": [
        "![imagen.png](data:image/png;base64,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)"
      ],
      "metadata": {
        "id": "n5-M0kpfN_uO"
      }
    },
    {
      "cell_type": "markdown",
      "source": [
        "![imagen.png](data:image/png;base64,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)"
      ],
      "metadata": {
        "id": "Kxs6KCUgOcvW"
      }
    },
    {
      "cell_type": "markdown",
      "source": [
        "![imagen.png](data:image/png;base64,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)"
      ],
      "metadata": {
        "id": "TkhgzlGVOg71"
      }
    },
    {
      "cell_type": "markdown",
      "source": [
        "![imagen.png](data:image/png;base64,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)"
      ],
      "metadata": {
        "id": "_uffywPrQNNM"
      }
    },
    {
      "cell_type": "markdown",
      "source": [
        "**5.2 CHALLENGE: Simulating the normal distribution**\n",
        "\n",
        "Use the mean and standard deviation of the historical cc returns of Bitcoin and simulate the same # of returns as the days we dowloaded in the BTC dataframe.\n",
        "\n",
        "In one plot show both, the real distribution of historical cc returns and the simulated normal distribution.\n",
        "\n",
        "DO YOU SEE A DIFFERENCE BEWEEN THE REAL VS THE SIMULATED RETURNS? BRIEFLY EXPLAIN."
      ],
      "metadata": {
        "id": "NqGWnMZliP2j"
      }
    },
    {
      "cell_type": "code",
      "source": [
        "ccr_mean=BTC[\"r\"].mean()\n",
        "ccr_std=BTC[\"r\"].std()\n",
        "ccr_size=len(BTC)"
      ],
      "metadata": {
        "id": "MJuD90-lQzdj"
      },
      "execution_count": 16,
      "outputs": []
    },
    {
      "cell_type": "code",
      "source": [
        "from matplotlib import pyplot\n",
        "\n",
        "ccr_bitcoin = pd.DataFrame(BTC[[\"r\"]])\n",
        "\n",
        "bins=200\n",
        "\n",
        "simulated_r = np.random.normal(loc=ccr_mean, scale=ccr_std, size=ccr_size)\n",
        "\n",
        "pyplot.figure(figsize = (10, 8))\n",
        "pyplot.hist(simulated_r, bins, alpha=0.5, label=\"Simulated returns\")\n",
        "pyplot.hist(ccr_bitcoin.to_numpy(), bins, alpha=0.5, label=\"Real\")\n",
        "pyplot.legend(loc=\"upper right\")\n",
        "pyplot.show()"
      ],
      "metadata": {
        "colab": {
          "base_uri": "https://localhost:8080/",
          "height": 483
        },
        "id": "slQfpOColxD7",
        "outputId": "e7d5d394-04c5-40b8-b229-ba709d51be12"
      },
      "execution_count": 24,
      "outputs": [
        {
          "output_type": "display_data",
          "data": {
            "text/plain": [
              "<Figure size 720x576 with 1 Axes>"
            ],
            "image/png": "[encoded data removed]"
          },
          "metadata": {
            "needs_background": "light"
          }
        }
      ]
    },
    {
      "cell_type": "markdown",
      "source": [
        "**Interpretación**"
      ],
      "metadata": {
        "id": "Wh8J96ZPob6N"
      }
    },
    {
      "cell_type": "markdown",
      "source": [
        "POPDEMOS VER QUE CON LOS DATOS ALEATORIOS SE CUENTA CON UNA MEJOR DISTRIBUCIÓN NORMAL, FORMANDO UNA ADECUADA CAMPANA DE GAUSS, EN COMPARACIÓN A LOS DATOS REALES DONDE TENEMOS PICOS MÁS ALTOS Y DISPERSIÓN EN LOS EXTREMOS, LO CUAL NOS HACE VER NUEVAMENTE LA VOLATILIDAD DE LA CRIPTOMONEDA Y EL VALOR DE RIESGO QUE PRESENTA."
      ],
      "metadata": {
        "id": "LkkHYpruocd_"
      }
    }
  ]
}