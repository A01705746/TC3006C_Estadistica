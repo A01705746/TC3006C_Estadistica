{
  "nbformat": 4,
  "nbformat_minor": 0,
  "metadata": {
    "colab": {
      "provenance": [],
      "collapsed_sections": []
    },
    "kernelspec": {
      "name": "python3",
      "display_name": "Python 3"
    },
    "language_info": {
      "name": "python"
    }
  },
  "cells": [
    {
      "cell_type": "markdown",
      "source": [
        "**Workshop 3, Enrique Santos Fraire, 15/08/2022**"
      ],
      "metadata": {
        "id": "y_L4dDR8CBx3"
      }
    },
    {
      "cell_type": "markdown",
      "source": [
        "Variable of study"
      ],
      "metadata": {
        "id": "-RklPbT3nroQ"
      }
    },
    {
      "cell_type": "markdown",
      "source": [
        "![image.png](data:image/png;base64,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)"
      ],
      "metadata": {
        "id": "Ktf1WniWnyYf"
      }
    },
    {
      "cell_type": "markdown",
      "source": [
        "One-sample t-test"
      ],
      "metadata": {
        "id": "jGkdKqoIlZRJ"
      }
    },
    {
      "cell_type": "markdown",
      "source": [
        "![image.png](data:image/png;base64,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)"
      ],
      "metadata": {
        "id": "rhabzx-9lhi5"
      }
    },
    {
      "cell_type": "markdown",
      "source": [
        "Two-sample t-test assuming that the population variances of both groups are NOT EQUAL, and the sample size of both groups is the same (N)."
      ],
      "metadata": {
        "id": "T9k--vtOlwQx"
      }
    },
    {
      "cell_type": "markdown",
      "source": [
        "![image.png](data:image/png;base64,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)"
      ],
      "metadata": {
        "id": "FnRHjG5Nl3fi"
      }
    },
    {
      "cell_type": "markdown",
      "source": [
        "t-statistic for the two-sample t-test is calculated as:"
      ],
      "metadata": {
        "id": "vGzfQSD5m72Q"
      }
    },
    {
      "cell_type": "markdown",
      "source": [
        "![image.png](data:image/png;base64,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)"
      ],
      "metadata": {
        "id": "m_PdUDjum_V4"
      }
    },
    {
      "cell_type": "markdown",
      "source": [
        "t is the # of standard deviations of the variable of study (in this case, the difference of the 2 means) that the empirical difference we got from the data is away from the hypothetical value, zero.\n",
        "\n",
        "The rule of thumb we have used is that if |t| > 2 we have have statistical evidence at least at the 95% confidence level to reject the null hypothesis (or to support our alternative hypothesis)."
      ],
      "metadata": {
        "id": "c3qQDU3MnmVI"
      }
    },
    {
      "cell_type": "markdown",
      "source": [
        "The pvalue of the test is actually the exact probability of making a Type I Error (opposite of confidence level) after we calculate the exact t-statistic. In other words, the pvalue is the probability that we will be wrong if we reject the null hypothesis (and support our hypothesis).\n",
        "\n",
        "For each value of a t-statistic, there is a corresponding pvalue. "
      ],
      "metadata": {
        "id": "ZpfVT8hdosfv"
      }
    },
    {
      "cell_type": "markdown",
      "source": [
        "![image.png](data:image/png;base64,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)"
      ],
      "metadata": {
        "id": "aTE8YDXPq_Qu"
      }
    },
    {
      "cell_type": "markdown",
      "source": [
        "# 3.1 CHALLENGE - IS AMD MEAN RETURN HIGHER THAN INTEL MEAN RETURN?"
      ],
      "metadata": {
        "id": "oowWexoqTVrI"
      }
    },
    {
      "cell_type": "code",
      "execution_count": 1,
      "metadata": {
        "colab": {
          "base_uri": "https://localhost:8080/"
        },
        "id": "jbfJwESaBof5",
        "outputId": "692ac145-ef0c-4af7-b82c-425c14bb1cd3"
      },
      "outputs": [
        {
          "output_type": "stream",
          "name": "stdout",
          "text": [
            "Looking in indexes: https://pypi.org/simple, https://us-python.pkg.dev/colab-wheels/public/simple/\n",
            "Requirement already satisfied: pandas in /usr/local/lib/python3.7/dist-packages (1.3.5)\n",
            "Requirement already satisfied: python-dateutil>=2.7.3 in /usr/local/lib/python3.7/dist-packages (from pandas) (2.8.2)\n",
            "Requirement already satisfied: numpy>=1.17.3 in /usr/local/lib/python3.7/dist-packages (from pandas) (1.21.6)\n",
            "Requirement already satisfied: pytz>=2017.3 in /usr/local/lib/python3.7/dist-packages (from pandas) (2022.2.1)\n",
            "Requirement already satisfied: six>=1.5 in /usr/local/lib/python3.7/dist-packages (from python-dateutil>=2.7.3->pandas) (1.15.0)\n",
            "Looking in indexes: https://pypi.org/simple, https://us-python.pkg.dev/colab-wheels/public/simple/\n",
            "Requirement already satisfied: pandas-datareader in /usr/local/lib/python3.7/dist-packages (0.10.0)\n",
            "Requirement already satisfied: pandas>=0.23 in /usr/local/lib/python3.7/dist-packages (from pandas-datareader) (1.3.5)\n",
            "Requirement already satisfied: lxml in /usr/local/lib/python3.7/dist-packages (from pandas-datareader) (4.9.1)\n",
            "Requirement already satisfied: requests>=2.19.0 in /usr/local/lib/python3.7/dist-packages (from pandas-datareader) (2.23.0)\n",
            "Requirement already satisfied: numpy>=1.17.3 in /usr/local/lib/python3.7/dist-packages (from pandas>=0.23->pandas-datareader) (1.21.6)\n",
            "Requirement already satisfied: python-dateutil>=2.7.3 in /usr/local/lib/python3.7/dist-packages (from pandas>=0.23->pandas-datareader) (2.8.2)\n",
            "Requirement already satisfied: pytz>=2017.3 in /usr/local/lib/python3.7/dist-packages (from pandas>=0.23->pandas-datareader) (2022.2.1)\n",
            "Requirement already satisfied: six>=1.5 in /usr/local/lib/python3.7/dist-packages (from python-dateutil>=2.7.3->pandas>=0.23->pandas-datareader) (1.15.0)\n",
            "Requirement already satisfied: chardet<4,>=3.0.2 in /usr/local/lib/python3.7/dist-packages (from requests>=2.19.0->pandas-datareader) (3.0.4)\n",
            "Requirement already satisfied: urllib3!=1.25.0,!=1.25.1,<1.26,>=1.21.1 in /usr/local/lib/python3.7/dist-packages (from requests>=2.19.0->pandas-datareader) (1.24.3)\n",
            "Requirement already satisfied: certifi>=2017.4.17 in /usr/local/lib/python3.7/dist-packages (from requests>=2.19.0->pandas-datareader) (2022.6.15)\n",
            "Requirement already satisfied: idna<3,>=2.5 in /usr/local/lib/python3.7/dist-packages (from requests>=2.19.0->pandas-datareader) (2.10)\n"
          ]
        }
      ],
      "source": [
        "import numpy as np\n",
        "import pandas as pd\n",
        "import pandas_datareader as pdr\n",
        "\n",
        "# Upgrade libraries\n",
        "!pip install --upgrade pandas\n",
        "!pip install --upgrade pandas-datareader"
      ]
    },
    {
      "cell_type": "code",
      "source": [
        "INTEL = pdr.get_data_yahoo('INTC', start=\"01/01/2017\", end=\"08/15/2022\", interval=\"m\")\n",
        "INTEL"
      ],
      "metadata": {
        "colab": {
          "base_uri": "https://localhost:8080/",
          "height": 455
        },
        "id": "YBTgwSBaLAaF",
        "outputId": "80f410e2-f610-4a1a-fb79-e5530536f4e4"
      },
      "execution_count": 38,
      "outputs": [
        {
          "output_type": "execute_result",
          "data": {
            "text/plain": [
              "                 High        Low       Open      Close       Volume  Adj Close\n",
              "Date                                                                          \n",
              "2017-01-01  38.450001  36.189999  36.610001  36.820000  456335100.0  31.593971\n",
              "2017-02-01  36.950001  34.840000  36.820000  36.200001  477551300.0  31.061968\n",
              "2017-03-01  36.299999  34.660000  35.849998  36.070000  546151800.0  31.171368\n",
              "2017-04-01  37.500000  35.209999  36.189999  36.150002  444122200.0  31.240507\n",
              "2017-05-01  37.169998  35.020000  36.110001  36.110001  432927300.0  31.205940\n",
              "...               ...        ...        ...        ...          ...        ...\n",
              "2022-04-01  49.900002  43.500000  49.830002  43.590000  639472500.0  42.815891\n",
              "2022-05-01  46.639999  40.310001  43.720001  44.419998  773236800.0  43.631153\n",
              "2022-06-01  44.930000  36.599998  44.770000  37.410000  783353000.0  37.036106\n",
              "2022-07-01  40.730000  35.240002  37.090000  36.310001  792839800.0  35.947102\n",
              "2022-08-01  37.689999  31.770000  36.049999  31.920000  899614100.0  31.600975\n",
              "\n",
              "[68 rows x 6 columns]"
            ],
            "text/html": [
              "\n",
              "  <div id=\"df-3ce68219-5f68-4319-b1b6-fe4ff7b99994\">\n",
              "    <div class=\"colab-df-container\">\n",
              "      <div>\n",
              "<style scoped>\n",
              "    .dataframe tbody tr th:only-of-type {\n",
              "        vertical-align: middle;\n",
              "    }\n",
              "\n",
              "    .dataframe tbody tr th {\n",
              "        vertical-align: top;\n",
              "    }\n",
              "\n",
              "    .dataframe thead th {\n",
              "        text-align: right;\n",
              "    }\n",
              "</style>\n",
              "<table border=\"1\" class=\"dataframe\">\n",
              "  <thead>\n",
              "    <tr style=\"text-align: right;\">\n",
              "      <th></th>\n",
              "      <th>High</th>\n",
              "      <th>Low</th>\n",
              "      <th>Open</th>\n",
              "      <th>Close</th>\n",
              "      <th>Volume</th>\n",
              "      <th>Adj Close</th>\n",
              "    </tr>\n",
              "    <tr>\n",
              "      <th>Date</th>\n",
              "      <th></th>\n",
              "      <th></th>\n",
              "      <th></th>\n",
              "      <th></th>\n",
              "      <th></th>\n",
              "      <th></th>\n",
              "    </tr>\n",
              "  </thead>\n",
              "  <tbody>\n",
              "    <tr>\n",
              "      <th>2017-01-01</th>\n",
              "      <td>38.450001</td>\n",
              "      <td>36.189999</td>\n",
              "      <td>36.610001</td>\n",
              "      <td>36.820000</td>\n",
              "      <td>456335100.0</td>\n",
              "      <td>31.593971</td>\n",
              "    </tr>\n",
              "    <tr>\n",
              "      <th>2017-02-01</th>\n",
              "      <td>36.950001</td>\n",
              "      <td>34.840000</td>\n",
              "      <td>36.820000</td>\n",
              "      <td>36.200001</td>\n",
              "      <td>477551300.0</td>\n",
              "      <td>31.061968</td>\n",
              "    </tr>\n",
              "    <tr>\n",
              "      <th>2017-03-01</th>\n",
              "      <td>36.299999</td>\n",
              "      <td>34.660000</td>\n",
              "      <td>35.849998</td>\n",
              "      <td>36.070000</td>\n",
              "      <td>546151800.0</td>\n",
              "      <td>31.171368</td>\n",
              "    </tr>\n",
              "    <tr>\n",
              "      <th>2017-04-01</th>\n",
              "      <td>37.500000</td>\n",
              "      <td>35.209999</td>\n",
              "      <td>36.189999</td>\n",
              "      <td>36.150002</td>\n",
              "      <td>444122200.0</td>\n",
              "      <td>31.240507</td>\n",
              "    </tr>\n",
              "    <tr>\n",
              "      <th>2017-05-01</th>\n",
              "      <td>37.169998</td>\n",
              "      <td>35.020000</td>\n",
              "      <td>36.110001</td>\n",
              "      <td>36.110001</td>\n",
              "      <td>432927300.0</td>\n",
              "      <td>31.205940</td>\n",
              "    </tr>\n",
              "    <tr>\n",
              "      <th>...</th>\n",
              "      <td>...</td>\n",
              "      <td>...</td>\n",
              "      <td>...</td>\n",
              "      <td>...</td>\n",
              "      <td>...</td>\n",
              "      <td>...</td>\n",
              "    </tr>\n",
              "    <tr>\n",
              "      <th>2022-04-01</th>\n",
              "      <td>49.900002</td>\n",
              "      <td>43.500000</td>\n",
              "      <td>49.830002</td>\n",
              "      <td>43.590000</td>\n",
              "      <td>639472500.0</td>\n",
              "      <td>42.815891</td>\n",
              "    </tr>\n",
              "    <tr>\n",
              "      <th>2022-05-01</th>\n",
              "      <td>46.639999</td>\n",
              "      <td>40.310001</td>\n",
              "      <td>43.720001</td>\n",
              "      <td>44.419998</td>\n",
              "      <td>773236800.0</td>\n",
              "      <td>43.631153</td>\n",
              "    </tr>\n",
              "    <tr>\n",
              "      <th>2022-06-01</th>\n",
              "      <td>44.930000</td>\n",
              "      <td>36.599998</td>\n",
              "      <td>44.770000</td>\n",
              "      <td>37.410000</td>\n",
              "      <td>783353000.0</td>\n",
              "      <td>37.036106</td>\n",
              "    </tr>\n",
              "    <tr>\n",
              "      <th>2022-07-01</th>\n",
              "      <td>40.730000</td>\n",
              "      <td>35.240002</td>\n",
              "      <td>37.090000</td>\n",
              "      <td>36.310001</td>\n",
              "      <td>792839800.0</td>\n",
              "      <td>35.947102</td>\n",
              "    </tr>\n",
              "    <tr>\n",
              "      <th>2022-08-01</th>\n",
              "      <td>37.689999</td>\n",
              "      <td>31.770000</td>\n",
              "      <td>36.049999</td>\n",
              "      <td>31.920000</td>\n",
              "      <td>899614100.0</td>\n",
              "      <td>31.600975</td>\n",
              "    </tr>\n",
              "  </tbody>\n",
              "</table>\n",
              "<p>68 rows × 6 columns</p>\n",
              "</div>\n",
              "      <button class=\"colab-df-convert\" onclick=\"convertToInteractive('df-3ce68219-5f68-4319-b1b6-fe4ff7b99994')\"\n",
              "              title=\"Convert this dataframe to an interactive table.\"\n",
              "              style=\"display:none;\">\n",
              "        \n",
              "  <svg xmlns=\"http://www.w3.org/2000/svg\" height=\"24px\"viewBox=\"0 0 24 24\"\n",
              "       width=\"24px\">\n",
              "    <path d=\"M0 0h24v24H0V0z\" fill=\"none\"/>\n",
              "    <path d=\"M18.56 5.44l.94 2.06.94-2.06 2.06-.94-2.06-.94-.94-2.06-.94 2.06-2.06.94zm-11 1L8.5 8.5l.94-2.06 2.06-.94-2.06-.94L8.5 2.5l-.94 2.06-2.06.94zm10 10l.94 2.06.94-2.06 2.06-.94-2.06-.94-.94-2.06-.94 2.06-2.06.94z\"/><path d=\"M17.41 7.96l-1.37-1.37c-.4-.4-.92-.59-1.43-.59-.52 0-1.04.2-1.43.59L10.3 9.45l-7.72 7.72c-.78.78-.78 2.05 0 2.83L4 21.41c.39.39.9.59 1.41.59.51 0 1.02-.2 1.41-.59l7.78-7.78 2.81-2.81c.8-.78.8-2.07 0-2.86zM5.41 20L4 18.59l7.72-7.72 1.47 1.35L5.41 20z\"/>\n",
              "  </svg>\n",
              "      </button>\n",
              "      \n",
              "  <style>\n",
              "    .colab-df-container {\n",
              "      display:flex;\n",
              "      flex-wrap:wrap;\n",
              "      gap: 12px;\n",
              "    }\n",
              "\n",
              "    .colab-df-convert {\n",
              "      background-color: #E8F0FE;\n",
              "      border: none;\n",
              "      border-radius: 50%;\n",
              "      cursor: pointer;\n",
              "      display: none;\n",
              "      fill: #1967D2;\n",
              "      height: 32px;\n",
              "      padding: 0 0 0 0;\n",
              "      width: 32px;\n",
              "    }\n",
              "\n",
              "    .colab-df-convert:hover {\n",
              "      background-color: #E2EBFA;\n",
              "      box-shadow: 0px 1px 2px rgba(60, 64, 67, 0.3), 0px 1px 3px 1px rgba(60, 64, 67, 0.15);\n",
              "      fill: #174EA6;\n",
              "    }\n",
              "\n",
              "    [theme=dark] .colab-df-convert {\n",
              "      background-color: #3B4455;\n",
              "      fill: #D2E3FC;\n",
              "    }\n",
              "\n",
              "    [theme=dark] .colab-df-convert:hover {\n",
              "      background-color: #434B5C;\n",
              "      box-shadow: 0px 1px 3px 1px rgba(0, 0, 0, 0.15);\n",
              "      filter: drop-shadow(0px 1px 2px rgba(0, 0, 0, 0.3));\n",
              "      fill: #FFFFFF;\n",
              "    }\n",
              "  </style>\n",
              "\n",
              "      <script>\n",
              "        const buttonEl =\n",
              "          document.querySelector('#df-3ce68219-5f68-4319-b1b6-fe4ff7b99994 button.colab-df-convert');\n",
              "        buttonEl.style.display =\n",
              "          google.colab.kernel.accessAllowed ? 'block' : 'none';\n",
              "\n",
              "        async function convertToInteractive(key) {\n",
              "          const element = document.querySelector('#df-3ce68219-5f68-4319-b1b6-fe4ff7b99994');\n",
              "          const dataTable =\n",
              "            await google.colab.kernel.invokeFunction('convertToInteractive',\n",
              "                                                     [key], {});\n",
              "          if (!dataTable) return;\n",
              "\n",
              "          const docLinkHtml = 'Like what you see? Visit the ' +\n",
              "            '<a target=\"_blank\" href=https://colab.research.google.com/notebooks/data_table.ipynb>data table notebook</a>'\n",
              "            + ' to learn more about interactive tables.';\n",
              "          element.innerHTML = '';\n",
              "          dataTable['output_type'] = 'display_data';\n",
              "          await google.colab.output.renderOutput(dataTable, element);\n",
              "          const docLink = document.createElement('div');\n",
              "          docLink.innerHTML = docLinkHtml;\n",
              "          element.appendChild(docLink);\n",
              "        }\n",
              "      </script>\n",
              "    </div>\n",
              "  </div>\n",
              "  "
            ]
          },
          "metadata": {},
          "execution_count": 38
        }
      ]
    },
    {
      "cell_type": "code",
      "source": [
        "AMD = pdr.get_data_yahoo('AMD', start=\"01/01/2017\", end=\"08/15/2022\", interval=\"m\")\n",
        "AMD"
      ],
      "metadata": {
        "colab": {
          "base_uri": "https://localhost:8080/",
          "height": 455
        },
        "id": "FMQjvdOLL8c-",
        "outputId": "2976271f-acd5-46fc-d321-53a91f62cfc6"
      },
      "execution_count": 39,
      "outputs": [
        {
          "output_type": "execute_result",
          "data": {
            "text/plain": [
              "                  High        Low        Open       Close      Volume  \\\n",
              "Date                                                                    \n",
              "2017-01-01   11.690000   9.420000   11.420000   10.370000   878890400   \n",
              "2017-02-01   15.550000  10.810000   10.900000   14.460000  1571999700   \n",
              "2017-03-01   15.090000  12.380000   15.080000   14.550000  1733593200   \n",
              "2017-04-01   14.740000  12.220000   14.600000   13.300000   943383500   \n",
              "2017-05-01   13.630000   9.850000   13.430000   11.190000  1716437000   \n",
              "...                ...        ...         ...         ...         ...   \n",
              "2022-04-01  111.419998  84.019997  110.480003   85.519997  1719017900   \n",
              "2022-05-01  104.550003  83.269997   85.660004  101.860001  2898334400   \n",
              "2022-06-01  109.570000  75.480003  102.129997   76.470001  2030987200   \n",
              "2022-07-01   94.809998  71.599998   75.190002   94.470001  1633201100   \n",
              "2022-08-01  104.589996  83.720001   95.589996   84.870003  1800894100   \n",
              "\n",
              "             Adj Close  \n",
              "Date                    \n",
              "2017-01-01   10.370000  \n",
              "2017-02-01   14.460000  \n",
              "2017-03-01   14.550000  \n",
              "2017-04-01   13.300000  \n",
              "2017-05-01   11.190000  \n",
              "...                ...  \n",
              "2022-04-01   85.519997  \n",
              "2022-05-01  101.860001  \n",
              "2022-06-01   76.470001  \n",
              "2022-07-01   94.470001  \n",
              "2022-08-01   84.870003  \n",
              "\n",
              "[68 rows x 6 columns]"
            ],
            "text/html": [
              "\n",
              "  <div id=\"df-72e53b88-154e-4c27-a372-bc6a1e732d4a\">\n",
              "    <div class=\"colab-df-container\">\n",
              "      <div>\n",
              "<style scoped>\n",
              "    .dataframe tbody tr th:only-of-type {\n",
              "        vertical-align: middle;\n",
              "    }\n",
              "\n",
              "    .dataframe tbody tr th {\n",
              "        vertical-align: top;\n",
              "    }\n",
              "\n",
              "    .dataframe thead th {\n",
              "        text-align: right;\n",
              "    }\n",
              "</style>\n",
              "<table border=\"1\" class=\"dataframe\">\n",
              "  <thead>\n",
              "    <tr style=\"text-align: right;\">\n",
              "      <th></th>\n",
              "      <th>High</th>\n",
              "      <th>Low</th>\n",
              "      <th>Open</th>\n",
              "      <th>Close</th>\n",
              "      <th>Volume</th>\n",
              "      <th>Adj Close</th>\n",
              "    </tr>\n",
              "    <tr>\n",
              "      <th>Date</th>\n",
              "      <th></th>\n",
              "      <th></th>\n",
              "      <th></th>\n",
              "      <th></th>\n",
              "      <th></th>\n",
              "      <th></th>\n",
              "    </tr>\n",
              "  </thead>\n",
              "  <tbody>\n",
              "    <tr>\n",
              "      <th>2017-01-01</th>\n",
              "      <td>11.690000</td>\n",
              "      <td>9.420000</td>\n",
              "      <td>11.420000</td>\n",
              "      <td>10.370000</td>\n",
              "      <td>878890400</td>\n",
              "      <td>10.370000</td>\n",
              "    </tr>\n",
              "    <tr>\n",
              "      <th>2017-02-01</th>\n",
              "      <td>15.550000</td>\n",
              "      <td>10.810000</td>\n",
              "      <td>10.900000</td>\n",
              "      <td>14.460000</td>\n",
              "      <td>1571999700</td>\n",
              "      <td>14.460000</td>\n",
              "    </tr>\n",
              "    <tr>\n",
              "      <th>2017-03-01</th>\n",
              "      <td>15.090000</td>\n",
              "      <td>12.380000</td>\n",
              "      <td>15.080000</td>\n",
              "      <td>14.550000</td>\n",
              "      <td>1733593200</td>\n",
              "      <td>14.550000</td>\n",
              "    </tr>\n",
              "    <tr>\n",
              "      <th>2017-04-01</th>\n",
              "      <td>14.740000</td>\n",
              "      <td>12.220000</td>\n",
              "      <td>14.600000</td>\n",
              "      <td>13.300000</td>\n",
              "      <td>943383500</td>\n",
              "      <td>13.300000</td>\n",
              "    </tr>\n",
              "    <tr>\n",
              "      <th>2017-05-01</th>\n",
              "      <td>13.630000</td>\n",
              "      <td>9.850000</td>\n",
              "      <td>13.430000</td>\n",
              "      <td>11.190000</td>\n",
              "      <td>1716437000</td>\n",
              "      <td>11.190000</td>\n",
              "    </tr>\n",
              "    <tr>\n",
              "      <th>...</th>\n",
              "      <td>...</td>\n",
              "      <td>...</td>\n",
              "      <td>...</td>\n",
              "      <td>...</td>\n",
              "      <td>...</td>\n",
              "      <td>...</td>\n",
              "    </tr>\n",
              "    <tr>\n",
              "      <th>2022-04-01</th>\n",
              "      <td>111.419998</td>\n",
              "      <td>84.019997</td>\n",
              "      <td>110.480003</td>\n",
              "      <td>85.519997</td>\n",
              "      <td>1719017900</td>\n",
              "      <td>85.519997</td>\n",
              "    </tr>\n",
              "    <tr>\n",
              "      <th>2022-05-01</th>\n",
              "      <td>104.550003</td>\n",
              "      <td>83.269997</td>\n",
              "      <td>85.660004</td>\n",
              "      <td>101.860001</td>\n",
              "      <td>2898334400</td>\n",
              "      <td>101.860001</td>\n",
              "    </tr>\n",
              "    <tr>\n",
              "      <th>2022-06-01</th>\n",
              "      <td>109.570000</td>\n",
              "      <td>75.480003</td>\n",
              "      <td>102.129997</td>\n",
              "      <td>76.470001</td>\n",
              "      <td>2030987200</td>\n",
              "      <td>76.470001</td>\n",
              "    </tr>\n",
              "    <tr>\n",
              "      <th>2022-07-01</th>\n",
              "      <td>94.809998</td>\n",
              "      <td>71.599998</td>\n",
              "      <td>75.190002</td>\n",
              "      <td>94.470001</td>\n",
              "      <td>1633201100</td>\n",
              "      <td>94.470001</td>\n",
              "    </tr>\n",
              "    <tr>\n",
              "      <th>2022-08-01</th>\n",
              "      <td>104.589996</td>\n",
              "      <td>83.720001</td>\n",
              "      <td>95.589996</td>\n",
              "      <td>84.870003</td>\n",
              "      <td>1800894100</td>\n",
              "      <td>84.870003</td>\n",
              "    </tr>\n",
              "  </tbody>\n",
              "</table>\n",
              "<p>68 rows × 6 columns</p>\n",
              "</div>\n",
              "      <button class=\"colab-df-convert\" onclick=\"convertToInteractive('df-72e53b88-154e-4c27-a372-bc6a1e732d4a')\"\n",
              "              title=\"Convert this dataframe to an interactive table.\"\n",
              "              style=\"display:none;\">\n",
              "        \n",
              "  <svg xmlns=\"http://www.w3.org/2000/svg\" height=\"24px\"viewBox=\"0 0 24 24\"\n",
              "       width=\"24px\">\n",
              "    <path d=\"M0 0h24v24H0V0z\" fill=\"none\"/>\n",
              "    <path d=\"M18.56 5.44l.94 2.06.94-2.06 2.06-.94-2.06-.94-.94-2.06-.94 2.06-2.06.94zm-11 1L8.5 8.5l.94-2.06 2.06-.94-2.06-.94L8.5 2.5l-.94 2.06-2.06.94zm10 10l.94 2.06.94-2.06 2.06-.94-2.06-.94-.94-2.06-.94 2.06-2.06.94z\"/><path d=\"M17.41 7.96l-1.37-1.37c-.4-.4-.92-.59-1.43-.59-.52 0-1.04.2-1.43.59L10.3 9.45l-7.72 7.72c-.78.78-.78 2.05 0 2.83L4 21.41c.39.39.9.59 1.41.59.51 0 1.02-.2 1.41-.59l7.78-7.78 2.81-2.81c.8-.78.8-2.07 0-2.86zM5.41 20L4 18.59l7.72-7.72 1.47 1.35L5.41 20z\"/>\n",
              "  </svg>\n",
              "      </button>\n",
              "      \n",
              "  <style>\n",
              "    .colab-df-container {\n",
              "      display:flex;\n",
              "      flex-wrap:wrap;\n",
              "      gap: 12px;\n",
              "    }\n",
              "\n",
              "    .colab-df-convert {\n",
              "      background-color: #E8F0FE;\n",
              "      border: none;\n",
              "      border-radius: 50%;\n",
              "      cursor: pointer;\n",
              "      display: none;\n",
              "      fill: #1967D2;\n",
              "      height: 32px;\n",
              "      padding: 0 0 0 0;\n",
              "      width: 32px;\n",
              "    }\n",
              "\n",
              "    .colab-df-convert:hover {\n",
              "      background-color: #E2EBFA;\n",
              "      box-shadow: 0px 1px 2px rgba(60, 64, 67, 0.3), 0px 1px 3px 1px rgba(60, 64, 67, 0.15);\n",
              "      fill: #174EA6;\n",
              "    }\n",
              "\n",
              "    [theme=dark] .colab-df-convert {\n",
              "      background-color: #3B4455;\n",
              "      fill: #D2E3FC;\n",
              "    }\n",
              "\n",
              "    [theme=dark] .colab-df-convert:hover {\n",
              "      background-color: #434B5C;\n",
              "      box-shadow: 0px 1px 3px 1px rgba(0, 0, 0, 0.15);\n",
              "      filter: drop-shadow(0px 1px 2px rgba(0, 0, 0, 0.3));\n",
              "      fill: #FFFFFF;\n",
              "    }\n",
              "  </style>\n",
              "\n",
              "      <script>\n",
              "        const buttonEl =\n",
              "          document.querySelector('#df-72e53b88-154e-4c27-a372-bc6a1e732d4a button.colab-df-convert');\n",
              "        buttonEl.style.display =\n",
              "          google.colab.kernel.accessAllowed ? 'block' : 'none';\n",
              "\n",
              "        async function convertToInteractive(key) {\n",
              "          const element = document.querySelector('#df-72e53b88-154e-4c27-a372-bc6a1e732d4a');\n",
              "          const dataTable =\n",
              "            await google.colab.kernel.invokeFunction('convertToInteractive',\n",
              "                                                     [key], {});\n",
              "          if (!dataTable) return;\n",
              "\n",
              "          const docLinkHtml = 'Like what you see? Visit the ' +\n",
              "            '<a target=\"_blank\" href=https://colab.research.google.com/notebooks/data_table.ipynb>data table notebook</a>'\n",
              "            + ' to learn more about interactive tables.';\n",
              "          element.innerHTML = '';\n",
              "          dataTable['output_type'] = 'display_data';\n",
              "          await google.colab.output.renderOutput(dataTable, element);\n",
              "          const docLink = document.createElement('div');\n",
              "          docLink.innerHTML = docLinkHtml;\n",
              "          element.appendChild(docLink);\n",
              "        }\n",
              "      </script>\n",
              "    </div>\n",
              "  </div>\n",
              "  "
            ]
          },
          "metadata": {},
          "execution_count": 39
        }
      ]
    },
    {
      "cell_type": "code",
      "source": [
        "import matplotlib\n",
        "import matplotlib.pyplot as plt\n",
        "import math"
      ],
      "metadata": {
        "id": "ZYsyX7y-NwBT"
      },
      "execution_count": 40,
      "outputs": []
    },
    {
      "cell_type": "markdown",
      "source": [
        "CALCULO DE CC RETURNS"
      ],
      "metadata": {
        "id": "tF2VPFgLtJpl"
      }
    },
    {
      "cell_type": "code",
      "source": [
        "INTEL['r'] = np.log(INTEL['Adj Close']) - np.log(INTEL['Adj Close'].shift(1))\n",
        "INTEL['r']"
      ],
      "metadata": {
        "colab": {
          "base_uri": "https://localhost:8080/"
        },
        "id": "_8TYUGD7MniN",
        "outputId": "aac5aa11-07c2-4869-80f0-6f1991e53173"
      },
      "execution_count": 41,
      "outputs": [
        {
          "output_type": "execute_result",
          "data": {
            "text/plain": [
              "Date\n",
              "2017-01-01         NaN\n",
              "2017-02-01   -0.016982\n",
              "2017-03-01    0.003516\n",
              "2017-04-01    0.002216\n",
              "2017-05-01   -0.001107\n",
              "                ...   \n",
              "2022-04-01   -0.128356\n",
              "2022-05-01    0.018862\n",
              "2022-06-01   -0.163878\n",
              "2022-07-01   -0.029845\n",
              "2022-08-01   -0.128860\n",
              "Name: r, Length: 68, dtype: float64"
            ]
          },
          "metadata": {},
          "execution_count": 41
        }
      ]
    },
    {
      "cell_type": "code",
      "source": [
        "AMD['r'] = np.log(AMD['Adj Close']) - np.log(AMD['Adj Close'].shift(1))\n",
        "AMD['r']"
      ],
      "metadata": {
        "colab": {
          "base_uri": "https://localhost:8080/"
        },
        "id": "yM436wsTsKqt",
        "outputId": "a70d06df-8583-4b68-b1c0-6b57349ab512"
      },
      "execution_count": 42,
      "outputs": [
        {
          "output_type": "execute_result",
          "data": {
            "text/plain": [
              "Date\n",
              "2017-01-01         NaN\n",
              "2017-02-01    0.332469\n",
              "2017-03-01    0.006205\n",
              "2017-04-01   -0.089827\n",
              "2017-05-01   -0.172744\n",
              "                ...   \n",
              "2022-04-01   -0.245712\n",
              "2022-05-01    0.174849\n",
              "2022-06-01   -0.286701\n",
              "2022-07-01    0.211384\n",
              "2022-08-01   -0.107162\n",
              "Name: r, Length: 68, dtype: float64"
            ]
          },
          "metadata": {},
          "execution_count": 42
        }
      ]
    },
    {
      "cell_type": "code",
      "source": [
        "INTEL = INTEL.dropna()\n",
        "AMD = AMD.dropna()"
      ],
      "metadata": {
        "id": "PJ3zz1gws0Xl"
      },
      "execution_count": 43,
      "outputs": []
    },
    {
      "cell_type": "code",
      "source": [
        "plt.hist(INTEL['r'], bins=15)\n",
        "plt.show()"
      ],
      "metadata": {
        "colab": {
          "base_uri": "https://localhost:8080/",
          "height": 265
        },
        "id": "svH-dqKFsTN1",
        "outputId": "bdaaec64-9372-417a-aeab-7e5b4011e5b6"
      },
      "execution_count": 44,
      "outputs": [
        {
          "output_type": "display_data",
          "data": {
            "text/plain": [
              "<Figure size 432x288 with 1 Axes>"
            ],
            "image/png": "[encoded data removed]"
          },
          "metadata": {
            "needs_background": "light"
          }
        }
      ]
    },
    {
      "cell_type": "code",
      "source": [
        "plt.hist(AMD['r'], bins=15)\n",
        "plt.show()"
      ],
      "metadata": {
        "colab": {
          "base_uri": "https://localhost:8080/",
          "height": 265
        },
        "id": "tuLrVD9nseqO",
        "outputId": "4ba16813-7cb1-44f6-cb7c-b81c8f0539f6"
      },
      "execution_count": 45,
      "outputs": [
        {
          "output_type": "display_data",
          "data": {
            "text/plain": [
              "<Figure size 432x288 with 1 Axes>"
            ],
            "image/png": "[encoded data removed]"
          },
          "metadata": {
            "needs_background": "light"
          }
        }
      ]
    },
    {
      "cell_type": "markdown",
      "source": [
        "*HIPÓTESIS*\n",
        "\n",
        "H0: (mean(rAMD) - mean(rINTEL)) = 0\n",
        "\n",
        "Ha: (mean(rAMD) - mean(rINTEL)) <> 0"
      ],
      "metadata": {
        "id": "aOFcSdt-tZec"
      }
    },
    {
      "cell_type": "code",
      "source": [
        "AMD_mean = AMD[\"r\"].mean()\n",
        "AMD_mean"
      ],
      "metadata": {
        "colab": {
          "base_uri": "https://localhost:8080/"
        },
        "id": "JoNxoH-atjs7",
        "outputId": "2081f439-748b-43c1-f86a-18721fc1d509"
      },
      "execution_count": 46,
      "outputs": [
        {
          "output_type": "execute_result",
          "data": {
            "text/plain": [
              "0.03137617455430063"
            ]
          },
          "metadata": {},
          "execution_count": 46
        }
      ]
    },
    {
      "cell_type": "code",
      "source": [
        "AMD_var = AMD[\"r\"].var()\n",
        "AMD_var"
      ],
      "metadata": {
        "colab": {
          "base_uri": "https://localhost:8080/"
        },
        "id": "DoUS-Gmyt_0U",
        "outputId": "647fb7a1-0ddc-4c18-8200-13aa4327bf16"
      },
      "execution_count": 47,
      "outputs": [
        {
          "output_type": "execute_result",
          "data": {
            "text/plain": [
              "0.026540656692007288"
            ]
          },
          "metadata": {},
          "execution_count": 47
        }
      ]
    },
    {
      "cell_type": "code",
      "source": [
        "INTEL_mean = INTEL[\"r\"].mean()\n",
        "INTEL_mean"
      ],
      "metadata": {
        "colab": {
          "base_uri": "https://localhost:8080/"
        },
        "id": "WSYCKsHXt9n0",
        "outputId": "ad830c4b-4d4d-4e0e-988f-3c9607e9e5f9"
      },
      "execution_count": 48,
      "outputs": [
        {
          "output_type": "execute_result",
          "data": {
            "text/plain": [
              "3.308305451637823e-06"
            ]
          },
          "metadata": {},
          "execution_count": 48
        }
      ]
    },
    {
      "cell_type": "code",
      "source": [
        "INTEL_var = INTEL[\"r\"].var()\n",
        "INTEL_var"
      ],
      "metadata": {
        "colab": {
          "base_uri": "https://localhost:8080/"
        },
        "id": "zqvSfreIuBQD",
        "outputId": "16d8cded-b5ed-497c-b236-7a0be9650ccf"
      },
      "execution_count": 49,
      "outputs": [
        {
          "output_type": "execute_result",
          "data": {
            "text/plain": [
              "0.005888770498297462"
            ]
          },
          "metadata": {},
          "execution_count": 49
        }
      ]
    },
    {
      "cell_type": "code",
      "source": [
        "t_value = (AMD_mean - INTEL_mean - 0) / math.sqrt((INTEL_var + AMD_var) / INTEL[\"r\"].count())\n",
        "t_value"
      ],
      "metadata": {
        "colab": {
          "base_uri": "https://localhost:8080/"
        },
        "id": "e1XY9PGWvgoD",
        "outputId": "b06f94f6-b030-40c4-a3c0-ac6099d58bbd"
      },
      "execution_count": 50,
      "outputs": [
        {
          "output_type": "execute_result",
          "data": {
            "text/plain": [
              "1.426007995238894"
            ]
          },
          "metadata": {},
          "execution_count": 50
        }
      ]
    },
    {
      "cell_type": "code",
      "source": [
        "# Calculating the pvalue from the t-Statistic:\n",
        "from scipy import stats as st\n",
        "# The st.t.sf function calculates the 1-tailed pvalue, so we multiply it by 2 to get the 2-tailed pvalue\n",
        "# the degrees of freedom for 2-independent-means t-test is calculated with the following formula:\n",
        "\n",
        "N = INTEL[\"r\"].count()\n",
        "df = ( ((N-1) / N**2) * (AMD_var + INTEL_var)**2  / ( (AMD_var/N)**2 + (INTEL_var/N)**2  ) )\n",
        "# Now we calculate the pvalue with the t and df:\n",
        "pvalue = 2 * st.t.sf(np.abs(t_value), df)\n",
        "pvalue"
      ],
      "metadata": {
        "colab": {
          "base_uri": "https://localhost:8080/"
        },
        "id": "7-NBXGwew_5Z",
        "outputId": "23b4799d-619a-4d53-aa73-ca885621bb3f"
      },
      "execution_count": 51,
      "outputs": [
        {
          "output_type": "execute_result",
          "data": {
            "text/plain": [
              "0.15718168867129126"
            ]
          },
          "metadata": {},
          "execution_count": 51
        }
      ]
    },
    {
      "cell_type": "code",
      "source": [
        "# Using the ttest_ind function from stats:\n",
        "st.ttest_ind(AMD[\"r\"],INTEL[\"r\"],equal_var=False)\n",
        "# We got the same result as above!\n",
        "# With this function we avoid calculating all steps of the hypothesis test!"
      ],
      "metadata": {
        "colab": {
          "base_uri": "https://localhost:8080/"
        },
        "id": "ZWEtYsloxg6C",
        "outputId": "b8bfffae-e139-4b2b-9d89-b869115468d0"
      },
      "execution_count": 52,
      "outputs": [
        {
          "output_type": "execute_result",
          "data": {
            "text/plain": [
              "Ttest_indResult(statistic=1.426007995238894, pvalue=0.15718168867129126)"
            ]
          },
          "metadata": {},
          "execution_count": 52
        }
      ]
    },
    {
      "cell_type": "code",
      "source": [
        "!pip install researchpy\n",
        "import researchpy as rp"
      ],
      "metadata": {
        "colab": {
          "base_uri": "https://localhost:8080/"
        },
        "id": "ICZXRh-pyJGY",
        "outputId": "bb6df088-c2d7-449a-f6c4-e9c2a199d3b3"
      },
      "execution_count": 54,
      "outputs": [
        {
          "output_type": "stream",
          "name": "stdout",
          "text": [
            "Looking in indexes: https://pypi.org/simple, https://us-python.pkg.dev/colab-wheels/public/simple/\n",
            "Collecting researchpy\n",
            "  Downloading researchpy-0.3.2-py3-none-any.whl (15 kB)\n",
            "Requirement already satisfied: pandas in /usr/local/lib/python3.7/dist-packages (from researchpy) (1.3.5)\n",
            "Requirement already satisfied: patsy in /usr/local/lib/python3.7/dist-packages (from researchpy) (0.5.2)\n",
            "Requirement already satisfied: scipy in /usr/local/lib/python3.7/dist-packages (from researchpy) (1.7.3)\n",
            "Requirement already satisfied: statsmodels in /usr/local/lib/python3.7/dist-packages (from researchpy) (0.12.2)\n",
            "Requirement already satisfied: numpy in /usr/local/lib/python3.7/dist-packages (from researchpy) (1.21.6)\n",
            "Requirement already satisfied: pytz>=2017.3 in /usr/local/lib/python3.7/dist-packages (from pandas->researchpy) (2022.2.1)\n",
            "Requirement already satisfied: python-dateutil>=2.7.3 in /usr/local/lib/python3.7/dist-packages (from pandas->researchpy) (2.8.2)\n",
            "Requirement already satisfied: six>=1.5 in /usr/local/lib/python3.7/dist-packages (from python-dateutil>=2.7.3->pandas->researchpy) (1.15.0)\n",
            "Installing collected packages: researchpy\n",
            "Successfully installed researchpy-0.3.2\n"
          ]
        }
      ]
    },
    {
      "cell_type": "code",
      "source": [
        "# Using the ttest function from researchpy:\n",
        "rp.ttest(AMD[\"r\"],INTEL[\"r\"],equal_variances=False)\n",
        "# We got the same result as above!\n",
        "# With this function we avoid calculating all steps of the hypothesis test!"
      ],
      "metadata": {
        "colab": {
          "base_uri": "https://localhost:8080/"
        },
        "id": "CYQ4b4alx4d5",
        "outputId": "7de946c6-9257-4c11-d9f8-c732a64442f8"
      },
      "execution_count": 55,
      "outputs": [
        {
          "output_type": "execute_result",
          "data": {
            "text/plain": [
              "(   Variable      N      Mean        SD        SE  95% Conf.  Interval\n",
              " 0         r   67.0  0.031376  0.162913  0.019903  -0.008361  0.071114\n",
              " 1         r   67.0  0.000003  0.076738  0.009375  -0.018715  0.018721\n",
              " 2  combined  134.0  0.015690  0.127831  0.011043  -0.006153  0.037532,\n",
              "               Welch's t-test  results\n",
              " 0      Difference (r - r) =    0.0314\n",
              " 1      Degrees of freedom =   94.7595\n",
              " 2                       t =    1.4260\n",
              " 3   Two side test p value =    0.1572\n",
              " 4  Difference < 0 p value =    0.9214\n",
              " 5  Difference > 0 p value =    0.0786\n",
              " 6               Cohen's d =    0.2464\n",
              " 7               Hedge's g =    0.2450\n",
              " 8           Glass's delta =    0.1926\n",
              " 9             Pearson's r =    0.1449)"
            ]
          },
          "metadata": {},
          "execution_count": 55
        }
      ]
    },
    {
      "cell_type": "markdown",
      "source": [
        "# 4 Measures of linear relationship"
      ],
      "metadata": {
        "id": "4flUYrH_TpnJ"
      }
    },
    {
      "cell_type": "markdown",
      "source": [
        "La covarianza entre X y Y es\n",
        "Average of product deviations from the mean of each variable.\n",
        "\n",
        "Cov(x,y) = 1/N [(x1 - x mean) (y1 - y mean) + ... + (xn - x mean) (yn - ymean)]\n",
        "\n",
        "Var(x) = Cov(x,x) = 1/N [(x1 - x mean) (x1 - x mean)] o (x1 - x mean)^2\n",
        "\n",
        "If cov(x,y) > 0, then, on average, x is positively related to y.\n",
        "\n",
        "If cov(x,y) < 0, then, on average, x is negatively related to y.\n",
        "\n",
        "If cov(x,y) = -32\n",
        "We can't understand the magnitude of cov, only its sign (+, -, 0)\n",
        "\n",
        "We solve this problem of interpretation with the measure of correlation.\n",
        "\n",
        "Corr(x,y) = cov(x,y) / [SD(x) * SD(y)]\n",
        "\n",
        "-1 <= corr(x,y) <= 1\n",
        "\n",
        "If corr(x,y) = +0.30 then, about 30% of the cases, when x increases, y increases. And when x decreases, y decreases.\n",
        "\n",
        "If corr(x,y) = -0.30 then, about 30% of the cases, when x increases, y decreases. And when x decreases, y increases.\n",
        "\n",
        "SD(corr(x,y)) = ? = std error of\n",
        "\n",
        "t =  corr(x,y) / SD"
      ],
      "metadata": {
        "id": "8C0qLVyJT0XR"
      }
    },
    {
      "cell_type": "code",
      "source": [
        "!pip install yfinance\n",
        "import numpy as np\n",
        "import pandas as pd\n",
        "import pandas_datareader as pdr\n",
        "import yfinance as yf\n",
        "import matplotlib\n",
        "import matplotlib.pyplot as plt"
      ],
      "metadata": {
        "colab": {
          "base_uri": "https://localhost:8080/"
        },
        "id": "BTDRLYbPywtg",
        "outputId": "86f23a1d-ad53-404e-8dae-86be26b11320"
      },
      "execution_count": 1,
      "outputs": [
        {
          "output_type": "stream",
          "name": "stdout",
          "text": [
            "Looking in indexes: https://pypi.org/simple, https://us-python.pkg.dev/colab-wheels/public/simple/\n",
            "Requirement already satisfied: yfinance in /usr/local/lib/python3.7/dist-packages (0.1.74)\n",
            "Requirement already satisfied: requests>=2.26 in /usr/local/lib/python3.7/dist-packages (from yfinance) (2.28.1)\n",
            "Requirement already satisfied: lxml>=4.5.1 in /usr/local/lib/python3.7/dist-packages (from yfinance) (4.9.1)\n",
            "Requirement already satisfied: pandas>=0.24.0 in /usr/local/lib/python3.7/dist-packages (from yfinance) (1.3.5)\n",
            "Requirement already satisfied: multitasking>=0.0.7 in /usr/local/lib/python3.7/dist-packages (from yfinance) (0.0.11)\n",
            "Requirement already satisfied: numpy>=1.15 in /usr/local/lib/python3.7/dist-packages (from yfinance) (1.21.6)\n",
            "Requirement already satisfied: python-dateutil>=2.7.3 in /usr/local/lib/python3.7/dist-packages (from pandas>=0.24.0->yfinance) (2.8.2)\n",
            "Requirement already satisfied: pytz>=2017.3 in /usr/local/lib/python3.7/dist-packages (from pandas>=0.24.0->yfinance) (2022.2.1)\n",
            "Requirement already satisfied: six>=1.5 in /usr/local/lib/python3.7/dist-packages (from python-dateutil>=2.7.3->pandas>=0.24.0->yfinance) (1.15.0)\n",
            "Requirement already satisfied: idna<4,>=2.5 in /usr/local/lib/python3.7/dist-packages (from requests>=2.26->yfinance) (2.10)\n",
            "Requirement already satisfied: certifi>=2017.4.17 in /usr/local/lib/python3.7/dist-packages (from requests>=2.26->yfinance) (2022.6.15)\n",
            "Requirement already satisfied: urllib3<1.27,>=1.21.1 in /usr/local/lib/python3.7/dist-packages (from requests>=2.26->yfinance) (1.24.3)\n",
            "Requirement already satisfied: charset-normalizer<3,>=2 in /usr/local/lib/python3.7/dist-packages (from requests>=2.26->yfinance) (2.1.1)\n"
          ]
        }
      ]
    },
    {
      "cell_type": "code",
      "source": [
        "# We download price data for Microsoft and the S&P500 index:\n",
        "prices=yf.download(tickers=\"MSFT ^GSPC\", start=\"2019-01-01\",interval=\"1mo\")\n",
        "# We select Adjusted closing prices and drop any row with NA values:\n",
        "adjprices = prices['Adj Close'].dropna()"
      ],
      "metadata": {
        "colab": {
          "base_uri": "https://localhost:8080/"
        },
        "id": "MgxkeFJSy3n4",
        "outputId": "bd878cff-e00f-4d9f-e176-6bc80b023d28"
      },
      "execution_count": 2,
      "outputs": [
        {
          "output_type": "stream",
          "name": "stdout",
          "text": [
            "\r[                       0%                       ]\r[*********************100%***********************]  2 of 2 completed\n"
          ]
        }
      ]
    },
    {
      "cell_type": "code",
      "source": [
        "plt.clf()\n",
        "adjprices.plot(y=['MSFT','^GSPC'])\n",
        "plt.show()"
      ],
      "metadata": {
        "colab": {
          "base_uri": "https://localhost:8080/",
          "height": 309
        },
        "id": "eEoYl_pezD7K",
        "outputId": "3128de50-3b2b-4401-cfe9-402c9f9aad41"
      },
      "execution_count": 3,
      "outputs": [
        {
          "output_type": "display_data",
          "data": {
            "text/plain": [
              "<Figure size 432x288 with 0 Axes>"
            ]
          },
          "metadata": {}
        },
        {
          "output_type": "display_data",
          "data": {
            "text/plain": [
              "<Figure size 432x288 with 1 Axes>"
            ],
            "image/png": "[encoded data removed]"
          },
          "metadata": {
            "needs_background": "light"
          }
        }
      ]
    },
    {
      "cell_type": "code",
      "source": [
        "adjprices['iMSFT'] = adjprices['MSFT'] / adjprices['MSFT'][0]\n",
        "adjprices['iGSPC'] = adjprices['^GSPC'] / adjprices['^GSPC'][0]"
      ],
      "metadata": {
        "id": "XB9Z7C7izIyC"
      },
      "execution_count": 4,
      "outputs": []
    },
    {
      "cell_type": "code",
      "source": [
        "plt.clf()\n",
        "adjprices.plot(y=['iMSFT','iGSPC'])\n",
        "plt.show()"
      ],
      "metadata": {
        "colab": {
          "base_uri": "https://localhost:8080/",
          "height": 309
        },
        "id": "LM1m55QGzRxI",
        "outputId": "b3de947a-2757-42f9-dba0-e8949e392d2b"
      },
      "execution_count": 5,
      "outputs": [
        {
          "output_type": "display_data",
          "data": {
            "text/plain": [
              "<Figure size 432x288 with 0 Axes>"
            ]
          },
          "metadata": {}
        },
        {
          "output_type": "display_data",
          "data": {
            "text/plain": [
              "<Figure size 432x288 with 1 Axes>"
            ],
            "image/png": "[encoded data removed]"
          },
          "metadata": {
            "needs_background": "light"
          }
        }
      ]
    },
    {
      "cell_type": "code",
      "source": [
        "r = np.log(adjprices) - np.log(adjprices.shift(1))\n",
        "# Dropping rows with NA values (the first month will have NAs)\n",
        "r = r.dropna()\n",
        "# Selecting only 2 columns (out of the 4 columns):\n",
        "r = r[['MSFT','^GSPC']]\n",
        "# Renameing the column names:\n",
        "r.columns = ['MSFT','GSPC']"
      ],
      "metadata": {
        "id": "dzzpSUs-zVih"
      },
      "execution_count": 6,
      "outputs": []
    },
    {
      "cell_type": "code",
      "source": [
        "r.head()"
      ],
      "metadata": {
        "colab": {
          "base_uri": "https://localhost:8080/",
          "height": 238
        },
        "id": "9Ms80J1tzZto",
        "outputId": "94924486-9501-40e8-aa31-0a6b64aa67c3"
      },
      "execution_count": 7,
      "outputs": [
        {
          "output_type": "execute_result",
          "data": {
            "text/plain": [
              "                MSFT      GSPC\n",
              "Date                          \n",
              "2019-02-01  0.070250  0.029296\n",
              "2019-03-01  0.055671  0.017766\n",
              "2019-04-01  0.101963  0.038560\n",
              "2019-05-01 -0.054442 -0.068041\n",
              "2019-06-01  0.083539  0.066658"
            ],
            "text/html": [
              "\n",
              "  <div id=\"df-38219db0-039f-44bd-8a0d-a984adf6719e\">\n",
              "    <div class=\"colab-df-container\">\n",
              "      <div>\n",
              "<style scoped>\n",
              "    .dataframe tbody tr th:only-of-type {\n",
              "        vertical-align: middle;\n",
              "    }\n",
              "\n",
              "    .dataframe tbody tr th {\n",
              "        vertical-align: top;\n",
              "    }\n",
              "\n",
              "    .dataframe thead th {\n",
              "        text-align: right;\n",
              "    }\n",
              "</style>\n",
              "<table border=\"1\" class=\"dataframe\">\n",
              "  <thead>\n",
              "    <tr style=\"text-align: right;\">\n",
              "      <th></th>\n",
              "      <th>MSFT</th>\n",
              "      <th>GSPC</th>\n",
              "    </tr>\n",
              "    <tr>\n",
              "      <th>Date</th>\n",
              "      <th></th>\n",
              "      <th></th>\n",
              "    </tr>\n",
              "  </thead>\n",
              "  <tbody>\n",
              "    <tr>\n",
              "      <th>2019-02-01</th>\n",
              "      <td>0.070250</td>\n",
              "      <td>0.029296</td>\n",
              "    </tr>\n",
              "    <tr>\n",
              "      <th>2019-03-01</th>\n",
              "      <td>0.055671</td>\n",
              "      <td>0.017766</td>\n",
              "    </tr>\n",
              "    <tr>\n",
              "      <th>2019-04-01</th>\n",
              "      <td>0.101963</td>\n",
              "      <td>0.038560</td>\n",
              "    </tr>\n",
              "    <tr>\n",
              "      <th>2019-05-01</th>\n",
              "      <td>-0.054442</td>\n",
              "      <td>-0.068041</td>\n",
              "    </tr>\n",
              "    <tr>\n",
              "      <th>2019-06-01</th>\n",
              "      <td>0.083539</td>\n",
              "      <td>0.066658</td>\n",
              "    </tr>\n",
              "  </tbody>\n",
              "</table>\n",
              "</div>\n",
              "      <button class=\"colab-df-convert\" onclick=\"convertToInteractive('df-38219db0-039f-44bd-8a0d-a984adf6719e')\"\n",
              "              title=\"Convert this dataframe to an interactive table.\"\n",
              "              style=\"display:none;\">\n",
              "        \n",
              "  <svg xmlns=\"http://www.w3.org/2000/svg\" height=\"24px\"viewBox=\"0 0 24 24\"\n",
              "       width=\"24px\">\n",
              "    <path d=\"M0 0h24v24H0V0z\" fill=\"none\"/>\n",
              "    <path d=\"M18.56 5.44l.94 2.06.94-2.06 2.06-.94-2.06-.94-.94-2.06-.94 2.06-2.06.94zm-11 1L8.5 8.5l.94-2.06 2.06-.94-2.06-.94L8.5 2.5l-.94 2.06-2.06.94zm10 10l.94 2.06.94-2.06 2.06-.94-2.06-.94-.94-2.06-.94 2.06-2.06.94z\"/><path d=\"M17.41 7.96l-1.37-1.37c-.4-.4-.92-.59-1.43-.59-.52 0-1.04.2-1.43.59L10.3 9.45l-7.72 7.72c-.78.78-.78 2.05 0 2.83L4 21.41c.39.39.9.59 1.41.59.51 0 1.02-.2 1.41-.59l7.78-7.78 2.81-2.81c.8-.78.8-2.07 0-2.86zM5.41 20L4 18.59l7.72-7.72 1.47 1.35L5.41 20z\"/>\n",
              "  </svg>\n",
              "      </button>\n",
              "      \n",
              "  <style>\n",
              "    .colab-df-container {\n",
              "      display:flex;\n",
              "      flex-wrap:wrap;\n",
              "      gap: 12px;\n",
              "    }\n",
              "\n",
              "    .colab-df-convert {\n",
              "      background-color: #E8F0FE;\n",
              "      border: none;\n",
              "      border-radius: 50%;\n",
              "      cursor: pointer;\n",
              "      display: none;\n",
              "      fill: #1967D2;\n",
              "      height: 32px;\n",
              "      padding: 0 0 0 0;\n",
              "      width: 32px;\n",
              "    }\n",
              "\n",
              "    .colab-df-convert:hover {\n",
              "      background-color: #E2EBFA;\n",
              "      box-shadow: 0px 1px 2px rgba(60, 64, 67, 0.3), 0px 1px 3px 1px rgba(60, 64, 67, 0.15);\n",
              "      fill: #174EA6;\n",
              "    }\n",
              "\n",
              "    [theme=dark] .colab-df-convert {\n",
              "      background-color: #3B4455;\n",
              "      fill: #D2E3FC;\n",
              "    }\n",
              "\n",
              "    [theme=dark] .colab-df-convert:hover {\n",
              "      background-color: #434B5C;\n",
              "      box-shadow: 0px 1px 3px 1px rgba(0, 0, 0, 0.15);\n",
              "      filter: drop-shadow(0px 1px 2px rgba(0, 0, 0, 0.3));\n",
              "      fill: #FFFFFF;\n",
              "    }\n",
              "  </style>\n",
              "\n",
              "      <script>\n",
              "        const buttonEl =\n",
              "          document.querySelector('#df-38219db0-039f-44bd-8a0d-a984adf6719e button.colab-df-convert');\n",
              "        buttonEl.style.display =\n",
              "          google.colab.kernel.accessAllowed ? 'block' : 'none';\n",
              "\n",
              "        async function convertToInteractive(key) {\n",
              "          const element = document.querySelector('#df-38219db0-039f-44bd-8a0d-a984adf6719e');\n",
              "          const dataTable =\n",
              "            await google.colab.kernel.invokeFunction('convertToInteractive',\n",
              "                                                     [key], {});\n",
              "          if (!dataTable) return;\n",
              "\n",
              "          const docLinkHtml = 'Like what you see? Visit the ' +\n",
              "            '<a target=\"_blank\" href=https://colab.research.google.com/notebooks/data_table.ipynb>data table notebook</a>'\n",
              "            + ' to learn more about interactive tables.';\n",
              "          element.innerHTML = '';\n",
              "          dataTable['output_type'] = 'display_data';\n",
              "          await google.colab.output.renderOutput(dataTable, element);\n",
              "          const docLink = document.createElement('div');\n",
              "          docLink.innerHTML = docLinkHtml;\n",
              "          element.appendChild(docLink);\n",
              "        }\n",
              "      </script>\n",
              "    </div>\n",
              "  </div>\n",
              "  "
            ]
          },
          "metadata": {},
          "execution_count": 7
        }
      ]
    },
    {
      "cell_type": "code",
      "source": [
        "plt.clf()\n",
        "r.plot.scatter(x='GSPC', y='MSFT',c='DarkBlue')\n",
        "plt.show()"
      ],
      "metadata": {
        "colab": {
          "base_uri": "https://localhost:8080/",
          "height": 297
        },
        "id": "j79Oi3WrzcKg",
        "outputId": "b30d9493-1dc4-4655-bf42-5ba8994926aa"
      },
      "execution_count": 8,
      "outputs": [
        {
          "output_type": "display_data",
          "data": {
            "text/plain": [
              "<Figure size 432x288 with 0 Axes>"
            ]
          },
          "metadata": {}
        },
        {
          "output_type": "display_data",
          "data": {
            "text/plain": [
              "<Figure size 432x288 with 1 Axes>"
            ],
            "image/png": "[encoded data removed]"
          },
          "metadata": {
            "needs_background": "light"
          }
        }
      ]
    },
    {
      "cell_type": "code",
      "source": [
        "plt.clf()\n",
        "adjprices.plot.scatter(x='^GSPC', y='MSFT',c='DarkBlue')\n",
        "plt.show()"
      ],
      "metadata": {
        "colab": {
          "base_uri": "https://localhost:8080/",
          "height": 297
        },
        "id": "fbwTxXZRzgZA",
        "outputId": "5ea18d54-bbd4-4000-814d-01a3617206df"
      },
      "execution_count": 9,
      "outputs": [
        {
          "output_type": "display_data",
          "data": {
            "text/plain": [
              "<Figure size 432x288 with 0 Axes>"
            ]
          },
          "metadata": {}
        },
        {
          "output_type": "display_data",
          "data": {
            "text/plain": [
              "<Figure size 432x288 with 1 Axes>"
            ],
            "image/png": "[encoded data removed]"
          },
          "metadata": {
            "needs_background": "light"
          }
        }
      ]
    },
    {
      "cell_type": "code",
      "source": [
        "plt.clf()\n",
        "r.plot(y=['MSFT','GSPC'])\n",
        "plt.show()"
      ],
      "metadata": {
        "colab": {
          "base_uri": "https://localhost:8080/",
          "height": 309
        },
        "id": "TvHGzLjNzlSQ",
        "outputId": "11ef2734-a758-4dfa-8c38-a97613a0a7e7"
      },
      "execution_count": 10,
      "outputs": [
        {
          "output_type": "display_data",
          "data": {
            "text/plain": [
              "<Figure size 432x288 with 0 Axes>"
            ]
          },
          "metadata": {}
        },
        {
          "output_type": "display_data",
          "data": {
            "text/plain": [
              "<Figure size 432x288 with 1 Axes>"
            ],
            "image/png": "[encoded data removed]"
          },
          "metadata": {
            "needs_background": "light"
          }
        }
      ]
    },
    {
      "cell_type": "markdown",
      "source": [
        "# 4.3 Calculating covariance and correlation"
      ],
      "metadata": {
        "id": "4x4bfXKNzs-H"
      }
    },
    {
      "cell_type": "code",
      "source": [
        "msft_mean = r['MSFT'].mean()\n",
        "gspc_mean = r['GSPC'].mean()\n",
        "N = r['GSPC'].count()\n",
        "sum_of_prod = ((r['MSFT'] - msft_mean) * (r['GSPC'] - gspc_mean) ).sum()  \n",
        "cov = sum_of_prod / (N-1)\n",
        "cov"
      ],
      "metadata": {
        "colab": {
          "base_uri": "https://localhost:8080/"
        },
        "id": "kTe4ldANzvSI",
        "outputId": "5f743eae-5c3e-4c4f-b345-a112c5811af9"
      },
      "execution_count": 11,
      "outputs": [
        {
          "output_type": "execute_result",
          "data": {
            "text/plain": [
              "0.002570329781825112"
            ]
          },
          "metadata": {},
          "execution_count": 11
        }
      ]
    },
    {
      "cell_type": "code",
      "source": [
        "covm = np.cov(r['MSFT'],r['GSPC'])\n",
        "covm"
      ],
      "metadata": {
        "colab": {
          "base_uri": "https://localhost:8080/"
        },
        "id": "FphqUyFhzzlI",
        "outputId": "b3a8780a-7a45-43a7-c7d7-cdc857743c6d"
      },
      "execution_count": 12,
      "outputs": [
        {
          "output_type": "execute_result",
          "data": {
            "text/plain": [
              "array([[0.00368385, 0.00257033],\n",
              "       [0.00257033, 0.00283242]])"
            ]
          },
          "metadata": {},
          "execution_count": 12
        }
      ]
    },
    {
      "cell_type": "code",
      "source": [
        "cov = covm[0,1]\n",
        "cov"
      ],
      "metadata": {
        "colab": {
          "base_uri": "https://localhost:8080/"
        },
        "id": "7f2RPMNXz4F3",
        "outputId": "5e1d355d-aed0-44d7-e5f6-53c7d8cf0545"
      },
      "execution_count": 13,
      "outputs": [
        {
          "output_type": "execute_result",
          "data": {
            "text/plain": [
              "0.0025703297818251126"
            ]
          },
          "metadata": {},
          "execution_count": 13
        }
      ]
    },
    {
      "cell_type": "code",
      "source": [
        "corr = np.corrcoef(r['MSFT'],r['GSPC'])\n",
        "corr"
      ],
      "metadata": {
        "colab": {
          "base_uri": "https://localhost:8080/"
        },
        "id": "-6vqghqlz7P_",
        "outputId": "0f70a8a9-f034-4aeb-9fcb-8e2790bf71bd"
      },
      "execution_count": 14,
      "outputs": [
        {
          "output_type": "execute_result",
          "data": {
            "text/plain": [
              "array([[1.        , 0.79571875],\n",
              "       [0.79571875, 1.        ]])"
            ]
          },
          "metadata": {},
          "execution_count": 14
        }
      ]
    },
    {
      "cell_type": "code",
      "source": [
        "corr2 = cov / (r['MSFT'].std() * r['GSPC'].std())\n",
        "corr2"
      ],
      "metadata": {
        "colab": {
          "base_uri": "https://localhost:8080/"
        },
        "id": "6SHMagJ3z9P_",
        "outputId": "869a8b5a-f992-4ed8-b1e5-6ffbdca561b4"
      },
      "execution_count": 15,
      "outputs": [
        {
          "output_type": "execute_result",
          "data": {
            "text/plain": [
              "0.7957187494497355"
            ]
          },
          "metadata": {},
          "execution_count": 15
        }
      ]
    },
    {
      "cell_type": "code",
      "source": [
        "from scipy.stats import pearsonr\n",
        "corr2 = pearsonr(r['MSFT'],r['GSPC'])\n",
        "corr2"
      ],
      "metadata": {
        "colab": {
          "base_uri": "https://localhost:8080/"
        },
        "id": "hs_mlXdYz_ZA",
        "outputId": "49876095-9669-45c9-a1bc-91e8683de9a7"
      },
      "execution_count": 16,
      "outputs": [
        {
          "output_type": "execute_result",
          "data": {
            "text/plain": [
              "(0.7957187494497355, 1.0844874428678916e-10)"
            ]
          },
          "metadata": {},
          "execution_count": 16
        }
      ]
    }
  ]
}