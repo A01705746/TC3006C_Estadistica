{
  "nbformat": 4,
  "nbformat_minor": 0,
  "metadata": {
    "colab": {
      "provenance": [],
      "collapsed_sections": []
    },
    "kernelspec": {
      "name": "python3",
      "display_name": "Python 3"
    },
    "language_info": {
      "name": "python"
    }
  },
  "cells": [
    {
      "cell_type": "markdown",
      "source": [
        "**Workshop 2, Enrique Santos Fraire, 12/08/2022**"
      ],
      "metadata": {
        "id": "CvZwiSdNcXtS"
      }
    },
    {
      "cell_type": "markdown",
      "source": [
        "La varianza mide la dispersión."
      ],
      "metadata": {
        "id": "JWm8UyAofTfo"
      }
    },
    {
      "cell_type": "markdown",
      "source": [
        "**2.2 Monte Carlo simulation**\n",
        "\n",
        "You have to install the symbulate Python package.\n",
        "\n",
        "This package was created by Dr. Kevin Ross and Dr. Dennis Sun Ross and Sun (2019), professors from Cal Poly University at San Luis Obispo, California (Dr. Sun is also Senior Data Scientist at Google, Inc).\n",
        "\n",
        "We load the symbulate and the matplotlib libraries:"
      ],
      "metadata": {
        "id": "QYmd7XxpfqbZ"
      }
    },
    {
      "cell_type": "code",
      "execution_count": 1,
      "metadata": {
        "colab": {
          "base_uri": "https://localhost:8080/"
        },
        "id": "tcgQQt4RcSqM",
        "outputId": "4410cc51-f9db-4d32-9e18-0edcd71f1922"
      },
      "outputs": [
        {
          "output_type": "stream",
          "name": "stdout",
          "text": [
            "Looking in indexes: https://pypi.org/simple, https://us-python.pkg.dev/colab-wheels/public/simple/\n",
            "Collecting symbulate\n",
            "  Downloading symbulate-0.5.7-py3-none-any.whl (44 kB)\n",
            "\u001b[K     |████████████████████████████████| 44 kB 1.9 MB/s \n",
            "\u001b[?25hRequirement already satisfied: numpy in /usr/local/lib/python3.7/dist-packages (from symbulate) (1.21.6)\n",
            "Requirement already satisfied: matplotlib in /usr/local/lib/python3.7/dist-packages (from symbulate) (3.2.2)\n",
            "Requirement already satisfied: scipy in /usr/local/lib/python3.7/dist-packages (from symbulate) (1.7.3)\n",
            "Requirement already satisfied: kiwisolver>=1.0.1 in /usr/local/lib/python3.7/dist-packages (from matplotlib->symbulate) (1.4.4)\n",
            "Requirement already satisfied: pyparsing!=2.0.4,!=2.1.2,!=2.1.6,>=2.0.1 in /usr/local/lib/python3.7/dist-packages (from matplotlib->symbulate) (3.0.9)\n",
            "Requirement already satisfied: python-dateutil>=2.1 in /usr/local/lib/python3.7/dist-packages (from matplotlib->symbulate) (2.8.2)\n",
            "Requirement already satisfied: cycler>=0.10 in /usr/local/lib/python3.7/dist-packages (from matplotlib->symbulate) (0.11.0)\n",
            "Requirement already satisfied: typing-extensions in /usr/local/lib/python3.7/dist-packages (from kiwisolver>=1.0.1->matplotlib->symbulate) (4.1.1)\n",
            "Requirement already satisfied: six>=1.5 in /usr/local/lib/python3.7/dist-packages (from python-dateutil>=2.1->matplotlib->symbulate) (1.15.0)\n",
            "Installing collected packages: symbulate\n",
            "Successfully installed symbulate-0.5.7\n"
          ]
        }
      ],
      "source": [
        "! pip install symbulate\n",
        "from symbulate import *\n",
        "#'exec(%matplotlib inline)' \n",
        "import matplotlib\n",
        "\n",
        "import matplotlib.pyplot as plt"
      ]
    },
    {
      "cell_type": "markdown",
      "source": [
        "*2.2.1 Simulating numbers with the UNIFORM probability distribution*\n",
        "\n",
        "We define a uniform random variable X and simulate 10,000 uniform random numbers with values from 0 to 40:"
      ],
      "metadata": {
        "id": "h7uxumOfgyug"
      }
    },
    {
      "cell_type": "code",
      "source": [
        "# clear the plot space:\n",
        "plt.clf()\n",
        "# Define the probability type of function as uniform (probability space)\n",
        "P = Uniform(0,40)\n",
        "# Define X as a random variable of the type P (uniform)\n",
        "X =RV(P)\n",
        "# Simulate the values of X and save the in the x array: \n",
        "x=X.sim(10000)\n",
        "x.plot()\n",
        "plt.show()"
      ],
      "metadata": {
        "colab": {
          "base_uri": "https://localhost:8080/",
          "height": 265
        },
        "id": "DtQhnFNLg3oB",
        "outputId": "5ff3c6ab-a296-4ff2-9e1b-feedd6679015"
      },
      "execution_count": 9,
      "outputs": [
        {
          "output_type": "display_data",
          "data": {
            "text/plain": [
              "<Figure size 432x288 with 1 Axes>"
            ],
            "image/png": "[encoded data removed]"
          },
          "metadata": {
            "needs_background": "light"
          }
        }
      ]
    },
    {
      "cell_type": "markdown",
      "source": [
        "**2.2.2 CHALLENGE**\n",
        "\n",
        "* CALCULATE THE MEAN AND STANDARD DEVIATION OF THIS SIMULATED UNIFORM x VARIABLE. HOW CLOSE WERE THESE MEAN AND STANDARD DEVIATION FROM THE THEORETICAL MEAN AND STANDARD DEVIATION?"
      ],
      "metadata": {
        "id": "4sIuy-vDhdI1"
      }
    },
    {
      "cell_type": "code",
      "source": [
        "print(x.mean())\n",
        "print(x.std())"
      ],
      "metadata": {
        "colab": {
          "base_uri": "https://localhost:8080/"
        },
        "id": "XBK6a9sDhuU6",
        "outputId": "b01c6922-d3e5-4995-ad2d-c533228cecaf"
      },
      "execution_count": 10,
      "outputs": [
        {
          "output_type": "stream",
          "name": "stdout",
          "text": [
            "19.95907720704752\n",
            "11.519033626950424\n"
          ]
        }
      ]
    },
    {
      "cell_type": "markdown",
      "source": [
        "LA MEDIA TEÓRICA ES DE UN VALOR DE 20, SIENDO LA SIMULADA EXTREMÁDAMENTE CERCANA, CON 19.959. DE IGUAL MANERA SUCEDE CON LA DESVIACIÓN ESTÁNDAR, QUE TEÓRICAMENTE ES DE 11.547, Y LA SIMULADA ES DE 11.519. EN AMBOS VALORES HAY UNA DIFERENCIA DE A PENAS 0.03."
      ],
      "metadata": {
        "id": "-42QYEXTcFKI"
      }
    },
    {
      "cell_type": "markdown",
      "source": [
        "* INTERPET THE ABOVE HISTOGRAM. WHAT DO YOU SEE? EXPLAIN WITH YOUR WORDS."
      ],
      "metadata": {
        "id": "BgYLjB0-O28q"
      }
    },
    {
      "cell_type": "markdown",
      "source": [
        "**Interpretación**\n",
        "\n",
        "PODEMOS VER QUE LA DISTRIBUCIÓN DE VALORES ALEATORIOS CUMPLE CON LA PROBABILIDAD DE DISTRIBUCIÓN UNIFORME, DONDE CADA NÚMERO DEL 0 AL 40 TIENE UNA REPETICIÓN SIMILAR ENTRE SÍ CON PEQUEÑAS DIFERENCIAS DADA LA ALEATORIEDAD."
      ],
      "metadata": {
        "id": "6AMYdxp7itzt"
      }
    },
    {
      "cell_type": "markdown",
      "source": [
        "Now generate 10,000 groups of 25 uniform random variables to end up in a matrix of 10,000 rows and 25 columns:"
      ],
      "metadata": {
        "id": "ycWzv2ATi25J"
      }
    },
    {
      "cell_type": "code",
      "source": [
        "# Define the probability space as a vector of 25 uniform random numbers:\n",
        "P = Uniform(0,40) ** 25\n",
        "# Define XVECTOR as a vector of random variables with 25 random values \n",
        "XVECTOR =RV(P)\n",
        "# Simulate 10,000 vectors to get a matrix  \n",
        "xmatrix=XVECTOR.sim(10000)"
      ],
      "metadata": {
        "id": "D4sr-Fxqi5mi"
      },
      "execution_count": 4,
      "outputs": []
    },
    {
      "cell_type": "markdown",
      "source": [
        "Now xmatrix will have 10,000 rows and 25 columns of uniform random numbers between 0 and 40:"
      ],
      "metadata": {
        "id": "1ymBUss3i-jt"
      }
    },
    {
      "cell_type": "code",
      "source": [
        "xmatrix"
      ],
      "metadata": {
        "colab": {
          "base_uri": "https://localhost:8080/",
          "height": 275
        },
        "id": "jKkg0S1ni_Wh",
        "outputId": "a7d77bb8-bb70-47e9-d4c4-58eeaf30a2e5"
      },
      "execution_count": 5,
      "outputs": [
        {
          "output_type": "execute_result",
          "data": {
            "text/plain": [
              "Index Result\n",
              "0     (36.32560852904274, 26.206118018301304, 17.1498167732935, 27.218378552195013, 16.830935953245714, ..., 10.092004809994485)\n",
              "1     (10.401422283521931, 13.43728308012706, 30.739169976173972, 9.024030428325599, 29.173852169028976, ..., 36.15410880843364)\n",
              "2     (31.00914797813882, 26.758732248478463, 36.20389099867874, 11.550928578080967, 6.54785346397881, ..., 14.114047979237307)\n",
              "3     (38.84809381531519, 6.162719680639146, 13.642351429839534, 29.855031696958005, 37.673164020604645, ..., 22.39283350843276)\n",
              "4     (4.281755592328813, 14.285148234057106, 22.012020993176932, 8.265893816707464, 31.11367973325273, ..., 1.8823793604581596)\n",
              "5     (37.770139216776194, 32.39642916102908, 17.77782280426919, 15.406405400766614, 35.926224071381576, ..., 38.88186699180665)\n",
              "6     (16.682147814894762, 30.304117291082942, 15.164452288101025, 13.349570864729706, 26.134094832545042, ..., 7.811172560478576)\n",
              "7     (26.300760665479956, 24.2508936598037, 4.927804153254334, 12.46846599327155, 29.92702456368648, ..., 28.051321159225413)\n",
              "8     (29.554110297893995, 6.344494226240669, 20.782320456253565, 17.582952189274664, 31.22605346483366, ..., 34.38949590226016)\n",
              "....  ..........................................................................................................................\n",
              "9999  (11.871950627053959, 12.58546351124464, 24.699500631077452, 11.302803712542445, 4.207718611739293, ..., 22.01513923744249)"
            ],
            "text/html": [
              "\n",
              "    <table>\n",
              "      <thead>\n",
              "        <th width=\"10%\">Index</th>\n",
              "        <th width=\"90%\">Result</th>\n",
              "      </thead>\n",
              "      <tbody>\n",
              "        \n",
              "        <tr>\n",
              "          <td>0</td><td>(36.32560852904274, 26.206118018301304, 17.1498167732935, 27.218378552195013, 16.830935953245714, .....</td>\n",
              "        </tr>\n",
              "        \n",
              "        <tr>\n",
              "          <td>1</td><td>(10.401422283521931, 13.43728308012706, 30.739169976173972, 9.024030428325599, 29.173852169028976, ....</td>\n",
              "        </tr>\n",
              "        \n",
              "        <tr>\n",
              "          <td>2</td><td>(31.00914797813882, 26.758732248478463, 36.20389099867874, 11.550928578080967, 6.54785346397881, ......</td>\n",
              "        </tr>\n",
              "        \n",
              "        <tr>\n",
              "          <td>3</td><td>(38.84809381531519, 6.162719680639146, 13.642351429839534, 29.855031696958005, 37.673164020604645, ....</td>\n",
              "        </tr>\n",
              "        \n",
              "        <tr>\n",
              "          <td>4</td><td>(4.281755592328813, 14.285148234057106, 22.012020993176932, 8.265893816707464, 31.11367973325273, .....</td>\n",
              "        </tr>\n",
              "        \n",
              "        <tr>\n",
              "          <td>5</td><td>(37.770139216776194, 32.39642916102908, 17.77782280426919, 15.406405400766614, 35.926224071381576, ....</td>\n",
              "        </tr>\n",
              "        \n",
              "        <tr>\n",
              "          <td>6</td><td>(16.682147814894762, 30.304117291082942, 15.164452288101025, 13.349570864729706, 26.134094832545042,...</td>\n",
              "        </tr>\n",
              "        \n",
              "        <tr>\n",
              "          <td>7</td><td>(26.300760665479956, 24.2508936598037, 4.927804153254334, 12.46846599327155, 29.92702456368648, ...,...</td>\n",
              "        </tr>\n",
              "        \n",
              "        <tr>\n",
              "          <td>8</td><td>(29.554110297893995, 6.344494226240669, 20.782320456253565, 17.582952189274664, 31.22605346483366, ....</td>\n",
              "        </tr>\n",
              "        <tr><td>...</td><td>...</td></tr>\n",
              "        <tr>\n",
              "          <td>9999</td><td>(11.871950627053959, 12.58546351124464, 24.699500631077452, 11.302803712542445, 4.207718611739293, ....</td>\n",
              "        </tr>\n",
              "        \n",
              "      </tbody>\n",
              "    </table>\n",
              "        "
            ]
          },
          "metadata": {},
          "execution_count": 5
        }
      ]
    },
    {
      "cell_type": "markdown",
      "source": [
        "Now we get the mean of each row, so we end up with 10,000 sample means:"
      ],
      "metadata": {
        "id": "zmAmw3DUjY3G"
      }
    },
    {
      "cell_type": "code",
      "source": [
        "# The 2nd parameter is the mathematical operation applied to each row of the random vector\n",
        "# Simulate 10,000 means of each random vector of 25 uniform distributed numbers: \n",
        "xmean = RV(P,mean).sim(10000)\n",
        "xmean"
      ],
      "metadata": {
        "colab": {
          "base_uri": "https://localhost:8080/",
          "height": 275
        },
        "id": "Bxyii-6NjZ3h",
        "outputId": "95d1a56b-0dd2-483b-e00b-765a48783c60"
      },
      "execution_count": 6,
      "outputs": [
        {
          "output_type": "execute_result",
          "data": {
            "text/plain": [
              "Index Result\n",
              "0     22.575196751132435\n",
              "1     22.321742561271567\n",
              "2     21.48405463766069\n",
              "3     20.071271903830834\n",
              "4     18.12950743160025\n",
              "5     14.97156015128773\n",
              "6     20.92640357533904\n",
              "7     19.566357037951274\n",
              "8     18.80324880389492\n",
              "....  .................\n",
              "9999  21.22753112405857"
            ],
            "text/html": [
              "\n",
              "    <table>\n",
              "      <thead>\n",
              "        <th width=\"10%\">Index</th>\n",
              "        <th width=\"90%\">Result</th>\n",
              "      </thead>\n",
              "      <tbody>\n",
              "        \n",
              "        <tr>\n",
              "          <td>0</td><td>22.575196751132435</td>\n",
              "        </tr>\n",
              "        \n",
              "        <tr>\n",
              "          <td>1</td><td>22.321742561271567</td>\n",
              "        </tr>\n",
              "        \n",
              "        <tr>\n",
              "          <td>2</td><td>21.48405463766069</td>\n",
              "        </tr>\n",
              "        \n",
              "        <tr>\n",
              "          <td>3</td><td>20.071271903830834</td>\n",
              "        </tr>\n",
              "        \n",
              "        <tr>\n",
              "          <td>4</td><td>18.12950743160025</td>\n",
              "        </tr>\n",
              "        \n",
              "        <tr>\n",
              "          <td>5</td><td>14.97156015128773</td>\n",
              "        </tr>\n",
              "        \n",
              "        <tr>\n",
              "          <td>6</td><td>20.92640357533904</td>\n",
              "        </tr>\n",
              "        \n",
              "        <tr>\n",
              "          <td>7</td><td>19.566357037951274</td>\n",
              "        </tr>\n",
              "        \n",
              "        <tr>\n",
              "          <td>8</td><td>18.80324880389492</td>\n",
              "        </tr>\n",
              "        <tr><td>...</td><td>...</td></tr>\n",
              "        <tr>\n",
              "          <td>9999</td><td>21.22753112405857</td>\n",
              "        </tr>\n",
              "        \n",
              "      </tbody>\n",
              "    </table>\n",
              "        "
            ]
          },
          "metadata": {},
          "execution_count": 6
        }
      ]
    },
    {
      "cell_type": "markdown",
      "source": [
        "Now do a histogram of these sample means that come from a UNIFORM distribution."
      ],
      "metadata": {
        "id": "w68z59iRj_IF"
      }
    },
    {
      "cell_type": "code",
      "source": [
        "plt.clf()\n",
        "xmean.plot()\n",
        "plt.show()"
      ],
      "metadata": {
        "colab": {
          "base_uri": "https://localhost:8080/",
          "height": 265
        },
        "id": "P2cD6TrpkAZr",
        "outputId": "fa862085-6741-404b-8a95-fb69c583884c"
      },
      "execution_count": 7,
      "outputs": [
        {
          "output_type": "display_data",
          "data": {
            "text/plain": [
              "<Figure size 432x288 with 1 Axes>"
            ],
            "image/png": "[encoded data removed]"
          },
          "metadata": {
            "needs_background": "light"
          }
        }
      ]
    },
    {
      "cell_type": "markdown",
      "source": [
        "**2.2.3 CHALLENGE**\n",
        "\n",
        "* CALCULATE THE MEAN AND STANDARD DEVIATION OF THE xmean VARIABLE. HOW SIMILAR OR DIFFERENT ARE THESE VALUES FROM THE MEAN AND STANDARD DEVIATION OF x?"
      ],
      "metadata": {
        "id": "4eBLi0mUkkMW"
      }
    },
    {
      "cell_type": "code",
      "source": [
        "print(xmean.mean())\n",
        "print(xmean.std())"
      ],
      "metadata": {
        "colab": {
          "base_uri": "https://localhost:8080/"
        },
        "id": "w7JS1uUglGmm",
        "outputId": "fe649ce6-d64d-4359-d5e1-6dec72474dc9"
      },
      "execution_count": 8,
      "outputs": [
        {
          "output_type": "stream",
          "name": "stdout",
          "text": [
            "20.019169632518153\n",
            "2.313900116294702\n"
          ]
        }
      ]
    },
    {
      "cell_type": "markdown",
      "source": [
        "NUEVAMENTE LA MEDIA ES MUY SIMILAR, ESTA VEZ ACERCÁNDOSE MÁS AL 20. EN CAMBIO LA DESVIACIÓN ESTÁNDAR ES MUCHO MENOR, PASANDO DE 11.519 A 2.313, LO QUE INDICA QUE LO VALORES TENDRÁN UNA MENOR DISPERSIÓN."
      ],
      "metadata": {
        "id": "N7mKqUUpMbz0"
      }
    },
    {
      "cell_type": "markdown",
      "source": [
        "* WHAT DO YOU SEE IN THE ABOVE HISTOGRAM? DOES THE HISTOGRAM OF SAMPLE MEANS OF UNIFORM RANDOM VARIABLE LOOK LIKE A UNIFORM DISTRIBUTED VARIABLE? DO YOU SEE A LOGIC? BRIEFLY EXPLAIN WHAT YOU THINK."
      ],
      "metadata": {
        "id": "Fter0me6rQtm"
      }
    },
    {
      "cell_type": "markdown",
      "source": [
        "**Interpretación**\n",
        "\n",
        "EL HISTOGRAMA A COMPARACIÓN DEL ANTERIOR, DEJÓ DE TENER UNA DISTRIBUCIÓN UNIFORME PARA SEGUIR UNA FUNCIÓN DE DISTRIBUCIÓN NORMAL, PUES SE APRECIA LA FORMA DE LA CAMPANA DE GAUSS. DADO QUE SE ESTÁ MOSTRANDO LA MEDIA DE UN GRUPO DE VARIABLES CON UN RANGO DEFINIDO, SEGUIRÁ LA REGLA MATEMÁTICA DEL ÁREA BAJO LA CURVA, CONCENTRÁNDOSE LA MAYOR CANTIDAD DE VALORES CERCA DE LA MEDIA TEÓRICA, ES DECIR, 20. IGUALMENTE SE PUDO INFERIR DADA LA POCA DESVIACIÓN ESTÁNDAR EN COMPARACIÓN AL HISTOGRAMA ANTERIOR."
      ],
      "metadata": {
        "id": "CyCiFhEsloP_"
      }
    },
    {
      "cell_type": "markdown",
      "source": [
        "Now plot both variables in the same plot; the original x uniform variable and the xsample variable (the sample means of x)."
      ],
      "metadata": {
        "id": "MjYBB1utls2P"
      }
    },
    {
      "cell_type": "code",
      "source": [
        "plt.clf()\n",
        "xmean.plot()\n",
        "x.plot()\n",
        "plt.show()"
      ],
      "metadata": {
        "colab": {
          "base_uri": "https://localhost:8080/",
          "height": 265
        },
        "id": "L2dZINYYmhiu",
        "outputId": "aabb7359-c258-47bd-a40e-3fd0e98e6abb"
      },
      "execution_count": 11,
      "outputs": [
        {
          "output_type": "display_data",
          "data": {
            "text/plain": [
              "<Figure size 432x288 with 1 Axes>"
            ],
            "image/png": "[encoded data removed]"
          },
          "metadata": {
            "needs_background": "light"
          }
        }
      ]
    },
    {
      "cell_type": "markdown",
      "source": [
        "* WHAT DO YOU SEE? HOW THE HISTOGRAM OF X DIFFERS FROM THE HISTOGRAM OF THE SAMPLES OF X?\n",
        "\n",
        "COMO SE COMENTÓ ANTERIORMENTE, AHORA SE MUESTRAN AMBOS HISTOGRAMAS EN UNO MISMO, EL DE X SIGUIENDO UNA DISTRIBUCIÓN UNIFORME, MIENTRAS QUE EL PROMEDIO DE LAS X UNA DISTRIBUCIÓN NORMAL."
      ],
      "metadata": {
        "id": "WQPDA7NLmpLN"
      }
    },
    {
      "cell_type": "markdown",
      "source": [
        "*2.2.4 Simulating numbers with the NORMAL probability distribution*\n",
        "\n",
        "Let’s simulate a normal distributed variable Y with mean = 20 and standard devation = 10."
      ],
      "metadata": {
        "id": "U4O3I6qQnK_d"
      }
    },
    {
      "cell_type": "code",
      "source": [
        "# clear the plot space:\n",
        "plt.clf()\n",
        "# Define the probability type of function as uniform (probability space)\n",
        "P = Normal(mean=20, sd=10)\n",
        "# Define Y as a random variable of the type P (normal)\n",
        "Y =RV(P)\n",
        "# Simulate 10,000 values of Y and save the in the x array: \n",
        "y=Y.sim(10000)\n",
        "y.plot()\n",
        "plt.show()"
      ],
      "metadata": {
        "colab": {
          "base_uri": "https://localhost:8080/",
          "height": 265
        },
        "id": "GWCnczRNnWLG",
        "outputId": "4d147953-6362-4a24-a4ca-2eef9a302856"
      },
      "execution_count": 12,
      "outputs": [
        {
          "output_type": "display_data",
          "data": {
            "text/plain": [
              "<Figure size 432x288 with 1 Axes>"
            ],
            "image/png": "[encoded data removed]"
          },
          "metadata": {
            "needs_background": "light"
          }
        }
      ]
    },
    {
      "cell_type": "markdown",
      "source": [
        "**2.2.5 CHALLENGE**\n",
        "\n",
        "* CALCULATE THE MEAN AND STANDARD DEVIATION OF THIS RANDOM y VARIABLE. HOW SIMILAR OR DIFFERENT ARE THESE VALUES FROM THE MEAN AND STANDARD DEVIATION OF THE THEORETICAL MEAN (20) AND THE THEORETICAL STANDARD DEVIATION (10)?"
      ],
      "metadata": {
        "id": "-t7XjJDnnkOV"
      }
    },
    {
      "cell_type": "code",
      "source": [
        "print(y.mean())\n",
        "print(y.std())"
      ],
      "metadata": {
        "colab": {
          "base_uri": "https://localhost:8080/"
        },
        "id": "a2oAkmw4qbtE",
        "outputId": "1e7e258f-4b45-4478-cb24-4adee997d3a7"
      },
      "execution_count": 13,
      "outputs": [
        {
          "output_type": "stream",
          "name": "stdout",
          "text": [
            "19.980305107100527\n",
            "10.036728771582174\n"
          ]
        }
      ]
    },
    {
      "cell_type": "markdown",
      "source": [
        "SON EXTREMÁDAMENTE SIMILARES, 19.98 DE MEDIA Y 10.03 DE DESVIACIÓN ESTÁNDAR. POCO MÁS DE 0.02 DE DIFERENCIA CON LOS DATOS TEÓRICOS."
      ],
      "metadata": {
        "id": "PKrU5wI6crwA"
      }
    },
    {
      "cell_type": "markdown",
      "source": [
        "* WHAT DO YOU SEE? INTERPRET THE HISTOGRAM WITH YOUR WORDS."
      ],
      "metadata": {
        "id": "h7KyZ3hYcZ7A"
      }
    },
    {
      "cell_type": "markdown",
      "source": [
        "**Interpretación**\n",
        "\n",
        "LA MAYORÍA DE LOS DATOS SE CONCENTRA ALREDEDOR DEL VALOR DE 20, QUE SE VEN DISTRIBUIDOS LIGERAMENTE A LOS LADOS, FORMANDO LA CAMPANA DE GAUSS, CUMPLIENDO LA DISTRIBUCIÓN NORMAL."
      ],
      "metadata": {
        "id": "4xuFriU4cjPw"
      }
    },
    {
      "cell_type": "markdown",
      "source": [
        "Now generate 10,000 groups of 25 NORMAL random variables with mean=20 and SD=10. You will end up with a matrix of 10,000 rows and 25 columns:"
      ],
      "metadata": {
        "id": "5liIK65fcd2C"
      }
    },
    {
      "cell_type": "code",
      "source": [
        "# Define the probability space P as a vector of 25 normal random numbers:\n",
        "P = Normal(mean=20, sd=10) ** 25\n",
        "# Define RANDOMVECTOR as a vector of 25 random variables in the Probability space P \n",
        "RANDOMVECTOR = RV(P)\n",
        "# Simulate 10,000 random vectors with this distribution and save the in ymatrix: \n",
        "ymatrix=RANDOMVECTOR.sim(10000)"
      ],
      "metadata": {
        "id": "Fcma5FcipO7k"
      },
      "execution_count": 14,
      "outputs": []
    },
    {
      "cell_type": "markdown",
      "source": [
        "Now ymatrix will have 10,000 rows and 25 columns of NORMAL random numbers with mean=20 and SD=10:"
      ],
      "metadata": {
        "id": "LHPyIeIKpRLF"
      }
    },
    {
      "cell_type": "code",
      "source": [
        "ymatrix"
      ],
      "metadata": {
        "colab": {
          "base_uri": "https://localhost:8080/",
          "height": 275
        },
        "id": "WBow8BxTpS_0",
        "outputId": "d9675739-d183-40a8-a590-a5d4173f50a7"
      },
      "execution_count": 15,
      "outputs": [
        {
          "output_type": "execute_result",
          "data": {
            "text/plain": [
              "Index Result\n",
              "0     (44.07570905101285, 26.077220870430093, 16.425097518924808, 28.771662884708192, 17.793122502576445, ..., 35.1535103973637)\n",
              "1     (15.405698551348978, 43.237908839048586, 17.279842364151193, 7.155500734259618, 8.596135600852971, ..., 35.85146828270667)\n",
              "2     (29.522790688175245, -4.454034148733875, 14.02604538266505, 33.521906355676435, 12.837393369106067, ..., 26.72101416805597)\n",
              "3     (19.05889780178533, 16.32371393810225, 33.87047853437075, 24.666445060986, 16.25714147556248, ..., 32.75983019667189)\n",
              "4     (11.285285550572912, 11.943427574520037, 30.822293575869573, 32.62074992690287, 17.134367038665008, ..., 32.5358845018791)\n",
              "5     (16.075589510431925, 18.64307921338952, 25.202928247684273, 22.864090335556, 23.510180342411672, ..., 14.71118754398586)\n",
              "6     (19.86191872317412, 10.750738290203438, 27.732176857847264, 24.898968539931545, 20.021044296178832, ..., 25.24743855726905)\n",
              "7     (31.23742310187066, 18.928774265658596, 24.723438047092188, 34.63459491361397, 20.575118592382715, ..., 14.696669463536129)\n",
              "8     (30.326424057715897, 25.159985718139936, 27.887293653174396, 39.18022607537819, 33.43666459824384, ..., 31.145566909225845)\n",
              "....  .........................................................................................................................\n",
              "9999  (13.72550997982471, 16.602561916322017, 4.359452760567494, 16.313131577597744, 20.491026483237224, ..., 21.4994696354734)"
            ],
            "text/html": [
              "\n",
              "    <table>\n",
              "      <thead>\n",
              "        <th width=\"10%\">Index</th>\n",
              "        <th width=\"90%\">Result</th>\n",
              "      </thead>\n",
              "      <tbody>\n",
              "        \n",
              "        <tr>\n",
              "          <td>0</td><td>(44.07570905101285, 26.077220870430093, 16.425097518924808, 28.771662884708192, 17.793122502576445, ...</td>\n",
              "        </tr>\n",
              "        \n",
              "        <tr>\n",
              "          <td>1</td><td>(15.405698551348978, 43.237908839048586, 17.279842364151193, 7.155500734259618, 8.596135600852971, ....</td>\n",
              "        </tr>\n",
              "        \n",
              "        <tr>\n",
              "          <td>2</td><td>(29.522790688175245, -4.454034148733875, 14.02604538266505, 33.521906355676435, 12.837393369106067, ...</td>\n",
              "        </tr>\n",
              "        \n",
              "        <tr>\n",
              "          <td>3</td><td>(19.05889780178533, 16.32371393810225, 33.87047853437075, 24.666445060986, 16.25714147556248, ..., 3...</td>\n",
              "        </tr>\n",
              "        \n",
              "        <tr>\n",
              "          <td>4</td><td>(11.285285550572912, 11.943427574520037, 30.822293575869573, 32.62074992690287, 17.134367038665008, ...</td>\n",
              "        </tr>\n",
              "        \n",
              "        <tr>\n",
              "          <td>5</td><td>(16.075589510431925, 18.64307921338952, 25.202928247684273, 22.864090335556, 23.510180342411672, ......</td>\n",
              "        </tr>\n",
              "        \n",
              "        <tr>\n",
              "          <td>6</td><td>(19.86191872317412, 10.750738290203438, 27.732176857847264, 24.898968539931545, 20.021044296178832, ...</td>\n",
              "        </tr>\n",
              "        \n",
              "        <tr>\n",
              "          <td>7</td><td>(31.23742310187066, 18.928774265658596, 24.723438047092188, 34.63459491361397, 20.575118592382715, ....</td>\n",
              "        </tr>\n",
              "        \n",
              "        <tr>\n",
              "          <td>8</td><td>(30.326424057715897, 25.159985718139936, 27.887293653174396, 39.18022607537819, 33.43666459824384, ....</td>\n",
              "        </tr>\n",
              "        <tr><td>...</td><td>...</td></tr>\n",
              "        <tr>\n",
              "          <td>9999</td><td>(13.72550997982471, 16.602561916322017, 4.359452760567494, 16.313131577597744, 20.491026483237224, ....</td>\n",
              "        </tr>\n",
              "        \n",
              "      </tbody>\n",
              "    </table>\n",
              "        "
            ]
          },
          "metadata": {},
          "execution_count": 15
        }
      ]
    },
    {
      "cell_type": "markdown",
      "source": [
        "Now we get the mean of each vector (row) to get 10,000 sample means:"
      ],
      "metadata": {
        "id": "g6pYqLXYpbaT"
      }
    },
    {
      "cell_type": "code",
      "source": [
        "# The 2nd parameter is the mathematical operation applied to each row of the random vector\n",
        "# Simulate 10,000 means of each random vector of 25 uniform distributed numbers: \n",
        "ymean = RV(P,mean).sim(10000)\n",
        "ymean"
      ],
      "metadata": {
        "colab": {
          "base_uri": "https://localhost:8080/",
          "height": 275
        },
        "id": "bFD0Mm8DpdmN",
        "outputId": "ee1b31af-09df-4a86-b4c2-941dceb5f8ed"
      },
      "execution_count": 16,
      "outputs": [
        {
          "output_type": "execute_result",
          "data": {
            "text/plain": [
              "Index Result\n",
              "0     18.66238568659786\n",
              "1     23.052091874028417\n",
              "2     19.602505770072202\n",
              "3     21.081398847636976\n",
              "4     21.98355726546163\n",
              "5     21.307379470502152\n",
              "6     23.236605709623873\n",
              "7     18.513899808225545\n",
              "8     18.10961645237668\n",
              "....  .................\n",
              "9999  19.78204650295133"
            ],
            "text/html": [
              "\n",
              "    <table>\n",
              "      <thead>\n",
              "        <th width=\"10%\">Index</th>\n",
              "        <th width=\"90%\">Result</th>\n",
              "      </thead>\n",
              "      <tbody>\n",
              "        \n",
              "        <tr>\n",
              "          <td>0</td><td>18.66238568659786</td>\n",
              "        </tr>\n",
              "        \n",
              "        <tr>\n",
              "          <td>1</td><td>23.052091874028417</td>\n",
              "        </tr>\n",
              "        \n",
              "        <tr>\n",
              "          <td>2</td><td>19.602505770072202</td>\n",
              "        </tr>\n",
              "        \n",
              "        <tr>\n",
              "          <td>3</td><td>21.081398847636976</td>\n",
              "        </tr>\n",
              "        \n",
              "        <tr>\n",
              "          <td>4</td><td>21.98355726546163</td>\n",
              "        </tr>\n",
              "        \n",
              "        <tr>\n",
              "          <td>5</td><td>21.307379470502152</td>\n",
              "        </tr>\n",
              "        \n",
              "        <tr>\n",
              "          <td>6</td><td>23.236605709623873</td>\n",
              "        </tr>\n",
              "        \n",
              "        <tr>\n",
              "          <td>7</td><td>18.513899808225545</td>\n",
              "        </tr>\n",
              "        \n",
              "        <tr>\n",
              "          <td>8</td><td>18.10961645237668</td>\n",
              "        </tr>\n",
              "        <tr><td>...</td><td>...</td></tr>\n",
              "        <tr>\n",
              "          <td>9999</td><td>19.78204650295133</td>\n",
              "        </tr>\n",
              "        \n",
              "      </tbody>\n",
              "    </table>\n",
              "        "
            ]
          },
          "metadata": {},
          "execution_count": 16
        }
      ]
    },
    {
      "cell_type": "markdown",
      "source": [
        "Now do a histogram of these sample means of Y."
      ],
      "metadata": {
        "id": "o1Sh2HIQpfps"
      }
    },
    {
      "cell_type": "code",
      "source": [
        "plt.clf()\n",
        "ymean.plot()\n",
        "plt.show()"
      ],
      "metadata": {
        "colab": {
          "base_uri": "https://localhost:8080/",
          "height": 265
        },
        "id": "Ffvo1VKdphGV",
        "outputId": "c99b59da-e2e8-4a89-f691-30c7b9a8d1e4"
      },
      "execution_count": 17,
      "outputs": [
        {
          "output_type": "display_data",
          "data": {
            "text/plain": [
              "<Figure size 432x288 with 1 Axes>"
            ],
            "image/png": "[encoded data removed]"
          },
          "metadata": {
            "needs_background": "light"
          }
        }
      ]
    },
    {
      "cell_type": "markdown",
      "source": [
        "**2.2.6 CHALLENGE**\n",
        "\n",
        "* CALCULATE THE MEAN AND STANDARD DEVIATION OF THE ymean VARIABLE. HOW SIMILAR OR DIFFERENT ARE THESE VALUES FROM THE MEAN AND STANDARD DEVIATION OF y?"
      ],
      "metadata": {
        "id": "s4QVX5VfpqpE"
      }
    },
    {
      "cell_type": "code",
      "source": [
        "print(ymean.mean())\n",
        "print(ymean.std())"
      ],
      "metadata": {
        "colab": {
          "base_uri": "https://localhost:8080/"
        },
        "id": "ep0QCdbjqivM",
        "outputId": "3ffa71c0-548c-4883-bbe1-bf26cb337ecc"
      },
      "execution_count": null,
      "outputs": [
        {
          "output_type": "stream",
          "name": "stdout",
          "text": [
            "19.99811388138458\n",
            "1.9952002353744023\n"
          ]
        }
      ]
    },
    {
      "cell_type": "markdown",
      "source": [
        "LA MEDIA SIGUE SIENDO MUY SIMILAR, CERCANA AL 20. EN CAMBIO LA DESVIACIÓN ESTÁNDAR ES MUCHO MENOR, CASI DE 2, LO QUE INDICA UNA MENOR DISPERSIÓN."
      ],
      "metadata": {
        "id": "pf_VZ_zLdpGE"
      }
    },
    {
      "cell_type": "markdown",
      "source": [
        "* INTERPRET THE ABOVE HISTOGRAM OF THE SAMPLES OF y."
      ],
      "metadata": {
        "id": "w49n4MwTdkvI"
      }
    },
    {
      "cell_type": "markdown",
      "source": [
        "**Interpretación**\n",
        "\n",
        "SE APRECIA LA CAMPANA DE GAUSS CARACTERÍSTICA DE LA DISTRIBUCIÓN NORMAL, EN COMPARACIÓN AL HISTOGRAMA ANTERIOR, LOS DATOS DE LOS EXTREMOS NO TIENEN TANTA DISPERSIÓN."
      ],
      "metadata": {
        "id": "lpUU4X4qduSB"
      }
    },
    {
      "cell_type": "markdown",
      "source": [
        "Now plot both histograms, the histogram of y and the histogram of ymean:"
      ],
      "metadata": {
        "id": "4WU16bKNdnoJ"
      }
    },
    {
      "cell_type": "code",
      "source": [
        "plt.clf()\n",
        "ymean.plot()\n",
        "y.plot()\n",
        "plt.show()"
      ],
      "metadata": {
        "colab": {
          "base_uri": "https://localhost:8080/",
          "height": 265
        },
        "id": "r8jZ6ESAp1hE",
        "outputId": "d6a7482e-4fa9-432a-b768-f435bde37681"
      },
      "execution_count": 18,
      "outputs": [
        {
          "output_type": "display_data",
          "data": {
            "text/plain": [
              "<Figure size 432x288 with 1 Axes>"
            ],
            "image/png": "[encoded data removed]"
          },
          "metadata": {
            "needs_background": "light"
          }
        }
      ]
    },
    {
      "cell_type": "markdown",
      "source": [
        "* WHAT DO YOU SEE? COMPARE BOTH HISTOGRAMS. BRIEFLY EXPLAIN WHAT YOU THINK THAT HAPPEND.\n",
        "\n",
        "SE APRECIA UN PICO MUCHO MÁS PRONUNCIADO EN COMPARACIÓN A GRÁFICOS ANTERIORES, AÚN CUANDO AMBAS FUNCIONES PARTEN DE UNA SIMULACIÓN NORMAL, EL Y MEAN CONCENTRA AÚN MÁS LOS VALORES, ACERCANDO LA MAYORÍA A LA MEDIA TEÓRICA DE 20."
      ],
      "metadata": {
        "id": "hDi-jG1xq2zW"
      }
    },
    {
      "cell_type": "markdown",
      "source": [
        "**4.1 Challenge**\n",
        "\n",
        "Collect real data for Microsoft (MSFT) stock and do a hypothesis testing to see whether the mean of monthly cc returns of Microsoft is greater than zero.\n",
        "\n",
        "You have to do the following:\n",
        "\n",
        "Run a t-test to compare whether the mean return of MSFT is greater than zero.\n",
        "\n",
        "To do a hypothesis test, we usually do the following steps:\n",
        "\n",
        "1.   DEFINE THE VARIABLE OF STUDY. In this case it will be the mean of MSFT cc returns\n",
        "\n",
        "2.   WRITE THE NULL AND THE ALTERNATIVE HYPOTHESIS.\n",
        "\n",
        "3.   CALCULATE THE STANDARD ERROR, WHICH IS THE STANDARD DEVIATION OF THE VARIABLE OF STUDY.\n",
        "\n",
        "4.   CALCULATE THE t-statistic (t-value). EXPLAIN/INTERPRET THE t-statistic.\n",
        "\n",
        "5.   CALCULATE THE 95% CONFIDENCE INTERVAL OF THE SAMPLE MEAN\n",
        "\n",
        "6.   WRITE YOUR CONCLUSION OF THE t-TEST"
      ],
      "metadata": {
        "id": "rQcraQ5pjH88"
      }
    },
    {
      "cell_type": "code",
      "source": [
        "import math\n",
        "import numpy as np\n",
        "import pandas as pd\n",
        "import pandas_datareader as pdr\n",
        "import matplotlib\n",
        "import matplotlib.pyplot as plt\n",
        "\n",
        "# Upgrade libraries\n",
        "!pip install --upgrade pandas\n",
        "!pip install --upgrade pandas-datareader"
      ],
      "metadata": {
        "colab": {
          "base_uri": "https://localhost:8080/"
        },
        "id": "FXQpgovLrFw3",
        "outputId": "68a89756-3c0c-404e-9c10-21af7d631781"
      },
      "execution_count": 35,
      "outputs": [
        {
          "output_type": "stream",
          "name": "stdout",
          "text": [
            "Looking in indexes: https://pypi.org/simple, https://us-python.pkg.dev/colab-wheels/public/simple/\n",
            "Requirement already satisfied: pandas in /usr/local/lib/python3.7/dist-packages (1.3.5)\n",
            "Requirement already satisfied: pytz>=2017.3 in /usr/local/lib/python3.7/dist-packages (from pandas) (2022.2.1)\n",
            "Requirement already satisfied: numpy>=1.17.3 in /usr/local/lib/python3.7/dist-packages (from pandas) (1.21.6)\n",
            "Requirement already satisfied: python-dateutil>=2.7.3 in /usr/local/lib/python3.7/dist-packages (from pandas) (2.8.2)\n",
            "Requirement already satisfied: six>=1.5 in /usr/local/lib/python3.7/dist-packages (from python-dateutil>=2.7.3->pandas) (1.15.0)\n",
            "Looking in indexes: https://pypi.org/simple, https://us-python.pkg.dev/colab-wheels/public/simple/\n",
            "Requirement already satisfied: pandas-datareader in /usr/local/lib/python3.7/dist-packages (0.10.0)\n",
            "Requirement already satisfied: lxml in /usr/local/lib/python3.7/dist-packages (from pandas-datareader) (4.9.1)\n",
            "Requirement already satisfied: requests>=2.19.0 in /usr/local/lib/python3.7/dist-packages (from pandas-datareader) (2.23.0)\n",
            "Requirement already satisfied: pandas>=0.23 in /usr/local/lib/python3.7/dist-packages (from pandas-datareader) (1.3.5)\n",
            "Requirement already satisfied: numpy>=1.17.3 in /usr/local/lib/python3.7/dist-packages (from pandas>=0.23->pandas-datareader) (1.21.6)\n",
            "Requirement already satisfied: python-dateutil>=2.7.3 in /usr/local/lib/python3.7/dist-packages (from pandas>=0.23->pandas-datareader) (2.8.2)\n",
            "Requirement already satisfied: pytz>=2017.3 in /usr/local/lib/python3.7/dist-packages (from pandas>=0.23->pandas-datareader) (2022.2.1)\n",
            "Requirement already satisfied: six>=1.5 in /usr/local/lib/python3.7/dist-packages (from python-dateutil>=2.7.3->pandas>=0.23->pandas-datareader) (1.15.0)\n",
            "Requirement already satisfied: chardet<4,>=3.0.2 in /usr/local/lib/python3.7/dist-packages (from requests>=2.19.0->pandas-datareader) (3.0.4)\n",
            "Requirement already satisfied: certifi>=2017.4.17 in /usr/local/lib/python3.7/dist-packages (from requests>=2.19.0->pandas-datareader) (2022.6.15)\n",
            "Requirement already satisfied: urllib3!=1.25.0,!=1.25.1,<1.26,>=1.21.1 in /usr/local/lib/python3.7/dist-packages (from requests>=2.19.0->pandas-datareader) (1.24.3)\n",
            "Requirement already satisfied: idna<3,>=2.5 in /usr/local/lib/python3.7/dist-packages (from requests>=2.19.0->pandas-datareader) (2.10)\n"
          ]
        }
      ]
    },
    {
      "cell_type": "code",
      "source": [
        "MSFT = pdr.get_data_yahoo('MSFT', start=\"01/01/2017\", interval=\"m\")"
      ],
      "metadata": {
        "id": "tz54ErsxrI8g"
      },
      "execution_count": 36,
      "outputs": []
    },
    {
      "cell_type": "code",
      "source": [
        "MSFT"
      ],
      "metadata": {
        "colab": {
          "base_uri": "https://localhost:8080/",
          "height": 455
        },
        "id": "S0Ee7pvnrV15",
        "outputId": "3d12f535-e88d-4492-809a-f9d8baca2395"
      },
      "execution_count": 37,
      "outputs": [
        {
          "output_type": "execute_result",
          "data": {
            "text/plain": [
              "                  High         Low        Open       Close       Volume  \\\n",
              "Date                                                                      \n",
              "2017-01-01   65.910004   61.950001   62.790001   64.650002  493453500.0   \n",
              "2017-02-01   65.239998   62.750000   64.360001   63.980000  440744000.0   \n",
              "2017-03-01   66.190002   63.619999   64.129997   65.860001  489169700.0   \n",
              "2017-04-01   69.139999   64.849998   65.809998   68.459999  433191200.0   \n",
              "2017-05-01   70.739998   67.139999   68.680000   69.839996  517218500.0   \n",
              "...                ...         ...         ...         ...          ...   \n",
              "2022-04-01  315.109985  270.000000  309.369995  277.519989  627343400.0   \n",
              "2022-05-01  290.880005  246.440002  277.709991  271.869995  742902000.0   \n",
              "2022-06-01  277.690002  241.509995  275.200012  256.829987  621372300.0   \n",
              "2022-07-01  282.000000  245.940002  256.390015  280.739990  534868400.0   \n",
              "2022-08-01  294.179993  260.660004  277.820007  261.470001  477040600.0   \n",
              "\n",
              "             Adj Close  \n",
              "Date                    \n",
              "2017-01-01   59.719963  \n",
              "2017-02-01   59.101067  \n",
              "2017-03-01   61.206532  \n",
              "2017-04-01   63.622810  \n",
              "2017-05-01   64.905296  \n",
              "...                ...  \n",
              "2022-04-01  276.288666  \n",
              "2022-05-01  270.663727  \n",
              "2022-06-01  256.285980  \n",
              "2022-07-01  280.145355  \n",
              "2022-08-01  260.916168  \n",
              "\n",
              "[68 rows x 6 columns]"
            ],
            "text/html": [
              "\n",
              "  <div id=\"df-de615bfb-2df3-4376-9991-ba147512c9b3\">\n",
              "    <div class=\"colab-df-container\">\n",
              "      <div>\n",
              "<style scoped>\n",
              "    .dataframe tbody tr th:only-of-type {\n",
              "        vertical-align: middle;\n",
              "    }\n",
              "\n",
              "    .dataframe tbody tr th {\n",
              "        vertical-align: top;\n",
              "    }\n",
              "\n",
              "    .dataframe thead th {\n",
              "        text-align: right;\n",
              "    }\n",
              "</style>\n",
              "<table border=\"1\" class=\"dataframe\">\n",
              "  <thead>\n",
              "    <tr style=\"text-align: right;\">\n",
              "      <th></th>\n",
              "      <th>High</th>\n",
              "      <th>Low</th>\n",
              "      <th>Open</th>\n",
              "      <th>Close</th>\n",
              "      <th>Volume</th>\n",
              "      <th>Adj Close</th>\n",
              "    </tr>\n",
              "    <tr>\n",
              "      <th>Date</th>\n",
              "      <th></th>\n",
              "      <th></th>\n",
              "      <th></th>\n",
              "      <th></th>\n",
              "      <th></th>\n",
              "      <th></th>\n",
              "    </tr>\n",
              "  </thead>\n",
              "  <tbody>\n",
              "    <tr>\n",
              "      <th>2017-01-01</th>\n",
              "      <td>65.910004</td>\n",
              "      <td>61.950001</td>\n",
              "      <td>62.790001</td>\n",
              "      <td>64.650002</td>\n",
              "      <td>493453500.0</td>\n",
              "      <td>59.719963</td>\n",
              "    </tr>\n",
              "    <tr>\n",
              "      <th>2017-02-01</th>\n",
              "      <td>65.239998</td>\n",
              "      <td>62.750000</td>\n",
              "      <td>64.360001</td>\n",
              "      <td>63.980000</td>\n",
              "      <td>440744000.0</td>\n",
              "      <td>59.101067</td>\n",
              "    </tr>\n",
              "    <tr>\n",
              "      <th>2017-03-01</th>\n",
              "      <td>66.190002</td>\n",
              "      <td>63.619999</td>\n",
              "      <td>64.129997</td>\n",
              "      <td>65.860001</td>\n",
              "      <td>489169700.0</td>\n",
              "      <td>61.206532</td>\n",
              "    </tr>\n",
              "    <tr>\n",
              "      <th>2017-04-01</th>\n",
              "      <td>69.139999</td>\n",
              "      <td>64.849998</td>\n",
              "      <td>65.809998</td>\n",
              "      <td>68.459999</td>\n",
              "      <td>433191200.0</td>\n",
              "      <td>63.622810</td>\n",
              "    </tr>\n",
              "    <tr>\n",
              "      <th>2017-05-01</th>\n",
              "      <td>70.739998</td>\n",
              "      <td>67.139999</td>\n",
              "      <td>68.680000</td>\n",
              "      <td>69.839996</td>\n",
              "      <td>517218500.0</td>\n",
              "      <td>64.905296</td>\n",
              "    </tr>\n",
              "    <tr>\n",
              "      <th>...</th>\n",
              "      <td>...</td>\n",
              "      <td>...</td>\n",
              "      <td>...</td>\n",
              "      <td>...</td>\n",
              "      <td>...</td>\n",
              "      <td>...</td>\n",
              "    </tr>\n",
              "    <tr>\n",
              "      <th>2022-04-01</th>\n",
              "      <td>315.109985</td>\n",
              "      <td>270.000000</td>\n",
              "      <td>309.369995</td>\n",
              "      <td>277.519989</td>\n",
              "      <td>627343400.0</td>\n",
              "      <td>276.288666</td>\n",
              "    </tr>\n",
              "    <tr>\n",
              "      <th>2022-05-01</th>\n",
              "      <td>290.880005</td>\n",
              "      <td>246.440002</td>\n",
              "      <td>277.709991</td>\n",
              "      <td>271.869995</td>\n",
              "      <td>742902000.0</td>\n",
              "      <td>270.663727</td>\n",
              "    </tr>\n",
              "    <tr>\n",
              "      <th>2022-06-01</th>\n",
              "      <td>277.690002</td>\n",
              "      <td>241.509995</td>\n",
              "      <td>275.200012</td>\n",
              "      <td>256.829987</td>\n",
              "      <td>621372300.0</td>\n",
              "      <td>256.285980</td>\n",
              "    </tr>\n",
              "    <tr>\n",
              "      <th>2022-07-01</th>\n",
              "      <td>282.000000</td>\n",
              "      <td>245.940002</td>\n",
              "      <td>256.390015</td>\n",
              "      <td>280.739990</td>\n",
              "      <td>534868400.0</td>\n",
              "      <td>280.145355</td>\n",
              "    </tr>\n",
              "    <tr>\n",
              "      <th>2022-08-01</th>\n",
              "      <td>294.179993</td>\n",
              "      <td>260.660004</td>\n",
              "      <td>277.820007</td>\n",
              "      <td>261.470001</td>\n",
              "      <td>477040600.0</td>\n",
              "      <td>260.916168</td>\n",
              "    </tr>\n",
              "  </tbody>\n",
              "</table>\n",
              "<p>68 rows × 6 columns</p>\n",
              "</div>\n",
              "      <button class=\"colab-df-convert\" onclick=\"convertToInteractive('df-de615bfb-2df3-4376-9991-ba147512c9b3')\"\n",
              "              title=\"Convert this dataframe to an interactive table.\"\n",
              "              style=\"display:none;\">\n",
              "        \n",
              "  <svg xmlns=\"http://www.w3.org/2000/svg\" height=\"24px\"viewBox=\"0 0 24 24\"\n",
              "       width=\"24px\">\n",
              "    <path d=\"M0 0h24v24H0V0z\" fill=\"none\"/>\n",
              "    <path d=\"M18.56 5.44l.94 2.06.94-2.06 2.06-.94-2.06-.94-.94-2.06-.94 2.06-2.06.94zm-11 1L8.5 8.5l.94-2.06 2.06-.94-2.06-.94L8.5 2.5l-.94 2.06-2.06.94zm10 10l.94 2.06.94-2.06 2.06-.94-2.06-.94-.94-2.06-.94 2.06-2.06.94z\"/><path d=\"M17.41 7.96l-1.37-1.37c-.4-.4-.92-.59-1.43-.59-.52 0-1.04.2-1.43.59L10.3 9.45l-7.72 7.72c-.78.78-.78 2.05 0 2.83L4 21.41c.39.39.9.59 1.41.59.51 0 1.02-.2 1.41-.59l7.78-7.78 2.81-2.81c.8-.78.8-2.07 0-2.86zM5.41 20L4 18.59l7.72-7.72 1.47 1.35L5.41 20z\"/>\n",
              "  </svg>\n",
              "      </button>\n",
              "      \n",
              "  <style>\n",
              "    .colab-df-container {\n",
              "      display:flex;\n",
              "      flex-wrap:wrap;\n",
              "      gap: 12px;\n",
              "    }\n",
              "\n",
              "    .colab-df-convert {\n",
              "      background-color: #E8F0FE;\n",
              "      border: none;\n",
              "      border-radius: 50%;\n",
              "      cursor: pointer;\n",
              "      display: none;\n",
              "      fill: #1967D2;\n",
              "      height: 32px;\n",
              "      padding: 0 0 0 0;\n",
              "      width: 32px;\n",
              "    }\n",
              "\n",
              "    .colab-df-convert:hover {\n",
              "      background-color: #E2EBFA;\n",
              "      box-shadow: 0px 1px 2px rgba(60, 64, 67, 0.3), 0px 1px 3px 1px rgba(60, 64, 67, 0.15);\n",
              "      fill: #174EA6;\n",
              "    }\n",
              "\n",
              "    [theme=dark] .colab-df-convert {\n",
              "      background-color: #3B4455;\n",
              "      fill: #D2E3FC;\n",
              "    }\n",
              "\n",
              "    [theme=dark] .colab-df-convert:hover {\n",
              "      background-color: #434B5C;\n",
              "      box-shadow: 0px 1px 3px 1px rgba(0, 0, 0, 0.15);\n",
              "      filter: drop-shadow(0px 1px 2px rgba(0, 0, 0, 0.3));\n",
              "      fill: #FFFFFF;\n",
              "    }\n",
              "  </style>\n",
              "\n",
              "      <script>\n",
              "        const buttonEl =\n",
              "          document.querySelector('#df-de615bfb-2df3-4376-9991-ba147512c9b3 button.colab-df-convert');\n",
              "        buttonEl.style.display =\n",
              "          google.colab.kernel.accessAllowed ? 'block' : 'none';\n",
              "\n",
              "        async function convertToInteractive(key) {\n",
              "          const element = document.querySelector('#df-de615bfb-2df3-4376-9991-ba147512c9b3');\n",
              "          const dataTable =\n",
              "            await google.colab.kernel.invokeFunction('convertToInteractive',\n",
              "                                                     [key], {});\n",
              "          if (!dataTable) return;\n",
              "\n",
              "          const docLinkHtml = 'Like what you see? Visit the ' +\n",
              "            '<a target=\"_blank\" href=https://colab.research.google.com/notebooks/data_table.ipynb>data table notebook</a>'\n",
              "            + ' to learn more about interactive tables.';\n",
              "          element.innerHTML = '';\n",
              "          dataTable['output_type'] = 'display_data';\n",
              "          await google.colab.output.renderOutput(dataTable, element);\n",
              "          const docLink = document.createElement('div');\n",
              "          docLink.innerHTML = docLinkHtml;\n",
              "          element.appendChild(docLink);\n",
              "        }\n",
              "      </script>\n",
              "    </div>\n",
              "  </div>\n",
              "  "
            ]
          },
          "metadata": {},
          "execution_count": 37
        }
      ]
    },
    {
      "cell_type": "code",
      "source": [
        "MSFT.info()"
      ],
      "metadata": {
        "colab": {
          "base_uri": "https://localhost:8080/"
        },
        "id": "HKiQqnIAr1Yo",
        "outputId": "fdf1b33b-a73c-4bf7-b7dd-8ea2e9dc35bf"
      },
      "execution_count": 38,
      "outputs": [
        {
          "output_type": "stream",
          "name": "stdout",
          "text": [
            "<class 'pandas.core.frame.DataFrame'>\n",
            "DatetimeIndex: 68 entries, 2017-01-01 to 2022-08-01\n",
            "Data columns (total 6 columns):\n",
            " #   Column     Non-Null Count  Dtype  \n",
            "---  ------     --------------  -----  \n",
            " 0   High       68 non-null     float64\n",
            " 1   Low        68 non-null     float64\n",
            " 2   Open       68 non-null     float64\n",
            " 3   Close      68 non-null     float64\n",
            " 4   Volume     68 non-null     float64\n",
            " 5   Adj Close  68 non-null     float64\n",
            "dtypes: float64(6)\n",
            "memory usage: 3.7 KB\n"
          ]
        }
      ]
    },
    {
      "cell_type": "markdown",
      "source": [
        "**1.- DEFINE THE VARIABLE OF STUDY. In this case it will be the mean of MSFT cc returns**"
      ],
      "metadata": {
        "id": "ptgWQmxZ1WTh"
      }
    },
    {
      "cell_type": "markdown",
      "source": [
        "SE CREA UNA NUEVA COLUMNA DONDE ESTARÁ NUESTRA VARIABLE DE CC RETURNS."
      ],
      "metadata": {
        "id": "trS3uUiZ6-qi"
      }
    },
    {
      "cell_type": "code",
      "source": [
        "MSFT[\"r\"] = np.log(MSFT['Adj Close']) - np.log(MSFT['Adj Close'].shift(1))"
      ],
      "metadata": {
        "id": "0H0SaFNMrey2"
      },
      "execution_count": 39,
      "outputs": []
    },
    {
      "cell_type": "code",
      "source": [
        "print(MSFT[\"r\"])"
      ],
      "metadata": {
        "colab": {
          "base_uri": "https://localhost:8080/"
        },
        "id": "iyt2IRs4ruO-",
        "outputId": "6c3fe27f-bf53-4619-d6f0-6f3f4a27bc14"
      },
      "execution_count": 40,
      "outputs": [
        {
          "output_type": "stream",
          "name": "stdout",
          "text": [
            "Date\n",
            "2017-01-01         NaN\n",
            "2017-02-01   -0.010417\n",
            "2017-03-01    0.035005\n",
            "2017-04-01    0.038718\n",
            "2017-05-01    0.019957\n",
            "                ...   \n",
            "2022-04-01   -0.105213\n",
            "2022-05-01   -0.020569\n",
            "2022-06-01   -0.054583\n",
            "2022-07-01    0.089015\n",
            "2022-08-01   -0.071109\n",
            "Name: r, Length: 68, dtype: float64\n"
          ]
        }
      ]
    },
    {
      "cell_type": "markdown",
      "source": [
        "BORRAMOS LOS DATOS NULOS PARA FACILITAR LAS OPERACIONES."
      ],
      "metadata": {
        "id": "wJXnH4-d7HFb"
      }
    },
    {
      "cell_type": "code",
      "source": [
        "MSFT= MSFT.dropna()"
      ],
      "metadata": {
        "id": "GtS5VcC-svvG"
      },
      "execution_count": 41,
      "outputs": []
    },
    {
      "cell_type": "markdown",
      "source": [
        "HISTOGRAMA DE CC RETURNS."
      ],
      "metadata": {
        "id": "gLsO_Cnn7O_s"
      }
    },
    {
      "cell_type": "code",
      "source": [
        "plt.hist(MSFT[\"r\"], bins = 20)\n",
        "plt.show()"
      ],
      "metadata": {
        "colab": {
          "base_uri": "https://localhost:8080/",
          "height": 265
        },
        "id": "HUS2nV1etH0t",
        "outputId": "9ea49270-9b2f-44b7-86a4-bec2183194f0"
      },
      "execution_count": 44,
      "outputs": [
        {
          "output_type": "display_data",
          "data": {
            "text/plain": [
              "<Figure size 432x288 with 1 Axes>"
            ],
            "image/png": "[encoded data removed]"
          },
          "metadata": {
            "needs_background": "light"
          }
        }
      ]
    },
    {
      "cell_type": "markdown",
      "source": [
        "**2.- WRITE THE NULL AND THE ALTERNATIVE HYPOTHESIS.**"
      ],
      "metadata": {
        "id": "T4GGeNBU1mJ4"
      }
    },
    {
      "cell_type": "markdown",
      "source": [
        "*NULL HYPOTHESIS:*\n",
        "\n",
        "LA MEDIA DEL CAMBIO DE VALOR MENSUAL DE LAS ACCIONES DE MICROSOFT (MSFT) ES MENOR O IGUAL A 0\n",
        "\n",
        "*ALTERNATIVE HYPOTHESIS:*\n",
        "\n",
        "LA MEDIA DEL CAMBIO DE VALOR MENSUAL DE LAS ACCIONES DE MICROSOFT (MSFT) ES MAYOR A 0"
      ],
      "metadata": {
        "id": "cLdxk_dS7Tc1"
      }
    },
    {
      "cell_type": "code",
      "source": [
        "MSFT[\"r\"].describe()"
      ],
      "metadata": {
        "colab": {
          "base_uri": "https://localhost:8080/"
        },
        "id": "cA81LGrns1Al",
        "outputId": "45cbf335-9a7f-4b6c-d4e8-2b4b185ffc04"
      },
      "execution_count": 43,
      "outputs": [
        {
          "output_type": "execute_result",
          "data": {
            "text/plain": [
              "count    67.000000\n",
              "mean      0.022008\n",
              "std       0.055673\n",
              "min      -0.105213\n",
              "25%      -0.010190\n",
              "50%       0.022293\n",
              "75%       0.055691\n",
              "max       0.162366\n",
              "Name: r, dtype: float64"
            ]
          },
          "metadata": {},
          "execution_count": 43
        }
      ]
    },
    {
      "cell_type": "code",
      "source": [
        "MSFT_mean = MSFT[\"r\"].mean()\n",
        "print(\"LA MEDIA DE LOS CC RETURNS MENSUALES ES \", MSFT_mean)"
      ],
      "metadata": {
        "colab": {
          "base_uri": "https://localhost:8080/"
        },
        "id": "0K-wuR8O19Yp",
        "outputId": "13c5f5f4-dc81-4d19-d0bb-34f52eddc81b"
      },
      "execution_count": 47,
      "outputs": [
        {
          "output_type": "stream",
          "name": "stdout",
          "text": [
            "LA MEDIA DE LOS CC RETURNS MENSUALES ES  0.022007952340217525\n"
          ]
        }
      ]
    },
    {
      "cell_type": "markdown",
      "source": [
        "**3.- CALCULATE THE STANDARD ERROR, WHICH IS THE STANDARD DEVIATION OF THE VARIABLE OF STUDY.**"
      ],
      "metadata": {
        "id": "YCS3dkYF139_"
      }
    },
    {
      "cell_type": "code",
      "source": [
        "MSFT_std = MSFT[\"r\"].std()\n",
        "MSFT_grouped_std = MSFT_std / math.sqrt(MSFT[\"r\"].count())\n",
        "\n",
        "print(\"LA DESVIACIÓN ESTÁNDAR DE LOS CC RETURNS MENSUALES ES \", MSFT_std)\n",
        "print(\"LA DESVIACIÓN ESTÁNDAR DE LA MUESTRA DE LOS CC RETURNS MENSUALES ES \", MSFT_grouped_std)"
      ],
      "metadata": {
        "colab": {
          "base_uri": "https://localhost:8080/"
        },
        "id": "zbDYkeo5uUi_",
        "outputId": "d34703a8-d503-4ed4-eb0a-884a9d4180a4"
      },
      "execution_count": 48,
      "outputs": [
        {
          "output_type": "stream",
          "name": "stdout",
          "text": [
            "LA DESVIACIÓN ESTÁNDAR DE LOS CC RETURNS MENSUALES ES  0.055672550496475834\n",
            "LA DESVIACIÓN ESTÁNDAR DE LA MUESTRA DE LOS CC RETURNS MENSUALES ES  0.006801484560052797\n"
          ]
        }
      ]
    },
    {
      "cell_type": "markdown",
      "source": [
        "**4.- CALCULATE THE t-statistic (t-value). EXPLAIN/INTERPRET THE t-statistic.**"
      ],
      "metadata": {
        "id": "h_QDzz-W2DsY"
      }
    },
    {
      "cell_type": "code",
      "source": [
        "t_statistic = MSFT_mean / MSFT_grouped_std\n",
        "print(\"EL T-VALUE DE LOS CC RETURNS MENSUALES ES \", t_statistic)"
      ],
      "metadata": {
        "colab": {
          "base_uri": "https://localhost:8080/"
        },
        "id": "SDDNG3n72GPS",
        "outputId": "b996258d-0500-4f25-c7ee-0fe691a3224d"
      },
      "execution_count": 49,
      "outputs": [
        {
          "output_type": "stream",
          "name": "stdout",
          "text": [
            "EL T-VALUE DE LOS CC RETURNS MENSUALES ES  3.2357571565297634\n"
          ]
        }
      ]
    },
    {
      "cell_type": "markdown",
      "source": [
        "EL T-VALUE ES MAYOR A 3, POR LO QUE LA HIPÓTESIS ALTERNATIVA PUEDE SER CONFIRMADA EL 99% DE LAS VECES."
      ],
      "metadata": {
        "id": "FwEg6oSz-AJF"
      }
    },
    {
      "cell_type": "markdown",
      "source": [
        "**5.- CALCULATE THE 95% CONFIDENCE INTERVAL OF THE SAMPLE MEAN**"
      ],
      "metadata": {
        "id": "rB-PJmAZ2L0B"
      }
    },
    {
      "cell_type": "code",
      "source": [
        "MIN_CI = MSFT_mean - 2 * MSFT_grouped_std\n",
        "MAX_CI = MSFT_mean + 2 * MSFT_grouped_std\n",
        "\n",
        "print(\"MIN 95% CI DE LA MEDIA DE LA MUESTRA \", MIN_CI)\n",
        "print(\"MAX 95% CI DE LA MEDIA DE LA MUESTRA \", MAX_CI)"
      ],
      "metadata": {
        "colab": {
          "base_uri": "https://localhost:8080/"
        },
        "id": "9CQMABMV2Swi",
        "outputId": "aa9628e6-9b47-45a7-dce2-3ce9c0d90658"
      },
      "execution_count": 50,
      "outputs": [
        {
          "output_type": "stream",
          "name": "stdout",
          "text": [
            "MIN 95% CI DE LA MEDIA DE LA MUESTRA  0.008404983220111932\n",
            "MAX 95% CI DE LA MEDIA DE LA MUESTRA  0.03561092146032312\n"
          ]
        }
      ]
    },
    {
      "cell_type": "markdown",
      "source": [
        "**6.- WRITE YOUR CONCLUSION OF THE t-TEST**"
      ],
      "metadata": {
        "id": "OVLYfkR42W55"
      }
    },
    {
      "cell_type": "markdown",
      "source": [
        "HAY EVIDENCIA ESTADÍSTICA SUFICIENTE PARA RECHAZAR LA HIPÓTESIS NULA Y ACEPTAR LA ALTERNATIVA. HAY UNA DIFERENCIA DE 3.24 DESVIACIONES ESTÁNDAR."
      ],
      "metadata": {
        "id": "25GjOBua2hpf"
      }
    }
  ]
}