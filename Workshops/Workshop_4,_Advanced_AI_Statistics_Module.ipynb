{
  "nbformat": 4,
  "nbformat_minor": 0,
  "metadata": {
    "colab": {
      "provenance": []
    },
    "kernelspec": {
      "name": "python3",
      "display_name": "Python 3"
    },
    "language_info": {
      "name": "python"
    }
  },
  "cells": [
    {
      "cell_type": "markdown",
      "source": [
        "**Workshop 4, Enrique Santos Fraire**"
      ],
      "metadata": {
        "id": "q87cOooAtJ-v"
      }
    },
    {
      "cell_type": "code",
      "source": [
        "!pip install --upgrade pandas\n",
        "!pip install --upgrade pandas-datareader"
      ],
      "metadata": {
        "colab": {
          "base_uri": "https://localhost:8080/"
        },
        "id": "IVaH5tSevn0V",
        "outputId": "2d823b51-5e42-42bc-bf2a-35ce7ff43e66"
      },
      "execution_count": 1,
      "outputs": [
        {
          "output_type": "stream",
          "name": "stdout",
          "text": [
            "Looking in indexes: https://pypi.org/simple, https://us-python.pkg.dev/colab-wheels/public/simple/\n",
            "Requirement already satisfied: pandas in /usr/local/lib/python3.7/dist-packages (1.3.5)\n",
            "Requirement already satisfied: python-dateutil>=2.7.3 in /usr/local/lib/python3.7/dist-packages (from pandas) (2.8.2)\n",
            "Requirement already satisfied: pytz>=2017.3 in /usr/local/lib/python3.7/dist-packages (from pandas) (2022.2.1)\n",
            "Requirement already satisfied: numpy>=1.17.3 in /usr/local/lib/python3.7/dist-packages (from pandas) (1.21.6)\n",
            "Requirement already satisfied: six>=1.5 in /usr/local/lib/python3.7/dist-packages (from python-dateutil>=2.7.3->pandas) (1.15.0)\n",
            "Looking in indexes: https://pypi.org/simple, https://us-python.pkg.dev/colab-wheels/public/simple/\n",
            "Requirement already satisfied: pandas-datareader in /usr/local/lib/python3.7/dist-packages (0.9.0)\n",
            "Collecting pandas-datareader\n",
            "  Downloading pandas_datareader-0.10.0-py3-none-any.whl (109 kB)\n",
            "\u001b[K     |████████████████████████████████| 109 kB 5.4 MB/s \n",
            "\u001b[?25hRequirement already satisfied: pandas>=0.23 in /usr/local/lib/python3.7/dist-packages (from pandas-datareader) (1.3.5)\n",
            "Requirement already satisfied: lxml in /usr/local/lib/python3.7/dist-packages (from pandas-datareader) (4.9.1)\n",
            "Requirement already satisfied: requests>=2.19.0 in /usr/local/lib/python3.7/dist-packages (from pandas-datareader) (2.23.0)\n",
            "Requirement already satisfied: python-dateutil>=2.7.3 in /usr/local/lib/python3.7/dist-packages (from pandas>=0.23->pandas-datareader) (2.8.2)\n",
            "Requirement already satisfied: numpy>=1.17.3 in /usr/local/lib/python3.7/dist-packages (from pandas>=0.23->pandas-datareader) (1.21.6)\n",
            "Requirement already satisfied: pytz>=2017.3 in /usr/local/lib/python3.7/dist-packages (from pandas>=0.23->pandas-datareader) (2022.2.1)\n",
            "Requirement already satisfied: six>=1.5 in /usr/local/lib/python3.7/dist-packages (from python-dateutil>=2.7.3->pandas>=0.23->pandas-datareader) (1.15.0)\n",
            "Requirement already satisfied: urllib3!=1.25.0,!=1.25.1,<1.26,>=1.21.1 in /usr/local/lib/python3.7/dist-packages (from requests>=2.19.0->pandas-datareader) (1.24.3)\n",
            "Requirement already satisfied: idna<3,>=2.5 in /usr/local/lib/python3.7/dist-packages (from requests>=2.19.0->pandas-datareader) (2.10)\n",
            "Requirement already satisfied: certifi>=2017.4.17 in /usr/local/lib/python3.7/dist-packages (from requests>=2.19.0->pandas-datareader) (2022.6.15)\n",
            "Requirement already satisfied: chardet<4,>=3.0.2 in /usr/local/lib/python3.7/dist-packages (from requests>=2.19.0->pandas-datareader) (3.0.4)\n",
            "Installing collected packages: pandas-datareader\n",
            "  Attempting uninstall: pandas-datareader\n",
            "    Found existing installation: pandas-datareader 0.9.0\n",
            "    Uninstalling pandas-datareader-0.9.0:\n",
            "      Successfully uninstalled pandas-datareader-0.9.0\n",
            "Successfully installed pandas-datareader-0.10.0\n"
          ]
        }
      ]
    },
    {
      "cell_type": "markdown",
      "source": [
        "# 5 The OLS method"
      ],
      "metadata": {
        "id": "W2UwAcsMveqt"
      }
    },
    {
      "cell_type": "code",
      "execution_count": 2,
      "metadata": {
        "id": "ULl8gJIMexjh",
        "colab": {
          "base_uri": "https://localhost:8080/",
          "height": 279
        },
        "outputId": "f97a264d-26eb-4b35-f084-617aaed171e4"
      },
      "outputs": [
        {
          "output_type": "display_data",
          "data": {
            "text/plain": [
              "<Figure size 432x288 with 1 Axes>"
            ],
            "image/png": "[encoded data removed]"
          },
          "metadata": {
            "needs_background": "light"
          }
        }
      ],
      "source": [
        "import pandas as pd\n",
        "import matplotlib\n",
        "import matplotlib.pyplot as plt\n",
        "import numpy as np\n",
        "data = {'x':  [1,2,7,8],\n",
        "        'y': [2,-1,10,7]}\n",
        "df = pd.DataFrame(data)\n",
        "b1,b0 = np.polyfit(df.x,df.y,1)\n",
        "df['yhat'] = b0 + b1*df['x']\n",
        "#plt.clf()\n",
        "plt.scatter(df.x,df.y)\n",
        "plt.plot(df.x, df.yhat,c=\"orange\")\n",
        "plt.xticks(np.arange(-4,14,1))\n",
        "plt.yticks(np.arange(-2,11,1))\n",
        "\n",
        "for i in range(4):\n",
        "  x=df.x.iloc[i]\n",
        "  ymin= df.y.iloc[i]\n",
        "  ymax=df.yhat.iloc[i]\n",
        "  if (ymin>ymax):\n",
        "    temp=ymax\n",
        "    ymax=ymin\n",
        "    ymin=temp\n",
        "  plt.vlines(x=x,ymin=ymin,ymax=ymax,color='r')\n",
        "\n",
        "plt.axhline(y=0)\n",
        "plt.axvline(x=0)\n",
        "\n",
        "plt.xlabel(\"X\")\n",
        "plt.ylabel(\"Y\")\n",
        "plt.grid()\n",
        "plt.show()"
      ]
    },
    {
      "cell_type": "markdown",
      "source": [
        "# 6 CHALLENGE: Estimate a market regression model"
      ],
      "metadata": {
        "id": "TddlLRXcvzYs"
      }
    },
    {
      "cell_type": "markdown",
      "source": [
        "Calculate cc returns of both stocks and drop NA values"
      ],
      "metadata": {
        "id": "5hwX-QQfv58t"
      }
    },
    {
      "cell_type": "code",
      "source": [
        "import pandas_datareader as pdr\n",
        "import pandas as pd\n",
        "import numpy as np\n",
        "import matplotlib\n",
        "import matplotlib.pyplot as plt\n",
        "\n",
        "# Getting price data and selecting adjusted price columns:\n",
        "sprices = pdr.get_data_yahoo(['ALFAA.MX','^MXX'],start=\"01/01/2018\", end=\"07/31/2022\",interval=\"m\")\n",
        "sprices = sprices['Adj Close']\n",
        "\n",
        "# Calculating returns:\n",
        "sr = np.log(sprices) - np.log(sprices.shift(1))\n",
        "# Deleting the first month with NAs:\n",
        "sr=sr.dropna()\n",
        "sr.columns=['ALFAAret','MXXret']"
      ],
      "metadata": {
        "id": "r4wOlfZ9v3Y9"
      },
      "execution_count": 3,
      "outputs": []
    },
    {
      "cell_type": "markdown",
      "source": [
        "Do a scatter plot including the regression line and interpret the plot"
      ],
      "metadata": {
        "id": "yzJv8cFev8GU"
      }
    },
    {
      "cell_type": "code",
      "source": [
        "sr.plot.scatter(x='MXXret', y='ALFAAret',c='DarkBlue')\n",
        "plt.show()"
      ],
      "metadata": {
        "colab": {
          "base_uri": "https://localhost:8080/",
          "height": 279
        },
        "id": "XHl55Qkrv-Dm",
        "outputId": "be5cd9bb-5414-47cd-a03b-e674311afb91"
      },
      "execution_count": 4,
      "outputs": [
        {
          "output_type": "display_data",
          "data": {
            "text/plain": [
              "<Figure size 432x288 with 1 Axes>"
            ],
            "image/png": "[encoded data removed]"
          },
          "metadata": {
            "needs_background": "light"
          }
        }
      ]
    },
    {
      "cell_type": "markdown",
      "source": [
        "LOS DATOS MANTIENEN UN RELACIÓN POSITIVA, ALFAA PARECE TENER UN INCREMENTO DEL DOBLE DE MXXRET."
      ],
      "metadata": {
        "id": "n7Tf7ZscQK5M"
      }
    },
    {
      "cell_type": "markdown",
      "source": [
        "Scatter plots can be misleading when ranges of X and Y are very different. In this case, Alfa had a very bad month in the COVID crisis with more than 60% decline!\n",
        "\n",
        "Then, we can re-do the scatter plot trying to make the X and Y axis using the same range of values"
      ],
      "metadata": {
        "id": "vQvJO0y6wL7t"
      }
    },
    {
      "cell_type": "code",
      "source": [
        "plt.clf()\n",
        "x=sr['MXXret']\n",
        "y = sr['ALFAAret']\n",
        "plt.scatter(x, y)\n",
        "# Now I add the regression line:\n",
        "# The polyfit function actually calculates the beta0 and beta1 of the linear regression line:\n",
        "b1,b0 = np.polyfit(x,y,1)\n",
        "# With the beta coefficients I calculated the predicted line (yfit)\n",
        "yfit = b0+b1*x\n",
        "plt.plot(x, yfit,c=\"orange\")\n",
        "# I change the range for X trying to make both axis moving in the same range:\n",
        "plt.xticks(np.arange(-0.80,1,0.1))\n",
        "# I label the axis:\n",
        "plt.xlabel(\"Market returns\")\n",
        "plt.ylabel(\"Alfa returns\")\n",
        "\n",
        "plt.show()"
      ],
      "metadata": {
        "colab": {
          "base_uri": "https://localhost:8080/",
          "height": 279
        },
        "id": "NjcGLyWiwJ0d",
        "outputId": "e39d30c3-d5a6-4fb5-a1d9-dde2cdc840ff"
      },
      "execution_count": 5,
      "outputs": [
        {
          "output_type": "display_data",
          "data": {
            "text/plain": [
              "<Figure size 432x288 with 1 Axes>"
            ],
            "image/png": "[encoded data removed]"
          },
          "metadata": {
            "needs_background": "light"
          }
        }
      ]
    },
    {
      "cell_type": "code",
      "source": [
        "# Another faster way to plot a scatter and the regression line:\n",
        "# I use the seaborn library:\n",
        "import seaborn as sns\n",
        "plt.clf()\n",
        "sns.regplot(x, y)\n",
        "plt.xticks(np.arange(-0.80,1,0.1))\n",
        "plt.xlabel(\"Market returns\")\n",
        "plt.ylabel(\"Alfa returns\")\n",
        "\n",
        "plt.show()"
      ],
      "metadata": {
        "colab": {
          "base_uri": "https://localhost:8080/",
          "height": 334
        },
        "id": "xqoLgZzkwO_0",
        "outputId": "6211bca9-2f3f-4b9e-fb10-926fc14e414f"
      },
      "execution_count": 6,
      "outputs": [
        {
          "output_type": "stream",
          "name": "stderr",
          "text": [
            "/usr/local/lib/python3.7/dist-packages/seaborn/_decorators.py:43: FutureWarning: Pass the following variables as keyword args: x, y. From version 0.12, the only valid positional argument will be `data`, and passing other arguments without an explicit keyword will result in an error or misinterpretation.\n",
            "  FutureWarning\n"
          ]
        },
        {
          "output_type": "display_data",
          "data": {
            "text/plain": [
              "<Figure size 432x288 with 1 Axes>"
            ],
            "image/png": "[encoded data removed]"
          },
          "metadata": {
            "needs_background": "light"
          }
        }
      ]
    },
    {
      "cell_type": "markdown",
      "source": [
        "Run the market regression model (the Y=stock return, the X=market return). You can use the function OLS from the statsmodels.api library."
      ],
      "metadata": {
        "id": "jx9yK6xbwVU0"
      }
    },
    {
      "cell_type": "code",
      "source": [
        "import statsmodels.api as sm\n",
        "# I add a column of 1's to the X dataframe in order to include the beta0 coefficient (intercept) in the model:\n",
        "X = sm.add_constant(x)\n",
        "# I estimate the OLS regression model:\n",
        "mkmodel = sm.OLS(y,X).fit()\n",
        "# I display the summary of the regression: \n",
        "print(mkmodel.summary())"
      ],
      "metadata": {
        "colab": {
          "base_uri": "https://localhost:8080/"
        },
        "id": "d-Na0MyIwXps",
        "outputId": "9c8fb280-4990-4def-9715-778b3dce420f"
      },
      "execution_count": 7,
      "outputs": [
        {
          "output_type": "stream",
          "name": "stdout",
          "text": [
            "                            OLS Regression Results                            \n",
            "==============================================================================\n",
            "Dep. Variable:               ALFAAret   R-squared:                       0.351\n",
            "Model:                            OLS   Adj. R-squared:                  0.339\n",
            "Method:                 Least Squares   F-statistic:                     28.13\n",
            "Date:                Mon, 12 Sep 2022   Prob (F-statistic):           2.36e-06\n",
            "Time:                        15:04:38   Log-Likelihood:                 42.633\n",
            "No. Observations:                  54   AIC:                            -81.27\n",
            "Df Residuals:                      52   BIC:                            -77.29\n",
            "Df Model:                           1                                         \n",
            "Covariance Type:            nonrobust                                         \n",
            "==============================================================================\n",
            "                 coef    std err          t      P>|t|      [0.025      0.975]\n",
            "------------------------------------------------------------------------------\n",
            "const         -0.0080      0.015     -0.522      0.604      -0.039       0.023\n",
            "MXXret         1.5387      0.290      5.304      0.000       0.957       2.121\n",
            "==============================================================================\n",
            "Omnibus:                        9.069   Durbin-Watson:                   2.203\n",
            "Prob(Omnibus):                  0.011   Jarque-Bera (JB):               20.490\n",
            "Skew:                          -0.134   Prob(JB):                     3.55e-05\n",
            "Kurtosis:                       6.006   Cond. No.                         19.0\n",
            "==============================================================================\n",
            "\n",
            "Notes:\n",
            "[1] Standard Errors assume that the covariance matrix of the errors is correctly specified.\n"
          ]
        },
        {
          "output_type": "stream",
          "name": "stderr",
          "text": [
            "/usr/local/lib/python3.7/dist-packages/statsmodels/tsa/tsatools.py:142: FutureWarning: In a future version of pandas all arguments of concat except for the argument 'objs' will be keyword-only\n",
            "  x = pd.concat(x[::order], 1)\n"
          ]
        }
      ]
    },
    {
      "cell_type": "code",
      "source": [
        "# I can also run the OLS regression using the ols function \n",
        "import statsmodels.formula.api as smf\n",
        "\n",
        "mkmodel2 = smf.ols('ALFAAret ~ MXXret',data=sr).fit()\n",
        "# This function does not require to add the column of 1's to include the intercept!\n",
        "print(mkmodel2.summary())"
      ],
      "metadata": {
        "colab": {
          "base_uri": "https://localhost:8080/"
        },
        "id": "V73WgSbqwieE",
        "outputId": "e425d5c7-3589-4da7-9547-e516231f7816"
      },
      "execution_count": 8,
      "outputs": [
        {
          "output_type": "stream",
          "name": "stdout",
          "text": [
            "                            OLS Regression Results                            \n",
            "==============================================================================\n",
            "Dep. Variable:               ALFAAret   R-squared:                       0.351\n",
            "Model:                            OLS   Adj. R-squared:                  0.339\n",
            "Method:                 Least Squares   F-statistic:                     28.13\n",
            "Date:                Mon, 12 Sep 2022   Prob (F-statistic):           2.36e-06\n",
            "Time:                        15:04:39   Log-Likelihood:                 42.633\n",
            "No. Observations:                  54   AIC:                            -81.27\n",
            "Df Residuals:                      52   BIC:                            -77.29\n",
            "Df Model:                           1                                         \n",
            "Covariance Type:            nonrobust                                         \n",
            "==============================================================================\n",
            "                 coef    std err          t      P>|t|      [0.025      0.975]\n",
            "------------------------------------------------------------------------------\n",
            "Intercept     -0.0080      0.015     -0.522      0.604      -0.039       0.023\n",
            "MXXret         1.5387      0.290      5.304      0.000       0.957       2.121\n",
            "==============================================================================\n",
            "Omnibus:                        9.069   Durbin-Watson:                   2.203\n",
            "Prob(Omnibus):                  0.011   Jarque-Bera (JB):               20.490\n",
            "Skew:                          -0.134   Prob(JB):                     3.55e-05\n",
            "Kurtosis:                       6.006   Cond. No.                         19.0\n",
            "==============================================================================\n",
            "\n",
            "Notes:\n",
            "[1] Standard Errors assume that the covariance matrix of the errors is correctly specified.\n"
          ]
        }
      ]
    },
    {
      "cell_type": "code",
      "source": [
        "# Using matrix algebra to estimate the beta coefficients:\n",
        "# I add the column of 1's to the dataframe:\n",
        "sr['constant'] = 1\n",
        "selcols = ['constant','MXXret']\n",
        "# I set x as a matrix with the column of 1's and the values of X:\n",
        "x = sr[selcols].values\n",
        "# I set y as the dependent variable:\n",
        "y = sr['ALFAAret'].values\n",
        "# I calculate the matrix multiplication X'X:\n",
        "xtx = np.matmul(x.transpose(),x)\n",
        "# I calculate the matrix multiplication X'Y:\n",
        "xty = np.matmul(x.transpose(),y)\n",
        "# I get the inverse of the matrix (X'X) to solve for the beta coefficients:\n",
        "invtxt = np.linalg.inv(xtx)\n",
        "# I multiply inv(X'X)*X'Y to get the estimation of the beta vector (beta0 and beta1 coefficients) \n",
        "betas = np.matmul(invtxt,xty)\n",
        "betas"
      ],
      "metadata": {
        "colab": {
          "base_uri": "https://localhost:8080/"
        },
        "id": "47EKJLVDwp27",
        "outputId": "e1778028-6410-47d1-8d20-5401e1f5903f"
      },
      "execution_count": 9,
      "outputs": [
        {
          "output_type": "execute_result",
          "data": {
            "text/plain": [
              "array([-0.00795217,  1.53870365])"
            ]
          },
          "metadata": {},
          "execution_count": 9
        }
      ]
    },
    {
      "cell_type": "markdown",
      "source": [
        "The regression equation is: E[ALFAret]= -0.0075056132861929395 + 1.5273762316983732*MXXret."
      ],
      "metadata": {
        "id": "BOYkkJTdwtTM"
      }
    },
    {
      "cell_type": "markdown",
      "source": [
        "# 8 CHALLENGE: Estimate moving betas for the market regression model"
      ],
      "metadata": {
        "id": "mKM51c1ZwzYs"
      }
    },
    {
      "cell_type": "markdown",
      "source": [
        "Download monthly stock prices for ALFAA.MX and the market (^MXX) from Jan 2010 to Jul 2022, and calculate cc returns."
      ],
      "metadata": {
        "id": "cUN3l4fuw1JF"
      }
    },
    {
      "cell_type": "code",
      "source": [
        "# Getting price data and selecting adjusted price columns:\n",
        "sprices = pdr.get_data_yahoo(['ALFAA.MX','^MXX'],start=\"01/01/2010\", end=\"07/31/2022\",interval=\"m\")\n",
        "sprices = sprices['Adj Close']\n",
        "\n",
        "# Calculating returns:\n",
        "sr = np.log(sprices) - np.log(sprices.shift(1))\n",
        "# Deleting the first month with NAs:\n",
        "sr=sr.dropna()\n",
        "sr.columns=['ALFAAret','MXXret']"
      ],
      "metadata": {
        "id": "JK5SrjOUw65E"
      },
      "execution_count": 10,
      "outputs": []
    },
    {
      "cell_type": "markdown",
      "source": [
        "Run rolling regressions and save the moving and coefficients for all time windows."
      ],
      "metadata": {
        "id": "Onux8CyZw8of"
      }
    },
    {
      "cell_type": "code",
      "source": [
        "from statsmodels.regression.rolling import RollingOLS\n",
        "x=sm.add_constant(sr['MXXret'])\n",
        "y = sr['ALFAAret']\n",
        "rolreg = RollingOLS(y,x,window=36).fit()\n",
        "betas = rolreg.params\n",
        "# I check the last pairs of beta values:\n",
        "betas.tail()"
      ],
      "metadata": {
        "colab": {
          "base_uri": "https://localhost:8080/",
          "height": 292
        },
        "id": "hbPdOeS3w-bN",
        "outputId": "5d7ed9e3-ddb6-4c89-d214-e228df949927"
      },
      "execution_count": 11,
      "outputs": [
        {
          "output_type": "stream",
          "name": "stderr",
          "text": [
            "/usr/local/lib/python3.7/dist-packages/statsmodels/tsa/tsatools.py:142: FutureWarning: In a future version of pandas all arguments of concat except for the argument 'objs' will be keyword-only\n",
            "  x = pd.concat(x[::order], 1)\n"
          ]
        },
        {
          "output_type": "execute_result",
          "data": {
            "text/plain": [
              "               const    MXXret\n",
              "Date                          \n",
              "2022-03-01 -0.022426  1.877835\n",
              "2022-04-01 -0.016308  1.803981\n",
              "2022-05-01 -0.014117  1.816946\n",
              "2022-06-01 -0.012129  1.720952\n",
              "2022-07-01 -0.012282  1.706227"
            ],
            "text/html": [
              "\n",
              "  <div id=\"df-2ff534c1-04b7-4e5f-b2ad-89f034c4e4cc\">\n",
              "    <div class=\"colab-df-container\">\n",
              "      <div>\n",
              "<style scoped>\n",
              "    .dataframe tbody tr th:only-of-type {\n",
              "        vertical-align: middle;\n",
              "    }\n",
              "\n",
              "    .dataframe tbody tr th {\n",
              "        vertical-align: top;\n",
              "    }\n",
              "\n",
              "    .dataframe thead th {\n",
              "        text-align: right;\n",
              "    }\n",
              "</style>\n",
              "<table border=\"1\" class=\"dataframe\">\n",
              "  <thead>\n",
              "    <tr style=\"text-align: right;\">\n",
              "      <th></th>\n",
              "      <th>const</th>\n",
              "      <th>MXXret</th>\n",
              "    </tr>\n",
              "    <tr>\n",
              "      <th>Date</th>\n",
              "      <th></th>\n",
              "      <th></th>\n",
              "    </tr>\n",
              "  </thead>\n",
              "  <tbody>\n",
              "    <tr>\n",
              "      <th>2022-03-01</th>\n",
              "      <td>-0.022426</td>\n",
              "      <td>1.877835</td>\n",
              "    </tr>\n",
              "    <tr>\n",
              "      <th>2022-04-01</th>\n",
              "      <td>-0.016308</td>\n",
              "      <td>1.803981</td>\n",
              "    </tr>\n",
              "    <tr>\n",
              "      <th>2022-05-01</th>\n",
              "      <td>-0.014117</td>\n",
              "      <td>1.816946</td>\n",
              "    </tr>\n",
              "    <tr>\n",
              "      <th>2022-06-01</th>\n",
              "      <td>-0.012129</td>\n",
              "      <td>1.720952</td>\n",
              "    </tr>\n",
              "    <tr>\n",
              "      <th>2022-07-01</th>\n",
              "      <td>-0.012282</td>\n",
              "      <td>1.706227</td>\n",
              "    </tr>\n",
              "  </tbody>\n",
              "</table>\n",
              "</div>\n",
              "      <button class=\"colab-df-convert\" onclick=\"convertToInteractive('df-2ff534c1-04b7-4e5f-b2ad-89f034c4e4cc')\"\n",
              "              title=\"Convert this dataframe to an interactive table.\"\n",
              "              style=\"display:none;\">\n",
              "        \n",
              "  <svg xmlns=\"http://www.w3.org/2000/svg\" height=\"24px\"viewBox=\"0 0 24 24\"\n",
              "       width=\"24px\">\n",
              "    <path d=\"M0 0h24v24H0V0z\" fill=\"none\"/>\n",
              "    <path d=\"M18.56 5.44l.94 2.06.94-2.06 2.06-.94-2.06-.94-.94-2.06-.94 2.06-2.06.94zm-11 1L8.5 8.5l.94-2.06 2.06-.94-2.06-.94L8.5 2.5l-.94 2.06-2.06.94zm10 10l.94 2.06.94-2.06 2.06-.94-2.06-.94-.94-2.06-.94 2.06-2.06.94z\"/><path d=\"M17.41 7.96l-1.37-1.37c-.4-.4-.92-.59-1.43-.59-.52 0-1.04.2-1.43.59L10.3 9.45l-7.72 7.72c-.78.78-.78 2.05 0 2.83L4 21.41c.39.39.9.59 1.41.59.51 0 1.02-.2 1.41-.59l7.78-7.78 2.81-2.81c.8-.78.8-2.07 0-2.86zM5.41 20L4 18.59l7.72-7.72 1.47 1.35L5.41 20z\"/>\n",
              "  </svg>\n",
              "      </button>\n",
              "      \n",
              "  <style>\n",
              "    .colab-df-container {\n",
              "      display:flex;\n",
              "      flex-wrap:wrap;\n",
              "      gap: 12px;\n",
              "    }\n",
              "\n",
              "    .colab-df-convert {\n",
              "      background-color: #E8F0FE;\n",
              "      border: none;\n",
              "      border-radius: 50%;\n",
              "      cursor: pointer;\n",
              "      display: none;\n",
              "      fill: #1967D2;\n",
              "      height: 32px;\n",
              "      padding: 0 0 0 0;\n",
              "      width: 32px;\n",
              "    }\n",
              "\n",
              "    .colab-df-convert:hover {\n",
              "      background-color: #E2EBFA;\n",
              "      box-shadow: 0px 1px 2px rgba(60, 64, 67, 0.3), 0px 1px 3px 1px rgba(60, 64, 67, 0.15);\n",
              "      fill: #174EA6;\n",
              "    }\n",
              "\n",
              "    [theme=dark] .colab-df-convert {\n",
              "      background-color: #3B4455;\n",
              "      fill: #D2E3FC;\n",
              "    }\n",
              "\n",
              "    [theme=dark] .colab-df-convert:hover {\n",
              "      background-color: #434B5C;\n",
              "      box-shadow: 0px 1px 3px 1px rgba(0, 0, 0, 0.15);\n",
              "      filter: drop-shadow(0px 1px 2px rgba(0, 0, 0, 0.3));\n",
              "      fill: #FFFFFF;\n",
              "    }\n",
              "  </style>\n",
              "\n",
              "      <script>\n",
              "        const buttonEl =\n",
              "          document.querySelector('#df-2ff534c1-04b7-4e5f-b2ad-89f034c4e4cc button.colab-df-convert');\n",
              "        buttonEl.style.display =\n",
              "          google.colab.kernel.accessAllowed ? 'block' : 'none';\n",
              "\n",
              "        async function convertToInteractive(key) {\n",
              "          const element = document.querySelector('#df-2ff534c1-04b7-4e5f-b2ad-89f034c4e4cc');\n",
              "          const dataTable =\n",
              "            await google.colab.kernel.invokeFunction('convertToInteractive',\n",
              "                                                     [key], {});\n",
              "          if (!dataTable) return;\n",
              "\n",
              "          const docLinkHtml = 'Like what you see? Visit the ' +\n",
              "            '<a target=\"_blank\" href=https://colab.research.google.com/notebooks/data_table.ipynb>data table notebook</a>'\n",
              "            + ' to learn more about interactive tables.';\n",
              "          element.innerHTML = '';\n",
              "          dataTable['output_type'] = 'display_data';\n",
              "          await google.colab.output.renderOutput(dataTable, element);\n",
              "          const docLink = document.createElement('div');\n",
              "          docLink.innerHTML = docLinkHtml;\n",
              "          element.appendChild(docLink);\n",
              "        }\n",
              "      </script>\n",
              "    </div>\n",
              "  </div>\n",
              "  "
            ]
          },
          "metadata": {},
          "execution_count": 11
        }
      ]
    },
    {
      "cell_type": "markdown",
      "source": [
        "Do a plot to see how b1 and b0 has changed over time."
      ],
      "metadata": {
        "id": "p0DBPOoIxA1E"
      }
    },
    {
      "cell_type": "code",
      "source": [
        "plt.clf()\n",
        "plt.plot(betas['MXXret'])\n",
        "plt.title('Moving beta1 for Alfaa')\n",
        "plt.xlabel('Date')\n",
        "plt.ylabel('beta1')\n",
        "plt.show()"
      ],
      "metadata": {
        "colab": {
          "base_uri": "https://localhost:8080/",
          "height": 295
        },
        "id": "dMVSSufxxHJL",
        "outputId": "54cf6ac0-1a58-49dd-b2e8-fdc1af511102"
      },
      "execution_count": 12,
      "outputs": [
        {
          "output_type": "display_data",
          "data": {
            "text/plain": [
              "<Figure size 432x288 with 1 Axes>"
            ],
            "image/png": "[encoded data removed]"
          },
          "metadata": {
            "needs_background": "light"
          }
        }
      ]
    },
    {
      "cell_type": "code",
      "source": [
        "plt.clf()\n",
        "plt.plot(betas['const'])\n",
        "plt.title('Moving beta0 for Alfaa')\n",
        "plt.xlabel('Date')\n",
        "plt.ylabel('beta0')\n",
        "plt.show()"
      ],
      "metadata": {
        "colab": {
          "base_uri": "https://localhost:8080/",
          "height": 295
        },
        "id": "tacEnueKxJDM",
        "outputId": "f95fa584-3e16-45ea-e04a-bddb8727e40e"
      },
      "execution_count": 13,
      "outputs": [
        {
          "output_type": "display_data",
          "data": {
            "text/plain": [
              "<Figure size 432x288 with 1 Axes>"
            ],
            "image/png": "[encoded data removed]"
          },
          "metadata": {
            "needs_background": "light"
          }
        }
      ]
    },
    {
      "cell_type": "markdown",
      "source": [
        "We can actually calculate the mean and standard deviation of all these pairs of moving beta coefficients and see how they compare with their beta coefficients and their standard errors of the original regression when we use only 1 sample with the last 36 months:"
      ],
      "metadata": {
        "id": "5qTh3AM8xM87"
      }
    },
    {
      "cell_type": "code",
      "source": [
        "betas.describe()"
      ],
      "metadata": {
        "colab": {
          "base_uri": "https://localhost:8080/",
          "height": 300
        },
        "id": "FWg-AGsQxOZ9",
        "outputId": "69ff12cf-d813-4ca6-b328-9adf7b4587f6"
      },
      "execution_count": 14,
      "outputs": [
        {
          "output_type": "execute_result",
          "data": {
            "text/plain": [
              "            const      MXXret\n",
              "count  115.000000  115.000000\n",
              "mean    -0.002615    1.513427\n",
              "std      0.015600    0.402208\n",
              "min     -0.025598    0.671151\n",
              "25%     -0.014346    1.133487\n",
              "50%     -0.009506    1.546795\n",
              "75%      0.008243    1.794689\n",
              "max      0.030594    2.343574"
            ],
            "text/html": [
              "\n",
              "  <div id=\"df-656ca1c0-1a4d-46e3-a91c-e130ea8d0b61\">\n",
              "    <div class=\"colab-df-container\">\n",
              "      <div>\n",
              "<style scoped>\n",
              "    .dataframe tbody tr th:only-of-type {\n",
              "        vertical-align: middle;\n",
              "    }\n",
              "\n",
              "    .dataframe tbody tr th {\n",
              "        vertical-align: top;\n",
              "    }\n",
              "\n",
              "    .dataframe thead th {\n",
              "        text-align: right;\n",
              "    }\n",
              "</style>\n",
              "<table border=\"1\" class=\"dataframe\">\n",
              "  <thead>\n",
              "    <tr style=\"text-align: right;\">\n",
              "      <th></th>\n",
              "      <th>const</th>\n",
              "      <th>MXXret</th>\n",
              "    </tr>\n",
              "  </thead>\n",
              "  <tbody>\n",
              "    <tr>\n",
              "      <th>count</th>\n",
              "      <td>115.000000</td>\n",
              "      <td>115.000000</td>\n",
              "    </tr>\n",
              "    <tr>\n",
              "      <th>mean</th>\n",
              "      <td>-0.002615</td>\n",
              "      <td>1.513427</td>\n",
              "    </tr>\n",
              "    <tr>\n",
              "      <th>std</th>\n",
              "      <td>0.015600</td>\n",
              "      <td>0.402208</td>\n",
              "    </tr>\n",
              "    <tr>\n",
              "      <th>min</th>\n",
              "      <td>-0.025598</td>\n",
              "      <td>0.671151</td>\n",
              "    </tr>\n",
              "    <tr>\n",
              "      <th>25%</th>\n",
              "      <td>-0.014346</td>\n",
              "      <td>1.133487</td>\n",
              "    </tr>\n",
              "    <tr>\n",
              "      <th>50%</th>\n",
              "      <td>-0.009506</td>\n",
              "      <td>1.546795</td>\n",
              "    </tr>\n",
              "    <tr>\n",
              "      <th>75%</th>\n",
              "      <td>0.008243</td>\n",
              "      <td>1.794689</td>\n",
              "    </tr>\n",
              "    <tr>\n",
              "      <th>max</th>\n",
              "      <td>0.030594</td>\n",
              "      <td>2.343574</td>\n",
              "    </tr>\n",
              "  </tbody>\n",
              "</table>\n",
              "</div>\n",
              "      <button class=\"colab-df-convert\" onclick=\"convertToInteractive('df-656ca1c0-1a4d-46e3-a91c-e130ea8d0b61')\"\n",
              "              title=\"Convert this dataframe to an interactive table.\"\n",
              "              style=\"display:none;\">\n",
              "        \n",
              "  <svg xmlns=\"http://www.w3.org/2000/svg\" height=\"24px\"viewBox=\"0 0 24 24\"\n",
              "       width=\"24px\">\n",
              "    <path d=\"M0 0h24v24H0V0z\" fill=\"none\"/>\n",
              "    <path d=\"M18.56 5.44l.94 2.06.94-2.06 2.06-.94-2.06-.94-.94-2.06-.94 2.06-2.06.94zm-11 1L8.5 8.5l.94-2.06 2.06-.94-2.06-.94L8.5 2.5l-.94 2.06-2.06.94zm10 10l.94 2.06.94-2.06 2.06-.94-2.06-.94-.94-2.06-.94 2.06-2.06.94z\"/><path d=\"M17.41 7.96l-1.37-1.37c-.4-.4-.92-.59-1.43-.59-.52 0-1.04.2-1.43.59L10.3 9.45l-7.72 7.72c-.78.78-.78 2.05 0 2.83L4 21.41c.39.39.9.59 1.41.59.51 0 1.02-.2 1.41-.59l7.78-7.78 2.81-2.81c.8-.78.8-2.07 0-2.86zM5.41 20L4 18.59l7.72-7.72 1.47 1.35L5.41 20z\"/>\n",
              "  </svg>\n",
              "      </button>\n",
              "      \n",
              "  <style>\n",
              "    .colab-df-container {\n",
              "      display:flex;\n",
              "      flex-wrap:wrap;\n",
              "      gap: 12px;\n",
              "    }\n",
              "\n",
              "    .colab-df-convert {\n",
              "      background-color: #E8F0FE;\n",
              "      border: none;\n",
              "      border-radius: 50%;\n",
              "      cursor: pointer;\n",
              "      display: none;\n",
              "      fill: #1967D2;\n",
              "      height: 32px;\n",
              "      padding: 0 0 0 0;\n",
              "      width: 32px;\n",
              "    }\n",
              "\n",
              "    .colab-df-convert:hover {\n",
              "      background-color: #E2EBFA;\n",
              "      box-shadow: 0px 1px 2px rgba(60, 64, 67, 0.3), 0px 1px 3px 1px rgba(60, 64, 67, 0.15);\n",
              "      fill: #174EA6;\n",
              "    }\n",
              "\n",
              "    [theme=dark] .colab-df-convert {\n",
              "      background-color: #3B4455;\n",
              "      fill: #D2E3FC;\n",
              "    }\n",
              "\n",
              "    [theme=dark] .colab-df-convert:hover {\n",
              "      background-color: #434B5C;\n",
              "      box-shadow: 0px 1px 3px 1px rgba(0, 0, 0, 0.15);\n",
              "      filter: drop-shadow(0px 1px 2px rgba(0, 0, 0, 0.3));\n",
              "      fill: #FFFFFF;\n",
              "    }\n",
              "  </style>\n",
              "\n",
              "      <script>\n",
              "        const buttonEl =\n",
              "          document.querySelector('#df-656ca1c0-1a4d-46e3-a91c-e130ea8d0b61 button.colab-df-convert');\n",
              "        buttonEl.style.display =\n",
              "          google.colab.kernel.accessAllowed ? 'block' : 'none';\n",
              "\n",
              "        async function convertToInteractive(key) {\n",
              "          const element = document.querySelector('#df-656ca1c0-1a4d-46e3-a91c-e130ea8d0b61');\n",
              "          const dataTable =\n",
              "            await google.colab.kernel.invokeFunction('convertToInteractive',\n",
              "                                                     [key], {});\n",
              "          if (!dataTable) return;\n",
              "\n",
              "          const docLinkHtml = 'Like what you see? Visit the ' +\n",
              "            '<a target=\"_blank\" href=https://colab.research.google.com/notebooks/data_table.ipynb>data table notebook</a>'\n",
              "            + ' to learn more about interactive tables.';\n",
              "          element.innerHTML = '';\n",
              "          dataTable['output_type'] = 'display_data';\n",
              "          await google.colab.output.renderOutput(dataTable, element);\n",
              "          const docLink = document.createElement('div');\n",
              "          docLink.innerHTML = docLinkHtml;\n",
              "          element.appendChild(docLink);\n",
              "        }\n",
              "      </script>\n",
              "    </div>\n",
              "  </div>\n",
              "  "
            ]
          },
          "metadata": {},
          "execution_count": 14
        }
      ]
    }
  ]
}